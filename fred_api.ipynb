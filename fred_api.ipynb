{
 "cells": [
  {
   "cell_type": "code",
   "execution_count": 1,
   "metadata": {},
   "outputs": [],
   "source": [
    "apik_fred = ''"
   ]
  },
  {
   "cell_type": "code",
   "execution_count": 2,
   "metadata": {},
   "outputs": [],
   "source": [
    "import requests\n",
    "import datetime as dt\n",
    "import json\n",
    "import pandas as pd\n",
    "\n",
    "def fred_data(series_id,\n",
    "              api_key=apik_fred,\n",
    "              file_type='json',\n",
    "              frequency='d',\n",
    "              raw=False,\n",
    "              write_to=False):\n",
    "    \n",
    "    # series_id = string, symbol from fred\n",
    "    # filetype options: xml, json, txt, xls\n",
    "    # frequency options: d = daily, w = weekly, bw = biweekly\n",
    "    # m = monthly, q = quarterly, sa = semiannual, a = annual\n",
    "    # raw=True will skip the preprocessing and return the raw data\n",
    "    # write_to=write dataframe to supported filetype: csv, json, pkl\n",
    "    \n",
    "    url = 'https://api.stlouisfed.org/fred/series/observations?series_id={}&api_key={}&file_type={}&frequency={}'\\\n",
    "                  .format(series_id,\n",
    "                          api_key,\n",
    "                          file_type,\n",
    "                          frequency)\n",
    "    \n",
    "    response = requests.get(url)\n",
    "    data = response.json()['observations']\n",
    "    df = pd.DataFrame(data)\n",
    "    \n",
    "    if raw is False:\n",
    "        df.drop(['realtime_end', 'realtime_start'], axis=1, inplace=True)\n",
    "        df['date'] = pd.to_datetime(df.date, format='%Y-%m-%d')\n",
    "        df.rename(columns={'value':series_id.lower()}, inplace=True)\n",
    "        \n",
    "    return_df=True\n",
    "    if write_to is not False:\n",
    "        return_df=False\n",
    "        date = dt.datetime.today().strftime('%Y-%m-%d')\n",
    "        filename = series_id.lower() + '_data_' + date + '.{}'.format(write_to)\n",
    "        write_df(df, write_to, filename)\n",
    "        \n",
    "    if return_df is True:\n",
    "        return df\n",
    "\n",
    "def write_df(df, write_to, filename):\n",
    "    write_to = write_to.lower()\n",
    "    if write_to == 'csv':\n",
    "        df.to_csv('{}'.format(filename), index=False)\n",
    "    elif write_to == 'pkl':\n",
    "        df.to_pickle('{}'.format(filename))\n",
    "    elif write_to == 'json':\n",
    "        df.to_json('{}'.format(filename), orient='split')\n",
    "    else:\n",
    "        print('function does not support writing to {}'.format(write_to))\n",
    "        print('supported filetypes: csv, json, pkl')"
   ]
  },
  {
   "cell_type": "code",
   "execution_count": 3,
   "metadata": {},
   "outputs": [],
   "source": [
    "indicies = {\n",
    "    'VIXCLS':'d', # cboe volatility index\n",
    "    'TWEXB':'w', # trade weighted usd index\n",
    "    'EFFR':'d' # effective federal funds rate\n",
    "    } \n",
    "\n",
    "for symbol, freq in indicies.items():\n",
    "    fred_data(series_id=symbol, frequency=freq, write_to='json')"
   ]
  }
 ],
 "metadata": {
  "kernelspec": {
   "display_name": "Python 3",
   "language": "python",
   "name": "python3"
  },
  "language_info": {
   "codemirror_mode": {
    "name": "ipython",
    "version": 3
   },
   "file_extension": ".py",
   "mimetype": "text/x-python",
   "name": "python",
   "nbconvert_exporter": "python",
   "pygments_lexer": "ipython3",
   "version": "3.6.5"
  }
 },
 "nbformat": 4,
 "nbformat_minor": 2
}
