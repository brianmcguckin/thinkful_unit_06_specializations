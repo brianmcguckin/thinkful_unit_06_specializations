{
 "cells": [
  {
   "cell_type": "code",
   "execution_count": 20,
   "metadata": {},
   "outputs": [],
   "source": [
    "import requests\n",
    "import datetime\n",
    "import pandas as pd"
   ]
  },
  {
   "cell_type": "markdown",
   "metadata": {},
   "source": [
    "[api call function modified from this tutorial](https://medium.com/@galea/cryptocompare-api-quick-start-guide-ca4430a484d4)"
   ]
  },
  {
   "cell_type": "code",
   "execution_count": 21,
   "metadata": {},
   "outputs": [],
   "source": [
    "def coin_data(symbol, comparison_symbol, all_data=True, rows=1, aggregate=1):\n",
    "    # symbol = symbol for the coin you want data for\n",
    "    # comparison_symbol = symbol for the currency you want coin prices in\n",
    "    # subset the data: set all_data=False use rows parameter to specify\n",
    "    # set to_csv=True to write to dataframe\n",
    "    \n",
    "    url = 'https://min-api.cryptocompare.com/data/histoday?fsym={}&tsym={}&limit={}&aggregate={}'\\\n",
    "            .format(symbol.upper(),\n",
    "                    comparison_symbol.upper(),\n",
    "                    rows,\n",
    "                    aggregate)\n",
    "    \n",
    "    if all_data:\n",
    "        url += '&allData=true'\n",
    "        \n",
    "    page = requests.get(url)\n",
    "    data = page.json()['Data']\n",
    "    df = pd.DataFrame(data)\n",
    "    df['date'] = [datetime.datetime.fromtimestamp(d) for d in df.time]\n",
    "    df.drop('time', axis=1, inplace=True)\n",
    "    return df"
   ]
  },
  {
   "cell_type": "code",
   "execution_count": 22,
   "metadata": {},
   "outputs": [],
   "source": [
    "# collect coin data\n",
    "eth_raw = coin_data('ETH', 'USD')\n",
    "btc_raw = coin_data('BTC', 'USD')\n",
    "xrp_raw = coin_data('XRP', 'USD')\n",
    "eos_raw = coin_data('EOS', 'USD')\n",
    "ltc_raw = coin_data('LTC', 'USD')\n",
    "xlm_raw = coin_data('XLM', 'USD')\n",
    "xmr_raw = coin_data('XMR', 'USD')"
   ]
  },
  {
   "cell_type": "code",
   "execution_count": 7,
   "metadata": {},
   "outputs": [
    {
     "data": {
      "text/html": [
       "<div>\n",
       "<style scoped>\n",
       "    .dataframe tbody tr th:only-of-type {\n",
       "        vertical-align: middle;\n",
       "    }\n",
       "\n",
       "    .dataframe tbody tr th {\n",
       "        vertical-align: top;\n",
       "    }\n",
       "\n",
       "    .dataframe thead th {\n",
       "        text-align: right;\n",
       "    }\n",
       "</style>\n",
       "<table border=\"1\" class=\"dataframe\">\n",
       "  <thead>\n",
       "    <tr style=\"text-align: right;\">\n",
       "      <th></th>\n",
       "      <th>close</th>\n",
       "      <th>high</th>\n",
       "      <th>low</th>\n",
       "      <th>open</th>\n",
       "      <th>volumefrom</th>\n",
       "      <th>volumeto</th>\n",
       "      <th>timestamp</th>\n",
       "    </tr>\n",
       "  </thead>\n",
       "  <tbody>\n",
       "    <tr>\n",
       "      <th>0</th>\n",
       "      <td>3.00</td>\n",
       "      <td>3.0</td>\n",
       "      <td>0.6747</td>\n",
       "      <td>0.6747</td>\n",
       "      <td>123.93</td>\n",
       "      <td>371.79</td>\n",
       "      <td>2015-08-06 19:00:00</td>\n",
       "    </tr>\n",
       "    <tr>\n",
       "      <th>1</th>\n",
       "      <td>1.20</td>\n",
       "      <td>3.0</td>\n",
       "      <td>0.1500</td>\n",
       "      <td>3.0000</td>\n",
       "      <td>2119.43</td>\n",
       "      <td>1438.16</td>\n",
       "      <td>2015-08-07 19:00:00</td>\n",
       "    </tr>\n",
       "    <tr>\n",
       "      <th>2</th>\n",
       "      <td>1.20</td>\n",
       "      <td>1.2</td>\n",
       "      <td>1.2000</td>\n",
       "      <td>1.2000</td>\n",
       "      <td>0.00</td>\n",
       "      <td>0.00</td>\n",
       "      <td>2015-08-08 19:00:00</td>\n",
       "    </tr>\n",
       "    <tr>\n",
       "      <th>3</th>\n",
       "      <td>1.20</td>\n",
       "      <td>1.2</td>\n",
       "      <td>1.2000</td>\n",
       "      <td>1.2000</td>\n",
       "      <td>0.00</td>\n",
       "      <td>0.00</td>\n",
       "      <td>2015-08-09 19:00:00</td>\n",
       "    </tr>\n",
       "    <tr>\n",
       "      <th>4</th>\n",
       "      <td>0.99</td>\n",
       "      <td>1.2</td>\n",
       "      <td>0.6504</td>\n",
       "      <td>1.2000</td>\n",
       "      <td>9486.09</td>\n",
       "      <td>7419.73</td>\n",
       "      <td>2015-08-10 19:00:00</td>\n",
       "    </tr>\n",
       "  </tbody>\n",
       "</table>\n",
       "</div>"
      ],
      "text/plain": [
       "   close  high     low    open  volumefrom  volumeto           timestamp\n",
       "0   3.00   3.0  0.6747  0.6747      123.93    371.79 2015-08-06 19:00:00\n",
       "1   1.20   3.0  0.1500  3.0000     2119.43   1438.16 2015-08-07 19:00:00\n",
       "2   1.20   1.2  1.2000  1.2000        0.00      0.00 2015-08-08 19:00:00\n",
       "3   1.20   1.2  1.2000  1.2000        0.00      0.00 2015-08-09 19:00:00\n",
       "4   0.99   1.2  0.6504  1.2000     9486.09   7419.73 2015-08-10 19:00:00"
      ]
     },
     "execution_count": 7,
     "metadata": {},
     "output_type": "execute_result"
    }
   ],
   "source": [
    "# inspect output\n",
    "eth_raw.head()"
   ]
  },
  {
   "cell_type": "code",
   "execution_count": 26,
   "metadata": {},
   "outputs": [],
   "source": [
    "eth_raw.to_csv('eth_raw.csv', index=False)\n",
    "btc_raw.to_csv('btc_raw.csv', index=False)\n",
    "xrp_raw.to_csv('xrp_raw.csv', index=False)\n",
    "eos_raw.to_csv('eos_raw.csv', index=False)\n",
    "ltc_raw.to_csv('ltc_raw.csv', index=False)\n",
    "xlm_raw.to_csv('xlm_raw.csv', index=False)\n",
    "xmr_raw.to_csv('xmr_raw.csv', index=False)"
   ]
  },
  {
   "cell_type": "code",
   "execution_count": 27,
   "metadata": {},
   "outputs": [
    {
     "name": "stdout",
     "output_type": "stream",
     "text": [
      "<class 'pandas.core.frame.DataFrame'>\n",
      "RangeIndex: 1131 entries, 0 to 1130\n",
      "Data columns (total 7 columns):\n",
      "close         1131 non-null float64\n",
      "high          1131 non-null float64\n",
      "low           1131 non-null float64\n",
      "open          1131 non-null float64\n",
      "volumefrom    1131 non-null float64\n",
      "volumeto      1131 non-null float64\n",
      "timestamp     1131 non-null datetime64[ns]\n",
      "dtypes: datetime64[ns](1), float64(6)\n",
      "memory usage: 61.9 KB\n"
     ]
    }
   ],
   "source": [
    "eth_raw.info()"
   ]
  },
  {
   "cell_type": "code",
   "execution_count": null,
   "metadata": {},
   "outputs": [],
   "source": []
  }
 ],
 "metadata": {
  "kernelspec": {
   "display_name": "Python 3",
   "language": "python",
   "name": "python3"
  },
  "language_info": {
   "codemirror_mode": {
    "name": "ipython",
    "version": 3
   },
   "file_extension": ".py",
   "mimetype": "text/x-python",
   "name": "python",
   "nbconvert_exporter": "python",
   "pygments_lexer": "ipython3",
   "version": "3.6.5"
  }
 },
 "nbformat": 4,
 "nbformat_minor": 2
}
