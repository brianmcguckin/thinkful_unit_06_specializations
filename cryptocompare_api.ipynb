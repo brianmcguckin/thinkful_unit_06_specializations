{
 "cells": [
  {
   "cell_type": "code",
   "execution_count": 16,
   "metadata": {},
   "outputs": [],
   "source": [
    "import requests\n",
    "import datetime\n",
    "import pandas as pd"
   ]
  },
  {
   "cell_type": "markdown",
   "metadata": {},
   "source": [
    "[api call function modified from this tutorial](https://medium.com/@galea/cryptocompare-api-quick-start-guide-ca4430a484d4)"
   ]
  },
  {
   "cell_type": "code",
   "execution_count": 143,
   "metadata": {},
   "outputs": [],
   "source": [
    "# this function currently outputs the way other notebooks are set up to use\n",
    "def coin_data(symbol, comparison_symbol='USD', all_data=True, rows=1, aggregate=1):\n",
    "    # symbol = symbol for the coin you want data for\n",
    "    # comparison_symbol = symbol for the currency you want coin prices in\n",
    "    # subset the data: set all_data=False use rows parameter to specify\n",
    "    \n",
    "    url = 'https://min-api.cryptocompare.com/data/histoday?fsym={}&tsym={}&limit={}&aggregate={}'\\\n",
    "            .format(symbol.upper(),\n",
    "                    comparison_symbol.upper(),\n",
    "                    rows,\n",
    "                    aggregate)\n",
    "    \n",
    "    if all_data:\n",
    "        url += '&allData=true'\n",
    "        \n",
    "    page = requests.get(url)\n",
    "    data = page.json()['Data']\n",
    "    df = pd.DataFrame(data)\n",
    "    df['date'] = [datetime.datetime.fromtimestamp(d) for d in df.time]\n",
    "    df.drop('time', axis=1, inplace=True)\n",
    "    return df"
   ]
  },
  {
   "cell_type": "code",
   "execution_count": 168,
   "metadata": {},
   "outputs": [],
   "source": [
    "# rework function to output cleaner df and give option to write to file\n",
    "\n",
    "def coin_data2(symbol,\n",
    "               comparison_symbol='USD',\n",
    "               all_data=True,\n",
    "               rows=1,\n",
    "               aggregate=1,\n",
    "               write_to=False):\n",
    "    \n",
    "    # symbol = symbol of desired coin\n",
    "    # comparison symbol = symbol for currency to price with\n",
    "    # to subset data, set all_data to false, then specificy with rows parameter\n",
    "    # write_to = write dataframe to supported filetype: csv, json, pickle\n",
    "    \n",
    "    # api call\n",
    "    url = 'https://min-api.cryptocompare.com/data/histoday?fsym={}&tsym={}&limit={}&aggregate={}'\\\n",
    "            .format(symbol.upper(),\n",
    "                    comparison_symbol.upper(),\n",
    "                    rows,\n",
    "                    aggregate)\n",
    "    \n",
    "    if all_data:\n",
    "        url += '&allData=true'\n",
    "    \n",
    "    # store in dataframe\n",
    "    page = requests.get(url)\n",
    "    data = page.json()['Data']\n",
    "    df = pd.DataFrame(data)\n",
    "    df['date'] = [datetime.datetime.fromtimestamp(d) for d in df.time]\n",
    "    df['date'] = df.date.dt.date\n",
    "    df['date'] = pd.to_datetime(df.date, format='%Y-%m-%d')\n",
    "    df.drop('time', axis=1, inplace=True)\n",
    "    df = df[['date', 'open', 'high', 'low', 'close', 'volumefrom', 'volumeto']]\n",
    "    df.sort_values(by='date', inplace=True)\n",
    "    df.reset_index(drop=True, inplace=True)\n",
    "    \n",
    "    # write to file option\n",
    "    return_df=True\n",
    "    if write_to is not False:\n",
    "        return_df=False\n",
    "        filename = symbol.lower() + '_data_' + date + '.{}'.format(write_to)\n",
    "        write_df(df, write_to, filename)\n",
    "        \n",
    "    if return_df is True:\n",
    "        return df\n",
    "\n",
    "def write_df(df, write_to, filename):\n",
    "    if write_to == 'csv':\n",
    "        df.to_csv('{}'.format(filename), index=False)\n",
    "    elif write_to == 'pkl':\n",
    "        df.to_pickle('{}'.format(filename))\n",
    "    elif write_to == 'json':\n",
    "        df.to_json('{}'.format(filename), orient='split')\n",
    "    else:\n",
    "        print('function does not support writing to {}'.format(write_to))\n",
    "        print('format filetype as shown (string in all lower case)')\n",
    "        print('supported filetypes: csv, json, pkl')"
   ]
  },
  {
   "cell_type": "code",
   "execution_count": 158,
   "metadata": {},
   "outputs": [
    {
     "data": {
      "text/html": [
       "<div>\n",
       "<style scoped>\n",
       "    .dataframe tbody tr th:only-of-type {\n",
       "        vertical-align: middle;\n",
       "    }\n",
       "\n",
       "    .dataframe tbody tr th {\n",
       "        vertical-align: top;\n",
       "    }\n",
       "\n",
       "    .dataframe thead th {\n",
       "        text-align: right;\n",
       "    }\n",
       "</style>\n",
       "<table border=\"1\" class=\"dataframe\">\n",
       "  <thead>\n",
       "    <tr style=\"text-align: right;\">\n",
       "      <th></th>\n",
       "      <th>date</th>\n",
       "      <th>open</th>\n",
       "      <th>high</th>\n",
       "      <th>low</th>\n",
       "      <th>close</th>\n",
       "      <th>volumefrom</th>\n",
       "      <th>volumeto</th>\n",
       "    </tr>\n",
       "  </thead>\n",
       "  <tbody>\n",
       "    <tr>\n",
       "      <th>0</th>\n",
       "      <td>2017-06-28</td>\n",
       "      <td>0.850</td>\n",
       "      <td>0.9845</td>\n",
       "      <td>0.6000</td>\n",
       "      <td>0.850</td>\n",
       "      <td>15914.71</td>\n",
       "      <td>13984.83</td>\n",
       "    </tr>\n",
       "    <tr>\n",
       "      <th>1</th>\n",
       "      <td>2017-06-29</td>\n",
       "      <td>0.850</td>\n",
       "      <td>1.9100</td>\n",
       "      <td>0.6500</td>\n",
       "      <td>0.912</td>\n",
       "      <td>24407.23</td>\n",
       "      <td>22117.66</td>\n",
       "    </tr>\n",
       "    <tr>\n",
       "      <th>2</th>\n",
       "      <td>2017-06-30</td>\n",
       "      <td>0.912</td>\n",
       "      <td>1.3500</td>\n",
       "      <td>0.8000</td>\n",
       "      <td>1.050</td>\n",
       "      <td>113633.80</td>\n",
       "      <td>125944.71</td>\n",
       "    </tr>\n",
       "    <tr>\n",
       "      <th>3</th>\n",
       "      <td>2017-07-01</td>\n",
       "      <td>1.050</td>\n",
       "      <td>3.8800</td>\n",
       "      <td>0.9455</td>\n",
       "      <td>3.000</td>\n",
       "      <td>3376175.73</td>\n",
       "      <td>7026243.78</td>\n",
       "    </tr>\n",
       "    <tr>\n",
       "      <th>4</th>\n",
       "      <td>2017-07-02</td>\n",
       "      <td>3.000</td>\n",
       "      <td>6.9000</td>\n",
       "      <td>2.5000</td>\n",
       "      <td>4.200</td>\n",
       "      <td>5163248.87</td>\n",
       "      <td>21951537.56</td>\n",
       "    </tr>\n",
       "  </tbody>\n",
       "</table>\n",
       "</div>"
      ],
      "text/plain": [
       "        date   open    high     low  close  volumefrom     volumeto\n",
       "0 2017-06-28  0.850  0.9845  0.6000  0.850    15914.71     13984.83\n",
       "1 2017-06-29  0.850  1.9100  0.6500  0.912    24407.23     22117.66\n",
       "2 2017-06-30  0.912  1.3500  0.8000  1.050   113633.80    125944.71\n",
       "3 2017-07-01  1.050  3.8800  0.9455  3.000  3376175.73   7026243.78\n",
       "4 2017-07-02  3.000  6.9000  2.5000  4.200  5163248.87  21951537.56"
      ]
     },
     "execution_count": 158,
     "metadata": {},
     "output_type": "execute_result"
    }
   ],
   "source": [
    "# test function\n",
    "# this should return a df in notebook\n",
    "coin_data2(symbol='EOS').head()"
   ]
  },
  {
   "cell_type": "code",
   "execution_count": 161,
   "metadata": {},
   "outputs": [],
   "source": [
    "# test writing arguments\n",
    "coin_data2(symbol='EOS', write_to='csv')"
   ]
  },
  {
   "cell_type": "code",
   "execution_count": 171,
   "metadata": {},
   "outputs": [],
   "source": [
    "coin_data2(symbol='EOS', write_to='json')"
   ]
  },
  {
   "cell_type": "code",
   "execution_count": 170,
   "metadata": {},
   "outputs": [],
   "source": [
    "coin_data2(symbol='EOS', write_to='pkl')"
   ]
  },
  {
   "cell_type": "code",
   "execution_count": 172,
   "metadata": {},
   "outputs": [
    {
     "name": "stdout",
     "output_type": "stream",
     "text": [
      "function does not support writing to sql\n",
      "format filetype as shown (string in all lower case)\n",
      "supported filetypes: csv, json, pkl\n"
     ]
    }
   ],
   "source": [
    "# this should return the else statements from write_df function\n",
    "coin_data2(symbol='EOS', write_to='sql')"
   ]
  },
  {
   "cell_type": "code",
   "execution_count": 18,
   "metadata": {},
   "outputs": [],
   "source": [
    "# collect coin data\n",
    "eth_raw = coin_data('ETH')\n",
    "btc_raw = coin_data('BTC')\n",
    "xrp_raw = coin_data('XRP')\n",
    "eos_raw = coin_data('EOS')\n",
    "ltc_raw = coin_data('LTC')\n",
    "xlm_raw = coin_data('XLM')\n",
    "xmr_raw = coin_data('XMR')"
   ]
  },
  {
   "cell_type": "code",
   "execution_count": 4,
   "metadata": {},
   "outputs": [
    {
     "data": {
      "text/html": [
       "<div>\n",
       "<style scoped>\n",
       "    .dataframe tbody tr th:only-of-type {\n",
       "        vertical-align: middle;\n",
       "    }\n",
       "\n",
       "    .dataframe tbody tr th {\n",
       "        vertical-align: top;\n",
       "    }\n",
       "\n",
       "    .dataframe thead th {\n",
       "        text-align: right;\n",
       "    }\n",
       "</style>\n",
       "<table border=\"1\" class=\"dataframe\">\n",
       "  <thead>\n",
       "    <tr style=\"text-align: right;\">\n",
       "      <th></th>\n",
       "      <th>close</th>\n",
       "      <th>high</th>\n",
       "      <th>low</th>\n",
       "      <th>open</th>\n",
       "      <th>volumefrom</th>\n",
       "      <th>volumeto</th>\n",
       "      <th>date</th>\n",
       "    </tr>\n",
       "  </thead>\n",
       "  <tbody>\n",
       "    <tr>\n",
       "      <th>0</th>\n",
       "      <td>3.00</td>\n",
       "      <td>3.0</td>\n",
       "      <td>0.6747</td>\n",
       "      <td>0.6747</td>\n",
       "      <td>123.93</td>\n",
       "      <td>371.79</td>\n",
       "      <td>2015-08-06 19:00:00</td>\n",
       "    </tr>\n",
       "    <tr>\n",
       "      <th>1</th>\n",
       "      <td>1.20</td>\n",
       "      <td>3.0</td>\n",
       "      <td>0.1500</td>\n",
       "      <td>3.0000</td>\n",
       "      <td>2119.43</td>\n",
       "      <td>1438.16</td>\n",
       "      <td>2015-08-07 19:00:00</td>\n",
       "    </tr>\n",
       "    <tr>\n",
       "      <th>2</th>\n",
       "      <td>1.20</td>\n",
       "      <td>1.2</td>\n",
       "      <td>1.2000</td>\n",
       "      <td>1.2000</td>\n",
       "      <td>0.00</td>\n",
       "      <td>0.00</td>\n",
       "      <td>2015-08-08 19:00:00</td>\n",
       "    </tr>\n",
       "    <tr>\n",
       "      <th>3</th>\n",
       "      <td>1.20</td>\n",
       "      <td>1.2</td>\n",
       "      <td>1.2000</td>\n",
       "      <td>1.2000</td>\n",
       "      <td>0.00</td>\n",
       "      <td>0.00</td>\n",
       "      <td>2015-08-09 19:00:00</td>\n",
       "    </tr>\n",
       "    <tr>\n",
       "      <th>4</th>\n",
       "      <td>0.99</td>\n",
       "      <td>1.2</td>\n",
       "      <td>0.6504</td>\n",
       "      <td>1.2000</td>\n",
       "      <td>9486.09</td>\n",
       "      <td>7419.73</td>\n",
       "      <td>2015-08-10 19:00:00</td>\n",
       "    </tr>\n",
       "  </tbody>\n",
       "</table>\n",
       "</div>"
      ],
      "text/plain": [
       "   close  high     low    open  volumefrom  volumeto                date\n",
       "0   3.00   3.0  0.6747  0.6747      123.93    371.79 2015-08-06 19:00:00\n",
       "1   1.20   3.0  0.1500  3.0000     2119.43   1438.16 2015-08-07 19:00:00\n",
       "2   1.20   1.2  1.2000  1.2000        0.00      0.00 2015-08-08 19:00:00\n",
       "3   1.20   1.2  1.2000  1.2000        0.00      0.00 2015-08-09 19:00:00\n",
       "4   0.99   1.2  0.6504  1.2000     9486.09   7419.73 2015-08-10 19:00:00"
      ]
     },
     "execution_count": 4,
     "metadata": {},
     "output_type": "execute_result"
    }
   ],
   "source": [
    "# inspect output\n",
    "eth_raw.head()"
   ]
  },
  {
   "cell_type": "code",
   "execution_count": 5,
   "metadata": {},
   "outputs": [],
   "source": [
    "eth_raw.to_csv('eth_raw.csv', index=False)\n",
    "btc_raw.to_csv('btc_raw.csv', index=False)\n",
    "xrp_raw.to_csv('xrp_raw.csv', index=False)\n",
    "eos_raw.to_csv('eos_raw.csv', index=False)\n",
    "ltc_raw.to_csv('ltc_raw.csv', index=False)\n",
    "xlm_raw.to_csv('xlm_raw.csv', index=False)\n",
    "xmr_raw.to_csv('xmr_raw.csv', index=False)"
   ]
  },
  {
   "cell_type": "code",
   "execution_count": 6,
   "metadata": {},
   "outputs": [],
   "source": [
    "eth_raw.name = 'eth_raw'"
   ]
  },
  {
   "cell_type": "code",
   "execution_count": 7,
   "metadata": {},
   "outputs": [
    {
     "name": "stdout",
     "output_type": "stream",
     "text": [
      "eth_raw\n"
     ]
    }
   ],
   "source": [
    "print(eth_raw.name)"
   ]
  },
  {
   "cell_type": "code",
   "execution_count": 38,
   "metadata": {},
   "outputs": [
    {
     "data": {
      "text/html": [
       "<div>\n",
       "<style scoped>\n",
       "    .dataframe tbody tr th:only-of-type {\n",
       "        vertical-align: middle;\n",
       "    }\n",
       "\n",
       "    .dataframe tbody tr th {\n",
       "        vertical-align: top;\n",
       "    }\n",
       "\n",
       "    .dataframe thead th {\n",
       "        text-align: right;\n",
       "    }\n",
       "</style>\n",
       "<table border=\"1\" class=\"dataframe\">\n",
       "  <thead>\n",
       "    <tr style=\"text-align: right;\">\n",
       "      <th></th>\n",
       "      <th>close</th>\n",
       "      <th>high</th>\n",
       "      <th>low</th>\n",
       "      <th>open</th>\n",
       "      <th>volumefrom</th>\n",
       "      <th>volumeto</th>\n",
       "      <th>date</th>\n",
       "    </tr>\n",
       "  </thead>\n",
       "  <tbody>\n",
       "    <tr>\n",
       "      <th>0</th>\n",
       "      <td>3.00</td>\n",
       "      <td>3.0</td>\n",
       "      <td>0.6747</td>\n",
       "      <td>0.6747</td>\n",
       "      <td>123.93</td>\n",
       "      <td>371.79</td>\n",
       "      <td>2015-08-06 19:00:00</td>\n",
       "    </tr>\n",
       "    <tr>\n",
       "      <th>1</th>\n",
       "      <td>1.20</td>\n",
       "      <td>3.0</td>\n",
       "      <td>0.1500</td>\n",
       "      <td>3.0000</td>\n",
       "      <td>2119.43</td>\n",
       "      <td>1438.16</td>\n",
       "      <td>2015-08-07 19:00:00</td>\n",
       "    </tr>\n",
       "    <tr>\n",
       "      <th>2</th>\n",
       "      <td>1.20</td>\n",
       "      <td>1.2</td>\n",
       "      <td>1.2000</td>\n",
       "      <td>1.2000</td>\n",
       "      <td>0.00</td>\n",
       "      <td>0.00</td>\n",
       "      <td>2015-08-08 19:00:00</td>\n",
       "    </tr>\n",
       "    <tr>\n",
       "      <th>3</th>\n",
       "      <td>1.20</td>\n",
       "      <td>1.2</td>\n",
       "      <td>1.2000</td>\n",
       "      <td>1.2000</td>\n",
       "      <td>0.00</td>\n",
       "      <td>0.00</td>\n",
       "      <td>2015-08-09 19:00:00</td>\n",
       "    </tr>\n",
       "    <tr>\n",
       "      <th>4</th>\n",
       "      <td>0.99</td>\n",
       "      <td>1.2</td>\n",
       "      <td>0.6504</td>\n",
       "      <td>1.2000</td>\n",
       "      <td>9486.09</td>\n",
       "      <td>7419.73</td>\n",
       "      <td>2015-08-10 19:00:00</td>\n",
       "    </tr>\n",
       "  </tbody>\n",
       "</table>\n",
       "</div>"
      ],
      "text/plain": [
       "   close  high     low    open  volumefrom  volumeto                date\n",
       "0   3.00   3.0  0.6747  0.6747      123.93    371.79 2015-08-06 19:00:00\n",
       "1   1.20   3.0  0.1500  3.0000     2119.43   1438.16 2015-08-07 19:00:00\n",
       "2   1.20   1.2  1.2000  1.2000        0.00      0.00 2015-08-08 19:00:00\n",
       "3   1.20   1.2  1.2000  1.2000        0.00      0.00 2015-08-09 19:00:00\n",
       "4   0.99   1.2  0.6504  1.2000     9486.09   7419.73 2015-08-10 19:00:00"
      ]
     },
     "execution_count": 38,
     "metadata": {},
     "output_type": "execute_result"
    }
   ],
   "source": [
    "df_test.head()"
   ]
  },
  {
   "cell_type": "code",
   "execution_count": null,
   "metadata": {},
   "outputs": [],
   "source": []
  }
 ],
 "metadata": {
  "kernelspec": {
   "display_name": "Python 3",
   "language": "python",
   "name": "python3"
  },
  "language_info": {
   "codemirror_mode": {
    "name": "ipython",
    "version": 3
   },
   "file_extension": ".py",
   "mimetype": "text/x-python",
   "name": "python",
   "nbconvert_exporter": "python",
   "pygments_lexer": "ipython3",
   "version": "3.6.5"
  }
 },
 "nbformat": 4,
 "nbformat_minor": 2
}
