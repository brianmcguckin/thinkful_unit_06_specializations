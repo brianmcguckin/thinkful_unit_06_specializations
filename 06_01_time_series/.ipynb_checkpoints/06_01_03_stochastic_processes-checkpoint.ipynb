{
 "cells": [
  {
   "cell_type": "markdown",
   "metadata": {},
   "source": [
    "## Stochastic Processes\n",
    "- Data isn't always thought of in terms of seasonality\n",
    "- **Process**: a sequence of variables that are understood to have happened over a course of time\n",
    "- **Stochastic process**: process where variables are random, based off a known or unknown distribution\n",
    "- Stochastic processes are particularly relevant to finance\n",
    "\n",
    "### Bernoulli process\n",
    "- **Bernoulli process**: a set of independent, identically distributed random variables, where each follows a Bernoulli distribution\n",
    "    - Independent: outcome of one observation does not affect any other outcome\n",
    "    - Identically distributed: each random variable is drawn from the same distribution\n",
    "    - 'iid': shorthand for 'independent and identically distributed'\n",
    "- Bernoulli distribution refresh: outcome has 2 possible values\n",
    "    - 1 occuring with probability $p$\n",
    "    - 0 occuring with probability $1-p$\n",
    "- Can simulate a Bernoulli process further using a random number generator and taking average value as estimate for $p$\n",
    "\n",
    "### Random walks\n",
    "- **Random walks**: the sum of iid random variables\n",
    "    - Walking along a path, each brick is numbered in positive and negative directions, starting at zero\n",
    "    - A person can step forward or backward with some constant probability\n",
    "    - Step is either -1 or 1, with some random probability, e.g.\n",
    "        - [0, 1, 2, 1, 2, 3, 4, 5, 4, 3, 4, 5, 6]\n",
    "        - [0, 1, 0, -1, -2, -1, 0, 1, 0, 1]\n",
    "- **Simple random walk**: random distribution of a step is Bernoulli with 1, -1 as the outcomes\n",
    "    - **Symmetric simple random walk**: simple random walk where $p=.5$\n",
    "        - Probability to go in either direction is symmetrical\n",
    "- Random walks occur in discrete time: specified steps where the process moves instead of a smooth, continuous progression\n",
    "- **Wiener Process (Brownian motion)**: step (or direction to next position) is normally distributed\n",
    "    - Standard normal distributions have an expected value of zero\n",
    "    - Stochastic processes with an EV of 0:\n",
    "        - **Stationary**: the future value of the process is expected to be where the process is currently\n",
    "        - **Drift**: future value of the process is expected to deviate from its current position\n",
    "\n",
    "### Application\n",
    "- Tracking a single object or entity over time, think of the observed values as a stochastic process\n",
    "    - Moves randomly in some direction over time\n",
    "    - This randomness is the stochasticity\n",
    "- Examples of stochastic processes:\n",
    "    - Purchases by a customer over their lifetime\n",
    "    - Stock prices\n",
    "- Defining these time series in terms of their stochastic characteristics allows them to be modeled and predict future outcomes\n",
    "- Gradient Descent is often called Stochastic Gradient Descent\n",
    "    - Stochastically (randomly) determined starting estimates\n",
    "- More on stochastic processes: [Intro to Stochastic Processes - Gordan Zitkovic, UT Austin](https://web.ma.utexas.edu/users/gordanz/notes/introduction_to_stochastic_processes.pdf)"
   ]
  },
  {
   "cell_type": "code",
   "execution_count": null,
   "metadata": {},
   "outputs": [],
   "source": []
  }
 ],
 "metadata": {
  "kernelspec": {
   "display_name": "Python 3",
   "language": "python",
   "name": "python3"
  },
  "language_info": {
   "codemirror_mode": {
    "name": "ipython",
    "version": 3
   },
   "file_extension": ".py",
   "mimetype": "text/x-python",
   "name": "python",
   "nbconvert_exporter": "python",
   "pygments_lexer": "ipython3",
   "version": "3.6.5"
  }
 },
 "nbformat": 4,
 "nbformat_minor": 2
}
