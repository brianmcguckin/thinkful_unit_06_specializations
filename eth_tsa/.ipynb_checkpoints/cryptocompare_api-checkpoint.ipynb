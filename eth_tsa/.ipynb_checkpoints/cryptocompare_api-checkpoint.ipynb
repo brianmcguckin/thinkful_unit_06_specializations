{
 "cells": [
  {
   "cell_type": "markdown",
   "metadata": {},
   "source": [
    "[api call function modified from this tutorial](https://medium.com/@galea/cryptocompare-api-quick-start-guide-ca4430a484d4)"
   ]
  },
  {
   "cell_type": "code",
   "execution_count": 1,
   "metadata": {},
   "outputs": [],
   "source": [
    "import requests\n",
    "import datetime\n",
    "import pandas as pd\n",
    "\n",
    "def cryptocompare_data(symbol,\n",
    "                       comparison_symbol='USD',\n",
    "                       all_data=True,\n",
    "                       rows=1,\n",
    "                       aggregate=1,\n",
    "                       write_to=False):\n",
    "    \n",
    "    # symbol = symbol of desired coin\n",
    "    # comparison symbol = symbol for currency to price with\n",
    "    # to subset data, set all_data to false, then specificy with rows parameter\n",
    "    # write_to = write dataframe to supported filetype: csv, json, pkl\n",
    "    \n",
    "    # api call\n",
    "    url = 'https://min-api.cryptocompare.com/data/histoday?fsym={}&tsym={}&limit={}&aggregate={}'\\\n",
    "            .format(symbol.upper(),\n",
    "                    comparison_symbol.upper(),\n",
    "                    rows,\n",
    "                    aggregate)\n",
    "    \n",
    "    if all_data:\n",
    "        url += '&allData=true'\n",
    "    \n",
    "    # store in dataframe\n",
    "    page = requests.get(url)\n",
    "    data = page.json()['Data']\n",
    "    df = pd.DataFrame(data)\n",
    "    df['date'] = [datetime.datetime.fromtimestamp(d) for d in df.time]\n",
    "    df['date'] = df.date.dt.date\n",
    "    df['date'] = pd.to_datetime(df.date, format='%Y-%m-%d')\n",
    "    df.drop('time', axis=1, inplace=True)\n",
    "    df = df[['date', 'open', 'high', 'low', 'close', 'volumefrom', 'volumeto']]\n",
    "    df.sort_values(by='date', inplace=True)\n",
    "    df.reset_index(drop=True, inplace=True)\n",
    "    \n",
    "    # write to file option\n",
    "    return_df=True\n",
    "    if write_to is not False:\n",
    "        return_df=False\n",
    "        date = datetime.datetime.today().strftime('%Y-%m-%d')\n",
    "        filename = symbol.lower() + '_data_' + date + '.{}'.format(write_to)\n",
    "        write_df(df, write_to, filename)\n",
    "        \n",
    "    if return_df is True:\n",
    "        return df\n",
    "\n",
    "def write_df(df, write_to, filename):\n",
    "    if write_to == 'csv':\n",
    "        df.to_csv('{}'.format(filename), index=False)\n",
    "    elif write_to == 'pkl':\n",
    "        df.to_pickle('{}'.format(filename))\n",
    "    elif write_to == 'json':\n",
    "        df.to_json('{}'.format(filename), orient='split')\n",
    "    else:\n",
    "        print('function does not support writing to {}'.format(write_to))\n",
    "        print('format filetype as shown (string in all lower case)')\n",
    "        print('supported filetypes: csv, json, pkl')"
   ]
  },
  {
   "cell_type": "code",
   "execution_count": 2,
   "metadata": {},
   "outputs": [],
   "source": [
    "coins = ['ETH', 'BTC', 'XRP', 'EOS', 'LTC', 'XLM', 'XMR']\n",
    "for coin in coins:\n",
    "    cryptocompare_data(symbol=coin, write_to='json')"
   ]
  },
  {
   "cell_type": "code",
   "execution_count": 4,
   "metadata": {},
   "outputs": [],
   "source": [
    "cryptocompare_data(symbol='ETH', write_to='json')"
   ]
  },
  {
   "cell_type": "code",
   "execution_count": null,
   "metadata": {},
   "outputs": [],
   "source": []
  }
 ],
 "metadata": {
  "kernelspec": {
   "display_name": "Python 3",
   "language": "python",
   "name": "python3"
  },
  "language_info": {
   "codemirror_mode": {
    "name": "ipython",
    "version": 3
   },
   "file_extension": ".py",
   "mimetype": "text/x-python",
   "name": "python",
   "nbconvert_exporter": "python",
   "pygments_lexer": "ipython3",
   "version": "3.6.5"
  }
 },
 "nbformat": 4,
 "nbformat_minor": 2
}
