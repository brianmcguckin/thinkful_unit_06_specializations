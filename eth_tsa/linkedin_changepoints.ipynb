{
 "cells": [
  {
   "cell_type": "code",
   "execution_count": 49,
   "metadata": {},
   "outputs": [],
   "source": [
    "import numpy as np\n",
    "import pandas as pd\n",
    "import scipy\n",
    "from datetime import datetime\n",
    "import datetime as dt\n",
    "import matplotlib.pyplot as plt\n",
    "import seaborn as sns\n",
    "import ruptures as rpt\n",
    "\n",
    "%matplotlib inline\n",
    "colors = sns.color_palette('colorblind')\n",
    "sns.set_palette(colors)\n",
    "sns.set_style('whitegrid')"
   ]
  },
  {
   "cell_type": "code",
   "execution_count": 50,
   "metadata": {},
   "outputs": [
    {
     "data": {
      "text/html": [
       "<div>\n",
       "<style scoped>\n",
       "    .dataframe tbody tr th:only-of-type {\n",
       "        vertical-align: middle;\n",
       "    }\n",
       "\n",
       "    .dataframe tbody tr th {\n",
       "        vertical-align: top;\n",
       "    }\n",
       "\n",
       "    .dataframe thead th {\n",
       "        text-align: right;\n",
       "    }\n",
       "</style>\n",
       "<table border=\"1\" class=\"dataframe\">\n",
       "  <thead>\n",
       "    <tr style=\"text-align: right;\">\n",
       "      <th></th>\n",
       "      <th>open</th>\n",
       "      <th>high</th>\n",
       "      <th>low</th>\n",
       "      <th>close</th>\n",
       "      <th>volumefrom</th>\n",
       "      <th>volumeto</th>\n",
       "    </tr>\n",
       "    <tr>\n",
       "      <th>date</th>\n",
       "      <th></th>\n",
       "      <th></th>\n",
       "      <th></th>\n",
       "      <th></th>\n",
       "      <th></th>\n",
       "      <th></th>\n",
       "    </tr>\n",
       "  </thead>\n",
       "  <tbody>\n",
       "    <tr>\n",
       "      <th>2015-08-06</th>\n",
       "      <td>0.6747</td>\n",
       "      <td>3.0</td>\n",
       "      <td>0.6747</td>\n",
       "      <td>3.00</td>\n",
       "      <td>123.93</td>\n",
       "      <td>371.79</td>\n",
       "    </tr>\n",
       "    <tr>\n",
       "      <th>2015-08-07</th>\n",
       "      <td>3.0000</td>\n",
       "      <td>3.0</td>\n",
       "      <td>0.1500</td>\n",
       "      <td>1.20</td>\n",
       "      <td>2119.43</td>\n",
       "      <td>1438.16</td>\n",
       "    </tr>\n",
       "    <tr>\n",
       "      <th>2015-08-08</th>\n",
       "      <td>1.2000</td>\n",
       "      <td>1.2</td>\n",
       "      <td>1.2000</td>\n",
       "      <td>1.20</td>\n",
       "      <td>0.00</td>\n",
       "      <td>0.00</td>\n",
       "    </tr>\n",
       "    <tr>\n",
       "      <th>2015-08-09</th>\n",
       "      <td>1.2000</td>\n",
       "      <td>1.2</td>\n",
       "      <td>1.2000</td>\n",
       "      <td>1.20</td>\n",
       "      <td>0.00</td>\n",
       "      <td>0.00</td>\n",
       "    </tr>\n",
       "    <tr>\n",
       "      <th>2015-08-10</th>\n",
       "      <td>1.2000</td>\n",
       "      <td>1.2</td>\n",
       "      <td>0.6504</td>\n",
       "      <td>0.99</td>\n",
       "      <td>9486.09</td>\n",
       "      <td>7419.73</td>\n",
       "    </tr>\n",
       "  </tbody>\n",
       "</table>\n",
       "</div>"
      ],
      "text/plain": [
       "              open  high     low  close  volumefrom  volumeto\n",
       "date                                                         \n",
       "2015-08-06  0.6747   3.0  0.6747   3.00      123.93    371.79\n",
       "2015-08-07  3.0000   3.0  0.1500   1.20     2119.43   1438.16\n",
       "2015-08-08  1.2000   1.2  1.2000   1.20        0.00      0.00\n",
       "2015-08-09  1.2000   1.2  1.2000   1.20        0.00      0.00\n",
       "2015-08-10  1.2000   1.2  0.6504   0.99     9486.09   7419.73"
      ]
     },
     "execution_count": 50,
     "metadata": {},
     "output_type": "execute_result"
    }
   ],
   "source": [
    "df = pd.read_json('eth_data_2018-09-19.json', orient='split').set_index('date')\n",
    "df.head()"
   ]
  },
  {
   "cell_type": "code",
   "execution_count": 11,
   "metadata": {},
   "outputs": [
    {
     "data": {
      "text/html": [
       "<div>\n",
       "<style scoped>\n",
       "    .dataframe tbody tr th:only-of-type {\n",
       "        vertical-align: middle;\n",
       "    }\n",
       "\n",
       "    .dataframe tbody tr th {\n",
       "        vertical-align: top;\n",
       "    }\n",
       "\n",
       "    .dataframe thead th {\n",
       "        text-align: right;\n",
       "    }\n",
       "</style>\n",
       "<table border=\"1\" class=\"dataframe\">\n",
       "  <thead>\n",
       "    <tr style=\"text-align: right;\">\n",
       "      <th></th>\n",
       "      <th>close</th>\n",
       "    </tr>\n",
       "    <tr>\n",
       "      <th>date</th>\n",
       "      <th></th>\n",
       "    </tr>\n",
       "  </thead>\n",
       "  <tbody>\n",
       "    <tr>\n",
       "      <th>2015-08-06</th>\n",
       "      <td>3.00</td>\n",
       "    </tr>\n",
       "    <tr>\n",
       "      <th>2015-08-07</th>\n",
       "      <td>1.20</td>\n",
       "    </tr>\n",
       "    <tr>\n",
       "      <th>2015-08-08</th>\n",
       "      <td>1.20</td>\n",
       "    </tr>\n",
       "    <tr>\n",
       "      <th>2015-08-09</th>\n",
       "      <td>1.20</td>\n",
       "    </tr>\n",
       "    <tr>\n",
       "      <th>2015-08-10</th>\n",
       "      <td>0.99</td>\n",
       "    </tr>\n",
       "  </tbody>\n",
       "</table>\n",
       "</div>"
      ],
      "text/plain": [
       "            close\n",
       "date             \n",
       "2015-08-06   3.00\n",
       "2015-08-07   1.20\n",
       "2015-08-08   1.20\n",
       "2015-08-09   1.20\n",
       "2015-08-10   0.99"
      ]
     },
     "execution_count": 11,
     "metadata": {},
     "output_type": "execute_result"
    }
   ],
   "source": [
    "ts = pd.DataFrame(df.close)\n",
    "ts.head()"
   ]
  },
  {
   "cell_type": "code",
   "execution_count": 12,
   "metadata": {},
   "outputs": [
    {
     "name": "stdout",
     "output_type": "stream",
     "text": [
      "[655, 855, 950, 1095, 1140]\n"
     ]
    }
   ],
   "source": [
    "cpts = rpt.Pelt(model='rbf').fit_predict(ts, pen=20)\n",
    "print(cpts)"
   ]
  },
  {
   "cell_type": "code",
   "execution_count": 43,
   "metadata": {},
   "outputs": [
    {
     "data": {
      "text/html": [
       "<div>\n",
       "<style scoped>\n",
       "    .dataframe tbody tr th:only-of-type {\n",
       "        vertical-align: middle;\n",
       "    }\n",
       "\n",
       "    .dataframe tbody tr th {\n",
       "        vertical-align: top;\n",
       "    }\n",
       "\n",
       "    .dataframe thead th {\n",
       "        text-align: right;\n",
       "    }\n",
       "</style>\n",
       "<table border=\"1\" class=\"dataframe\">\n",
       "  <thead>\n",
       "    <tr style=\"text-align: right;\">\n",
       "      <th></th>\n",
       "      <th>open</th>\n",
       "      <th>high</th>\n",
       "      <th>low</th>\n",
       "      <th>close</th>\n",
       "      <th>volumefrom</th>\n",
       "      <th>volumeto</th>\n",
       "    </tr>\n",
       "    <tr>\n",
       "      <th>date</th>\n",
       "      <th></th>\n",
       "      <th></th>\n",
       "      <th></th>\n",
       "      <th></th>\n",
       "      <th></th>\n",
       "      <th></th>\n",
       "    </tr>\n",
       "  </thead>\n",
       "  <tbody>\n",
       "    <tr>\n",
       "      <th>2015-08-06</th>\n",
       "      <td>0.002810</td>\n",
       "      <td>0.100000</td>\n",
       "      <td>0.002810</td>\n",
       "      <td>0.009980</td>\n",
       "      <td>53584.56</td>\n",
       "      <td>577.47</td>\n",
       "    </tr>\n",
       "    <tr>\n",
       "      <th>2015-08-07</th>\n",
       "      <td>0.009980</td>\n",
       "      <td>0.009980</td>\n",
       "      <td>0.002304</td>\n",
       "      <td>0.003123</td>\n",
       "      <td>722558.00</td>\n",
       "      <td>2958.54</td>\n",
       "    </tr>\n",
       "    <tr>\n",
       "      <th>2015-08-08</th>\n",
       "      <td>0.003123</td>\n",
       "      <td>0.003631</td>\n",
       "      <td>0.002290</td>\n",
       "      <td>0.002815</td>\n",
       "      <td>737119.57</td>\n",
       "      <td>2012.14</td>\n",
       "    </tr>\n",
       "    <tr>\n",
       "      <th>2015-08-09</th>\n",
       "      <td>0.002815</td>\n",
       "      <td>0.002897</td>\n",
       "      <td>0.002275</td>\n",
       "      <td>0.002600</td>\n",
       "      <td>585917.04</td>\n",
       "      <td>1486.71</td>\n",
       "    </tr>\n",
       "    <tr>\n",
       "      <th>2015-08-10</th>\n",
       "      <td>0.002600</td>\n",
       "      <td>0.004331</td>\n",
       "      <td>0.002434</td>\n",
       "      <td>0.003938</td>\n",
       "      <td>1479695.62</td>\n",
       "      <td>4812.95</td>\n",
       "    </tr>\n",
       "  </tbody>\n",
       "</table>\n",
       "</div>"
      ],
      "text/plain": [
       "                open      high       low     close  volumefrom  volumeto\n",
       "date                                                                    \n",
       "2015-08-06  0.002810  0.100000  0.002810  0.009980    53584.56    577.47\n",
       "2015-08-07  0.009980  0.009980  0.002304  0.003123   722558.00   2958.54\n",
       "2015-08-08  0.003123  0.003631  0.002290  0.002815   737119.57   2012.14\n",
       "2015-08-09  0.002815  0.002897  0.002275  0.002600   585917.04   1486.71\n",
       "2015-08-10  0.002600  0.004331  0.002434  0.003938  1479695.62   4812.95"
      ]
     },
     "execution_count": 43,
     "metadata": {},
     "output_type": "execute_result"
    }
   ],
   "source": [
    "btc = pd.read_pickle('eth_data_2018-09-19.pkl').set_index('date')\n",
    "btc.head()"
   ]
  },
  {
   "cell_type": "code",
   "execution_count": 48,
   "metadata": {},
   "outputs": [
    {
     "data": {
      "image/png": "[encoded data removed]",
      "text/plain": [
       "<Figure size 1080x432 with 1 Axes>"
      ]
     },
     "metadata": {},
     "output_type": "display_data"
    }
   ],
   "source": [
    "fig, ax1 = plt.subplots(figsize=(15,6))\n",
    "ax1.set_title('Ethereum Price')\n",
    "plt.plot(\n",
    "    ts.index.values,\n",
    "    ts.close,\n",
    "    #label='eth close price',\n",
    "    color=colors[0]\n",
    ")\n",
    "for cpt in cpts[:-1]:\n",
    "    plt.axvline(\n",
    "        x=ts.index.values[cpt],\n",
    "        color=colors[1],\n",
    "        alpha=.75\n",
    "    )\n",
    "ax1.set_ylabel('USD')\n",
    "ax1.set_xlabel('Date')\n",
    "\n",
    "#ax2 = ax1.twinx()\n",
    "    \n",
    "plt.show()"
   ]
  },
  {
   "cell_type": "code",
   "execution_count": 31,
   "metadata": {},
   "outputs": [
    {
     "data": {
      "text/plain": [
       "[(0.0, 0.4470588235294118, 0.6980392156862745),\n",
       " (0.0, 0.6196078431372549, 0.45098039215686275),\n",
       " (0.8352941176470589, 0.3686274509803922, 0.0),\n",
       " (0.8, 0.4745098039215686, 0.6549019607843137),\n",
       " (0.9411764705882353, 0.8941176470588236, 0.25882352941176473),\n",
       " (0.33725490196078434, 0.7058823529411765, 0.9137254901960784)]"
      ]
     },
     "execution_count": 31,
     "metadata": {},
     "output_type": "execute_result"
    }
   ],
   "source": [
    "colors"
   ]
  },
  {
   "cell_type": "code",
   "execution_count": null,
   "metadata": {},
   "outputs": [],
   "source": []
  }
 ],
 "metadata": {
  "kernelspec": {
   "display_name": "Python 3",
   "language": "python",
   "name": "python3"
  },
  "language_info": {
   "codemirror_mode": {
    "name": "ipython",
    "version": 3
   },
   "file_extension": ".py",
   "mimetype": "text/x-python",
   "name": "python",
   "nbconvert_exporter": "python",
   "pygments_lexer": "ipython3",
   "version": "3.6.5"
  }
 },
 "nbformat": 4,
 "nbformat_minor": 2
}
