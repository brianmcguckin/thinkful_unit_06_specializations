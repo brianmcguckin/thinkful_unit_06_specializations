{
 "cells": [
  {
   "cell_type": "code",
   "execution_count": 1,
   "metadata": {},
   "outputs": [
    {
     "name": "stderr",
     "output_type": "stream",
     "text": [
      "Using TensorFlow backend.\n"
     ]
    }
   ],
   "source": [
    "import datetime as dt\n",
    "import time\n",
    "import warnings\n",
    "import numpy as np\n",
    "import pandas as pd\n",
    "import scipy\n",
    "import matplotlib.pyplot as plt\n",
    "import seaborn as sns\n",
    "import ruptures as rpt\n",
    "\n",
    "from sklearn.model_selection import GridSearchCV\n",
    "from sklearn.metrics import mean_squared_error\n",
    "from sklearn.preprocessing import MinMaxScaler\n",
    "\n",
    "import tensorflow as tf\n",
    "from tensorflow import keras\n",
    "from keras import backend as K\n",
    "from keras.models import Sequential\n",
    "from keras.layers import Dense, Activation, Dropout, LSTM\n",
    "from keras.optimizers import Adam, Adamax, RMSprop\n",
    "from keras.wrappers.scikit_learn import KerasRegressor"
   ]
  },
  {
   "cell_type": "code",
   "execution_count": 2,
   "metadata": {},
   "outputs": [],
   "source": [
    "sns.set_style('whitegrid')\n",
    "colors = sns.color_palette('deep', 8)\n",
    "sns.set_palette(colors)"
   ]
  },
  {
   "cell_type": "code",
   "execution_count": 3,
   "metadata": {},
   "outputs": [
    {
     "name": "stdout",
     "output_type": "stream",
     "text": [
      "(1134, 15)\n"
     ]
    },
    {
     "data": {
      "text/html": [
       "<div>\n",
       "<style scoped>\n",
       "    .dataframe tbody tr th:only-of-type {\n",
       "        vertical-align: middle;\n",
       "    }\n",
       "\n",
       "    .dataframe tbody tr th {\n",
       "        vertical-align: top;\n",
       "    }\n",
       "\n",
       "    .dataframe thead th {\n",
       "        text-align: right;\n",
       "    }\n",
       "</style>\n",
       "<table border=\"1\" class=\"dataframe\">\n",
       "  <thead>\n",
       "    <tr style=\"text-align: right;\">\n",
       "      <th></th>\n",
       "      <th>eth_open</th>\n",
       "      <th>eth_high</th>\n",
       "      <th>eth_low</th>\n",
       "      <th>eth_close</th>\n",
       "      <th>eth_volumefrom</th>\n",
       "      <th>eth_volumeto</th>\n",
       "      <th>btc</th>\n",
       "      <th>xrp</th>\n",
       "      <th>eos</th>\n",
       "      <th>ltc</th>\n",
       "      <th>xlm</th>\n",
       "      <th>xmr</th>\n",
       "      <th>vixcls</th>\n",
       "      <th>twexb</th>\n",
       "      <th>effr</th>\n",
       "    </tr>\n",
       "    <tr>\n",
       "      <th>date</th>\n",
       "      <th></th>\n",
       "      <th></th>\n",
       "      <th></th>\n",
       "      <th></th>\n",
       "      <th></th>\n",
       "      <th></th>\n",
       "      <th></th>\n",
       "      <th></th>\n",
       "      <th></th>\n",
       "      <th></th>\n",
       "      <th></th>\n",
       "      <th></th>\n",
       "      <th></th>\n",
       "      <th></th>\n",
       "      <th></th>\n",
       "    </tr>\n",
       "  </thead>\n",
       "  <tbody>\n",
       "    <tr>\n",
       "      <th>2015-08-06</th>\n",
       "      <td>0.6747</td>\n",
       "      <td>3.0</td>\n",
       "      <td>0.6747</td>\n",
       "      <td>3.0</td>\n",
       "      <td>123.93</td>\n",
       "      <td>371.79</td>\n",
       "      <td>277.89</td>\n",
       "      <td>0.008013</td>\n",
       "      <td>0.0</td>\n",
       "      <td>4.10</td>\n",
       "      <td>0.0</td>\n",
       "      <td>0.75</td>\n",
       "      <td>13.77</td>\n",
       "      <td>118.1833</td>\n",
       "      <td>0.14</td>\n",
       "    </tr>\n",
       "    <tr>\n",
       "      <th>2015-08-07</th>\n",
       "      <td>3.0000</td>\n",
       "      <td>3.0</td>\n",
       "      <td>0.1500</td>\n",
       "      <td>1.2</td>\n",
       "      <td>2119.43</td>\n",
       "      <td>1438.16</td>\n",
       "      <td>258.60</td>\n",
       "      <td>0.009000</td>\n",
       "      <td>0.0</td>\n",
       "      <td>3.77</td>\n",
       "      <td>0.0</td>\n",
       "      <td>0.75</td>\n",
       "      <td>13.39</td>\n",
       "      <td>118.1833</td>\n",
       "      <td>0.14</td>\n",
       "    </tr>\n",
       "  </tbody>\n",
       "</table>\n",
       "</div>"
      ],
      "text/plain": [
       "            eth_open  eth_high  eth_low  eth_close  eth_volumefrom  \\\n",
       "date                                                                 \n",
       "2015-08-06    0.6747       3.0   0.6747        3.0          123.93   \n",
       "2015-08-07    3.0000       3.0   0.1500        1.2         2119.43   \n",
       "\n",
       "            eth_volumeto     btc       xrp  eos   ltc  xlm   xmr  vixcls  \\\n",
       "date                                                                       \n",
       "2015-08-06        371.79  277.89  0.008013  0.0  4.10  0.0  0.75   13.77   \n",
       "2015-08-07       1438.16  258.60  0.009000  0.0  3.77  0.0  0.75   13.39   \n",
       "\n",
       "               twexb  effr  \n",
       "date                        \n",
       "2015-08-06  118.1833  0.14  \n",
       "2015-08-07  118.1833  0.14  "
      ]
     },
     "execution_count": 3,
     "metadata": {},
     "output_type": "execute_result"
    }
   ],
   "source": [
    "df_orig = pd.read_json(\"../datasets/df.json\", orient='split')\n",
    "df = df_orig.copy()\n",
    "df = df[df.eth_close.isnull().sum():]\n",
    "df.fillna(0, inplace=True)\n",
    "df.set_index(\"date\", drop=True, inplace=True)\n",
    "print(df.shape)\n",
    "df.head(2)"
   ]
  },
  {
   "cell_type": "markdown",
   "metadata": {},
   "source": [
    "## Feature Engineering\n",
    "### Create Dummies for Changepoints"
   ]
  },
  {
   "cell_type": "code",
   "execution_count": null,
   "metadata": {},
   "outputs": [],
   "source": [
    "cpts = rpt.Pelt(model=\"rbf\").fit_predict(pd.DataFrame(df.eth_close), pen=20)\n",
    "print(cpts)"
   ]
  },
  {
   "cell_type": "code",
   "execution_count": null,
   "metadata": {},
   "outputs": [],
   "source": [
    "breaks = cpts[:-1]\n",
    "for i, point in enumerate(breaks):\n",
    "    df[\"break_{}\".format(i)] = 0\n",
    "    df[\"break_{}\".format(i)][point:] = 1"
   ]
  },
  {
   "cell_type": "markdown",
   "metadata": {},
   "source": [
    "## Define Functions"
   ]
  },
  {
   "cell_type": "code",
   "execution_count": null,
   "metadata": {},
   "outputs": [],
   "source": [
    "def prep_data(data, window_size = 1):\n",
    "    data_reshaped = np.reshape(data, (data.shape[0], window_size, data.shape[1]))\n",
    "    return data_reshaped\n",
    "\n",
    "def fit_lstm(X_train, y_train, epochs=500, optimizer=Adam(lr=0.005),):\n",
    "    model = Sequential()\n",
    "    model.add(LSTM(units=1,\n",
    "                   activation='tanh',\n",
    "                   use_bias=True,\n",
    "                   input_shape=(X_train.shape[1], X_train.shape[2])))\n",
    "    model.compile(loss='mean_squared_error', optimizer=optimizer)\n",
    "    model.fit(X_train, y_train, epochs=epochs, verbose=0)\n",
    "    return model\n",
    "\n",
    "def validate(model, X, y):\n",
    "    yhat = model.predict(X)\n",
    "    yhat_invert = scaler.inverse_transform(yhat)\n",
    "    y_orig = scaler.inverse_transform(y)\n",
    "    rmse = np.sqrt(mean_squared_error(y_orig, yhat_invert))\n",
    "    return (yhat_invert, y_orig, rmse)"
   ]
  },
  {
   "cell_type": "markdown",
   "metadata": {},
   "source": [
    "## LSTM RNN Time Series Only"
   ]
  },
  {
   "cell_type": "code",
   "execution_count": null,
   "metadata": {},
   "outputs": [],
   "source": [
    "# set time series data & target\n",
    "X = df.eth_close\n",
    "y = df.shift(-1).eth_close\n",
    "\n",
    "# split into train/test\n",
    "X_train, X_test = X[:-31], X[-31:-1]\n",
    "y_train, y_test = y[:-31], y[-31:-1]\n",
    "\n",
    "# reshape & scale\n",
    "X_train = np.array(X_train).reshape(-1,1)\n",
    "X_test = np.array(X_test).reshape(-1,1)\n",
    "y_train = np.array(y_train).reshape(-1,1)\n",
    "y_test = np.array(y_test).reshape(-1,1)\n",
    "\n",
    "scaler = MinMaxScaler(feature_range=(0,1))\n",
    "\n",
    "X_train = scaler.fit_transform(X_train)\n",
    "X_test = scaler.fit_transform(X_test)\n",
    "y_train = scaler.fit_transform(y_train)\n",
    "y_test = scaler.fit_transform(y_test)\n",
    "\n",
    "# prep for NN\n",
    "X_train = prep_data(X_train)\n",
    "X_test = prep_data(X_test)\n",
    "print(X_train.shape, X_test.shape, y_train.shape, y_test.shape)"
   ]
  },
  {
   "cell_type": "code",
   "execution_count": null,
   "metadata": {},
   "outputs": [],
   "source": [
    "lstm_ts = fit_lstm(X_train, y_train)"
   ]
  },
  {
   "cell_type": "code",
   "execution_count": null,
   "metadata": {},
   "outputs": [],
   "source": [
    "# validate results\n",
    "train_val = validate(lstm_ts, X_train, y_train)\n",
    "test_val = validate(lstm_ts, X_test, y_test)\n",
    "\n",
    "print(\"train rmse = {:.5f}\".format(train_val[2]))\n",
    "print(\"test rmse = {:.5f}\".format(test_val[2]))"
   ]
  },
  {
   "cell_type": "markdown",
   "metadata": {},
   "source": [
    "**Best model params:**\n",
    "\n",
    "(LSTM(1, activation='tanh', use_bias=True, input_shape=(X_train.shape[1], X_train.shape[2])))\n",
    "\n",
    "Loss: mean squared error\n",
    "Optimizer: Adam\n",
    "Learning Rate: 0.005\n",
    "Epochs: 500\n",
    "    \n",
    "RMSE 15.16xxx - 15.18xxx"
   ]
  },
  {
   "cell_type": "code",
   "execution_count": null,
   "metadata": {},
   "outputs": [],
   "source": [
    "plt.figure(figsize=(11,6))\n",
    "\n",
    "# observed\n",
    "plt.plot(X.index[-31:-1],\n",
    "         test_val[1],\n",
    "         label=\"observed\",\n",
    "         c=colors[0])\n",
    "# predictions\n",
    "plt.plot(X.index[-31:-1],\n",
    "         test_val[0],\n",
    "         label=\"test set predictions\\nrmse = {:.5f}\".format(test_val[2]),\n",
    "         c=colors[2])\n",
    "plt.legend()\n",
    "plt.show()"
   ]
  },
  {
   "cell_type": "markdown",
   "metadata": {},
   "source": [
    "## LSTM TS only, include break point dummies"
   ]
  },
  {
   "cell_type": "code",
   "execution_count": null,
   "metadata": {},
   "outputs": [],
   "source": [
    "# set time series data & target\n",
    "X = df.loc[:, df.columns.isin([\"eth_close\",\n",
    "                               \"break_0\", \"break_1\", \"break_2\", \"break_3\"])]\n",
    "y = df.shift(-1).eth_close\n",
    "\n",
    "# split into train/test\n",
    "X_train, X_test = X[:-31], X[-31:-1]\n",
    "y_train, y_test = y[:-31], y[-31:-1]\n",
    "\n",
    "# reshape and scale\n",
    "y_train = np.array(y_train).reshape(-1,1)\n",
    "y_test = np.array(y_test).reshape(-1,1)\n",
    "\n",
    "scaler = MinMaxScaler(feature_range=(0,1))\n",
    "\n",
    "X_train = scaler.fit_transform(X_train)\n",
    "X_test = scaler.fit_transform(X_test)\n",
    "y_train = scaler.fit_transform(y_train)\n",
    "y_test = scaler.fit_transform(y_test)\n",
    "\n",
    "# prep for NN\n",
    "X_train = prep_data(X_train)\n",
    "X_test = prep_data(X_test)\n",
    "print(X_train.shape, X_test.shape)"
   ]
  },
  {
   "cell_type": "code",
   "execution_count": null,
   "metadata": {},
   "outputs": [],
   "source": [
    "lstm_cpts = fit_lstm(X_train, y_train)"
   ]
  },
  {
   "cell_type": "code",
   "execution_count": null,
   "metadata": {},
   "outputs": [],
   "source": [
    "train_cpts_val = validate(lstm_cpts, X_train, y_train)\n",
    "test_cpts_val = validate(lstm_cpts, X_test, y_test)\n",
    "\n",
    "print(\"train rmse = {:.5f}\".format(train_cpts_val[2]))\n",
    "print(\"test rmse = {:.5f}\".format(test_cpts_val[2]))"
   ]
  },
  {
   "cell_type": "markdown",
   "metadata": {},
   "source": [
    "## LSTM RNN w/ Exogenous Variables"
   ]
  },
  {
   "cell_type": "code",
   "execution_count": null,
   "metadata": {},
   "outputs": [],
   "source": [
    "# set time series data & target\n",
    "X = df\n",
    "y = df.shift(-1).eth_close\n",
    "\n",
    "X_train, X_test = X[:-31], X[-31:-1]\n",
    "y_train, y_test = y[:-31], y[-31:-1]\n",
    "print(X_train.shape, X_test.shape, y_train.shape, y_test.shape)"
   ]
  },
  {
   "cell_type": "code",
   "execution_count": null,
   "metadata": {},
   "outputs": [],
   "source": [
    "# reshape and scale\n",
    "y_train = np.array(y_train).reshape(-1,1)\n",
    "y_test = np.array(y_test).reshape(-1,1)\n",
    "\n",
    "scaler = MinMaxScaler(feature_range=(0,1))\n",
    "\n",
    "X_train = scaler.fit_transform(X_train)\n",
    "X_test = scaler.fit_transform(X_test)\n",
    "y_train = scaler.fit_transform(y_train)\n",
    "y_test = scaler.fit_transform(y_test)\n",
    "\n",
    "print(X_train.shape, X_test.shape, y_train.shape, y_test.shape)"
   ]
  },
  {
   "cell_type": "code",
   "execution_count": null,
   "metadata": {},
   "outputs": [],
   "source": [
    "X_train = prep_data(X_train)\n",
    "X_test = prep_data(X_test)\n",
    "print(X_train.shape, X_test.shape)"
   ]
  },
  {
   "cell_type": "code",
   "execution_count": null,
   "metadata": {},
   "outputs": [],
   "source": [
    "# train model\n",
    "lstm_exog = fit_lstm(X_train, y_train)"
   ]
  },
  {
   "cell_type": "code",
   "execution_count": null,
   "metadata": {},
   "outputs": [],
   "source": [
    "# validate results\n",
    "trainx_val = validate(lstm_exog, X_train, y_train)\n",
    "testx_val = validate(lstm_exog, X_test, y_test)\n",
    "\n",
    "print(\"train rmse = {:.5f}\".format(trainx_val[2]))\n",
    "print(\"test rmse = {:.5f}\".format(testx_val[2]))"
   ]
  },
  {
   "cell_type": "code",
   "execution_count": null,
   "metadata": {},
   "outputs": [],
   "source": [
    "plt.figure(figsize=(11,6))\n",
    "\n",
    "# observed\n",
    "plt.plot(X.index[-31:-1],\n",
    "         test_val[1],\n",
    "         label=\"observed\",\n",
    "         c=colors[0])\n",
    "# ts predictions\n",
    "plt.plot(X.index[-31:-1],\n",
    "         test_val[0],\n",
    "         label=\"ts test set\\nrmse = {:.5f}\".format(test_val[2]),\n",
    "         c=colors[2])\n",
    "# exog predictions\n",
    "plt.plot(X.index[-31:-1],\n",
    "         testx_val[0],\n",
    "         label=\"exog test set\\nrmse = {:.5f}\".format(testx_val[2]),\n",
    "         c=colors[3])\n",
    "plt.legend()\n",
    "plt.show()"
   ]
  },
  {
   "cell_type": "code",
   "execution_count": null,
   "metadata": {},
   "outputs": [],
   "source": []
  },
  {
   "cell_type": "code",
   "execution_count": null,
   "metadata": {},
   "outputs": [],
   "source": []
  }
 ],
 "metadata": {
  "kernelspec": {
   "display_name": "Python 3",
   "language": "python",
   "name": "python3"
  },
  "language_info": {
   "codemirror_mode": {
    "name": "ipython",
    "version": 3
   },
   "file_extension": ".py",
   "mimetype": "text/x-python",
   "name": "python",
   "nbconvert_exporter": "python",
   "pygments_lexer": "ipython3",
   "version": "3.6.5"
  }
 },
 "nbformat": 4,
 "nbformat_minor": 2
}
