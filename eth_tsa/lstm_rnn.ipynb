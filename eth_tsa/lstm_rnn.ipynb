{
 "cells": [
  {
   "cell_type": "code",
   "execution_count": 1,
   "metadata": {},
   "outputs": [
    {
     "name": "stderr",
     "output_type": "stream",
     "text": [
      "Using TensorFlow backend.\n"
     ]
    }
   ],
   "source": [
    "import numpy as np\n",
    "import pandas as pd\n",
    "import scipy\n",
    "from datetime import datetime as dt\n",
    "import datetime as dt\n",
    "import matplotlib.pyplot as plt\n",
    "import seaborn as sns\n",
    "\n",
    "from sklearn.metrics import mean_squared_error\n",
    "from sklearn.preprocessing import MinMaxScaler\n",
    "\n",
    "import tensorflow as tf\n",
    "from tensorflow import keras\n",
    "from keras import backend as K\n",
    "from keras.models import Sequential\n",
    "from keras.layers import Dense, Activation, Dropout, LSTM"
   ]
  },
  {
   "cell_type": "code",
   "execution_count": 2,
   "metadata": {},
   "outputs": [],
   "source": [
    "sns.set_style(\"whitegrid\")\n",
    "colors = sns.color_palette(\"deep\", 8)\n",
    "sns.set_palette(colors)"
   ]
  },
  {
   "cell_type": "code",
   "execution_count": 3,
   "metadata": {},
   "outputs": [
    {
     "name": "stdout",
     "output_type": "stream",
     "text": [
      "(1134, 15)\n"
     ]
    },
    {
     "data": {
      "text/html": [
       "<div>\n",
       "<style scoped>\n",
       "    .dataframe tbody tr th:only-of-type {\n",
       "        vertical-align: middle;\n",
       "    }\n",
       "\n",
       "    .dataframe tbody tr th {\n",
       "        vertical-align: top;\n",
       "    }\n",
       "\n",
       "    .dataframe thead th {\n",
       "        text-align: right;\n",
       "    }\n",
       "</style>\n",
       "<table border=\"1\" class=\"dataframe\">\n",
       "  <thead>\n",
       "    <tr style=\"text-align: right;\">\n",
       "      <th></th>\n",
       "      <th>eth_open</th>\n",
       "      <th>eth_high</th>\n",
       "      <th>eth_low</th>\n",
       "      <th>eth_close</th>\n",
       "      <th>eth_volumefrom</th>\n",
       "      <th>eth_volumeto</th>\n",
       "      <th>btc</th>\n",
       "      <th>xrp</th>\n",
       "      <th>eos</th>\n",
       "      <th>ltc</th>\n",
       "      <th>xlm</th>\n",
       "      <th>xmr</th>\n",
       "      <th>vixcls</th>\n",
       "      <th>twexb</th>\n",
       "      <th>effr</th>\n",
       "    </tr>\n",
       "    <tr>\n",
       "      <th>date</th>\n",
       "      <th></th>\n",
       "      <th></th>\n",
       "      <th></th>\n",
       "      <th></th>\n",
       "      <th></th>\n",
       "      <th></th>\n",
       "      <th></th>\n",
       "      <th></th>\n",
       "      <th></th>\n",
       "      <th></th>\n",
       "      <th></th>\n",
       "      <th></th>\n",
       "      <th></th>\n",
       "      <th></th>\n",
       "      <th></th>\n",
       "    </tr>\n",
       "  </thead>\n",
       "  <tbody>\n",
       "    <tr>\n",
       "      <th>2015-08-06</th>\n",
       "      <td>0.6747</td>\n",
       "      <td>3.0</td>\n",
       "      <td>0.6747</td>\n",
       "      <td>3.0</td>\n",
       "      <td>123.93</td>\n",
       "      <td>371.79</td>\n",
       "      <td>277.89</td>\n",
       "      <td>0.008013</td>\n",
       "      <td>0.0</td>\n",
       "      <td>4.10</td>\n",
       "      <td>0.0</td>\n",
       "      <td>0.75</td>\n",
       "      <td>13.77</td>\n",
       "      <td>118.1833</td>\n",
       "      <td>0.14</td>\n",
       "    </tr>\n",
       "    <tr>\n",
       "      <th>2015-08-07</th>\n",
       "      <td>3.0000</td>\n",
       "      <td>3.0</td>\n",
       "      <td>0.1500</td>\n",
       "      <td>1.2</td>\n",
       "      <td>2119.43</td>\n",
       "      <td>1438.16</td>\n",
       "      <td>258.60</td>\n",
       "      <td>0.009000</td>\n",
       "      <td>0.0</td>\n",
       "      <td>3.77</td>\n",
       "      <td>0.0</td>\n",
       "      <td>0.75</td>\n",
       "      <td>13.39</td>\n",
       "      <td>118.1833</td>\n",
       "      <td>0.14</td>\n",
       "    </tr>\n",
       "  </tbody>\n",
       "</table>\n",
       "</div>"
      ],
      "text/plain": [
       "            eth_open  eth_high  eth_low  eth_close  eth_volumefrom  \\\n",
       "date                                                                 \n",
       "2015-08-06    0.6747       3.0   0.6747        3.0          123.93   \n",
       "2015-08-07    3.0000       3.0   0.1500        1.2         2119.43   \n",
       "\n",
       "            eth_volumeto     btc       xrp  eos   ltc  xlm   xmr  vixcls  \\\n",
       "date                                                                       \n",
       "2015-08-06        371.79  277.89  0.008013  0.0  4.10  0.0  0.75   13.77   \n",
       "2015-08-07       1438.16  258.60  0.009000  0.0  3.77  0.0  0.75   13.39   \n",
       "\n",
       "               twexb  effr  \n",
       "date                        \n",
       "2015-08-06  118.1833  0.14  \n",
       "2015-08-07  118.1833  0.14  "
      ]
     },
     "execution_count": 3,
     "metadata": {},
     "output_type": "execute_result"
    }
   ],
   "source": [
    "df_orig = pd.read_json(\"../datasets/df.json\", orient=\"split\")\n",
    "df = df_orig.copy()\n",
    "df = df[df.eth_close.isnull().sum():]\n",
    "df.fillna(0, inplace=True)\n",
    "df.set_index(\"date\", drop=True, inplace=True)\n",
    "print(df.shape)\n",
    "df.head(2)"
   ]
  },
  {
   "cell_type": "code",
   "execution_count": 4,
   "metadata": {},
   "outputs": [
    {
     "data": {
      "text/html": [
       "<div>\n",
       "<style scoped>\n",
       "    .dataframe tbody tr th:only-of-type {\n",
       "        vertical-align: middle;\n",
       "    }\n",
       "\n",
       "    .dataframe tbody tr th {\n",
       "        vertical-align: top;\n",
       "    }\n",
       "\n",
       "    .dataframe thead th {\n",
       "        text-align: right;\n",
       "    }\n",
       "</style>\n",
       "<table border=\"1\" class=\"dataframe\">\n",
       "  <thead>\n",
       "    <tr style=\"text-align: right;\">\n",
       "      <th></th>\n",
       "      <th>eth_open</th>\n",
       "      <th>eth_high</th>\n",
       "      <th>eth_low</th>\n",
       "      <th>eth_close</th>\n",
       "      <th>eth_volumefrom</th>\n",
       "      <th>eth_volumeto</th>\n",
       "      <th>btc</th>\n",
       "      <th>xrp</th>\n",
       "      <th>eos</th>\n",
       "      <th>ltc</th>\n",
       "      <th>xlm</th>\n",
       "      <th>xmr</th>\n",
       "      <th>vixcls</th>\n",
       "      <th>twexb</th>\n",
       "      <th>effr</th>\n",
       "    </tr>\n",
       "    <tr>\n",
       "      <th>date</th>\n",
       "      <th></th>\n",
       "      <th></th>\n",
       "      <th></th>\n",
       "      <th></th>\n",
       "      <th></th>\n",
       "      <th></th>\n",
       "      <th></th>\n",
       "      <th></th>\n",
       "      <th></th>\n",
       "      <th></th>\n",
       "      <th></th>\n",
       "      <th></th>\n",
       "      <th></th>\n",
       "      <th></th>\n",
       "      <th></th>\n",
       "    </tr>\n",
       "  </thead>\n",
       "  <tbody>\n",
       "    <tr>\n",
       "      <th>2018-09-08</th>\n",
       "      <td>196.77</td>\n",
       "      <td>208.38</td>\n",
       "      <td>185.01</td>\n",
       "      <td>195.99</td>\n",
       "      <td>803730.43</td>\n",
       "      <td>1.580799e+08</td>\n",
       "      <td>6249.07</td>\n",
       "      <td>0.2759</td>\n",
       "      <td>4.94</td>\n",
       "      <td>54.72</td>\n",
       "      <td>0.1912</td>\n",
       "      <td>105.07</td>\n",
       "      <td>14.88</td>\n",
       "      <td>126.4258</td>\n",
       "      <td>1.92</td>\n",
       "    </tr>\n",
       "    <tr>\n",
       "      <th>2018-09-09</th>\n",
       "      <td>195.99</td>\n",
       "      <td>202.59</td>\n",
       "      <td>186.92</td>\n",
       "      <td>197.14</td>\n",
       "      <td>727749.08</td>\n",
       "      <td>1.422043e+08</td>\n",
       "      <td>6324.43</td>\n",
       "      <td>0.2697</td>\n",
       "      <td>5.03</td>\n",
       "      <td>54.34</td>\n",
       "      <td>0.1906</td>\n",
       "      <td>105.92</td>\n",
       "      <td>14.88</td>\n",
       "      <td>126.4258</td>\n",
       "      <td>1.92</td>\n",
       "    </tr>\n",
       "    <tr>\n",
       "      <th>2018-09-10</th>\n",
       "      <td>197.13</td>\n",
       "      <td>199.12</td>\n",
       "      <td>175.96</td>\n",
       "      <td>185.15</td>\n",
       "      <td>932452.78</td>\n",
       "      <td>1.751067e+08</td>\n",
       "      <td>6295.54</td>\n",
       "      <td>0.2630</td>\n",
       "      <td>4.99</td>\n",
       "      <td>52.00</td>\n",
       "      <td>0.1995</td>\n",
       "      <td>105.14</td>\n",
       "      <td>14.16</td>\n",
       "      <td>126.4258</td>\n",
       "      <td>1.92</td>\n",
       "    </tr>\n",
       "    <tr>\n",
       "      <th>2018-09-11</th>\n",
       "      <td>185.15</td>\n",
       "      <td>185.15</td>\n",
       "      <td>167.60</td>\n",
       "      <td>183.03</td>\n",
       "      <td>1404998.10</td>\n",
       "      <td>2.455472e+08</td>\n",
       "      <td>6337.11</td>\n",
       "      <td>0.2699</td>\n",
       "      <td>4.94</td>\n",
       "      <td>51.63</td>\n",
       "      <td>0.1969</td>\n",
       "      <td>104.25</td>\n",
       "      <td>13.22</td>\n",
       "      <td>126.4258</td>\n",
       "      <td>1.92</td>\n",
       "    </tr>\n",
       "    <tr>\n",
       "      <th>2018-09-12</th>\n",
       "      <td>183.03</td>\n",
       "      <td>211.92</td>\n",
       "      <td>183.03</td>\n",
       "      <td>206.03</td>\n",
       "      <td>1318060.41</td>\n",
       "      <td>2.613827e+08</td>\n",
       "      <td>6490.05</td>\n",
       "      <td>0.2817</td>\n",
       "      <td>5.43</td>\n",
       "      <td>54.69</td>\n",
       "      <td>0.2069</td>\n",
       "      <td>112.06</td>\n",
       "      <td>13.14</td>\n",
       "      <td>126.4258</td>\n",
       "      <td>1.92</td>\n",
       "    </tr>\n",
       "  </tbody>\n",
       "</table>\n",
       "</div>"
      ],
      "text/plain": [
       "            eth_open  eth_high  eth_low  eth_close  eth_volumefrom  \\\n",
       "date                                                                 \n",
       "2018-09-08    196.77    208.38   185.01     195.99       803730.43   \n",
       "2018-09-09    195.99    202.59   186.92     197.14       727749.08   \n",
       "2018-09-10    197.13    199.12   175.96     185.15       932452.78   \n",
       "2018-09-11    185.15    185.15   167.60     183.03      1404998.10   \n",
       "2018-09-12    183.03    211.92   183.03     206.03      1318060.41   \n",
       "\n",
       "            eth_volumeto      btc     xrp   eos    ltc     xlm     xmr  \\\n",
       "date                                                                     \n",
       "2018-09-08  1.580799e+08  6249.07  0.2759  4.94  54.72  0.1912  105.07   \n",
       "2018-09-09  1.422043e+08  6324.43  0.2697  5.03  54.34  0.1906  105.92   \n",
       "2018-09-10  1.751067e+08  6295.54  0.2630  4.99  52.00  0.1995  105.14   \n",
       "2018-09-11  2.455472e+08  6337.11  0.2699  4.94  51.63  0.1969  104.25   \n",
       "2018-09-12  2.613827e+08  6490.05  0.2817  5.43  54.69  0.2069  112.06   \n",
       "\n",
       "            vixcls     twexb  effr  \n",
       "date                                \n",
       "2018-09-08   14.88  126.4258  1.92  \n",
       "2018-09-09   14.88  126.4258  1.92  \n",
       "2018-09-10   14.16  126.4258  1.92  \n",
       "2018-09-11   13.22  126.4258  1.92  \n",
       "2018-09-12   13.14  126.4258  1.92  "
      ]
     },
     "execution_count": 4,
     "metadata": {},
     "output_type": "execute_result"
    }
   ],
   "source": [
    "df.tail()"
   ]
  },
  {
   "cell_type": "markdown",
   "metadata": {},
   "source": [
    "## Persistence Model Baseline"
   ]
  },
  {
   "cell_type": "code",
   "execution_count": 5,
   "metadata": {},
   "outputs": [],
   "source": [
    "X_true = df.eth_close[-31:-1]\n",
    "X_pred = df.shift(1).eth_close[-31:-1]\n",
    "rmse_persist = np.sqrt(mean_squared_error(X_true, X_pred))"
   ]
  },
  {
   "cell_type": "code",
   "execution_count": 6,
   "metadata": {},
   "outputs": [
    {
     "data": {
      "image/png": "[encoded data removed]",
      "text/plain": [
       "<Figure size 792x432 with 1 Axes>"
      ]
     },
     "metadata": {},
     "output_type": "display_data"
    }
   ],
   "source": [
    "plt.figure(figsize=(11,6))\n",
    "plt.title(\"Persistence Model\")\n",
    "plt.plot(\n",
    "    df.index[-31:-1],\n",
    "    df.eth_close[-31:-1],\n",
    "    label=\"Observed\",\n",
    "    c=colors[0]\n",
    ")\n",
    "plt.plot(\n",
    "    df.index[-31:-1],\n",
    "    X_pred,\n",
    "    label=\"Persistence forecast\\nRMSE = {:.5f}\".format(rmse_persist),\n",
    "    c=colors[1]\n",
    ")\n",
    "plt.legend()\n",
    "plt.show()"
   ]
  },
  {
   "cell_type": "markdown",
   "metadata": {},
   "source": [
    "## Feature Engineering\n",
    "### Create Dummies for Changepoints"
   ]
  },
  {
   "cell_type": "code",
   "execution_count": 7,
   "metadata": {},
   "outputs": [
    {
     "name": "stdout",
     "output_type": "stream",
     "text": [
      "[655, 855, 950, 1095, 1134]\n"
     ]
    }
   ],
   "source": [
    "import ruptures as rpt\n",
    "cpts = rpt.Pelt(model=\"rbf\").fit_predict(pd.DataFrame(df.eth_close), pen=20)\n",
    "print(cpts)"
   ]
  },
  {
   "cell_type": "code",
   "execution_count": 8,
   "metadata": {},
   "outputs": [
    {
     "name": "stderr",
     "output_type": "stream",
     "text": [
      "/anaconda3/lib/python3.6/site-packages/ipykernel_launcher.py:4: SettingWithCopyWarning: \n",
      "A value is trying to be set on a copy of a slice from a DataFrame\n",
      "\n",
      "See the caveats in the documentation: http://pandas.pydata.org/pandas-docs/stable/indexing.html#indexing-view-versus-copy\n",
      "  after removing the cwd from sys.path.\n"
     ]
    }
   ],
   "source": [
    "breaks = cpts[:-1]\n",
    "for i, point in enumerate(breaks):\n",
    "    df[\"break_{}\".format(i)] = 0\n",
    "    df[\"break_{}\".format(i)][point:] = 1"
   ]
  },
  {
   "cell_type": "markdown",
   "metadata": {},
   "source": [
    "## LSTM RNN Time Series Only\n",
    "- Predict last 30 days of eth close price"
   ]
  },
  {
   "cell_type": "code",
   "execution_count": null,
   "metadata": {},
   "outputs": [],
   "source": [
    "# set time series data & target\n",
    "#X = df.loc[:, df.columns.isin([\"eth_close\",\n",
    "#                               \"break_0\", \"break_1\", \"break_2\", \"break_3\"])]\n",
    "X = df.eth_close\n",
    "y = df.shift(-1).eth_close\n",
    "print(X.shape, y.shape)"
   ]
  },
  {
   "cell_type": "code",
   "execution_count": null,
   "metadata": {},
   "outputs": [],
   "source": [
    "X_train, X_test = X[:-31], X[-31:-1]\n",
    "y_train, y_test = y[:-31], y[-31:-1]\n",
    "print(X_train.shape, X_test.shape, y_train.shape, y_test.shape)"
   ]
  },
  {
   "cell_type": "code",
   "execution_count": null,
   "metadata": {},
   "outputs": [],
   "source": [
    "# reshape and scale\n",
    "X_train = np.array(X_train).reshape(-1,1)\n",
    "X_test = np.array(X_test).reshape(-1,1)\n",
    "y_train = np.array(y_train).reshape(-1,1)\n",
    "y_test = np.array(y_test).reshape(-1,1)\n",
    "\n",
    "#scaler = MinMaxScaler(feature_range=(0,1))\n",
    "\n",
    "X_train = scaler.fit_transform(X_train)\n",
    "X_test = scaler.fit_transform(X_test)\n",
    "y_train = scaler.fit_transform(y_train)\n",
    "y_test = scaler.fit_transform(y_test)\n",
    "\n",
    "print(X_train.shape, X_test.shape, y_train.shape, y_test.shape)"
   ]
  },
  {
   "cell_type": "code",
   "execution_count": null,
   "metadata": {},
   "outputs": [],
   "source": [
    "def prep_data(data, window_size = 1):\n",
    "    data_reshaped = np.reshape(data, (data.shape[0], window_size, data.shape[1]))\n",
    "    return data_reshaped\n",
    "\n",
    "def fit_lstm(X_train, y_train):\n",
    "    model = Sequential()\n",
    "    model.add(LSTM(4, input_shape=(X_train.shape[1], X_train.shape[2])))\n",
    "    model.add(Dense(1))\n",
    "    model.compile(loss=\"mean_squared_error\",optimizer=\"adam\")\n",
    "    model.fit(X_train, y_train, epochs=100, batch_size=1, verbose=1)\n",
    "    return model\n",
    "\n",
    "def validate(model, X, y):\n",
    "    yhat = model.predict(X)\n",
    "    yhat_invert = scaler.inverse_transform(yhat)\n",
    "    y_orig = scaler.inverse_transform(y)\n",
    "    rmse = np.sqrt(mean_squared_error(y_orig, yhat_invert))\n",
    "    return (yhat_invert, y_orig, rmse)"
   ]
  },
  {
   "cell_type": "code",
   "execution_count": null,
   "metadata": {},
   "outputs": [],
   "source": [
    "X_train = prep_data(X_train)\n",
    "X_test = prep_data(X_test)"
   ]
  },
  {
   "cell_type": "code",
   "execution_count": null,
   "metadata": {},
   "outputs": [],
   "source": [
    "# train model\n",
    "lstm_ts = fit_lstm(X_train, y_train)"
   ]
  },
  {
   "cell_type": "code",
   "execution_count": null,
   "metadata": {},
   "outputs": [],
   "source": [
    "# validate results\n",
    "train_val = validate(lstm_ts, X_train, y_train)\n",
    "test_val = validate(lstm_ts, X_test, y_test)\n",
    "\n",
    "print(\"train rmse = {:.5f}\".format(train_val[2]))\n",
    "print(\"test rmse = {:.5f}\".format(test_val[2]))"
   ]
  },
  {
   "cell_type": "code",
   "execution_count": null,
   "metadata": {},
   "outputs": [],
   "source": [
    "plt.figure(figsize=(11,6))\n",
    "\n",
    "# observed\n",
    "plt.plot(X.index[-31:-1],\n",
    "         test_val[1],\n",
    "         label=\"observed\",\n",
    "         c=colors[0])\n",
    "# persistence\n",
    "plt.plot(\n",
    "    df.index[-31:-1],\n",
    "    X_pred,\n",
    "    label=\"Persistence forecast\\nRMSE = {:.5f}\".format(rmse_persist),\n",
    "    c=colors[1]\n",
    ")\n",
    "# predictions\n",
    "plt.plot(X.index[-31:-1],\n",
    "         test_val[0],\n",
    "         label=\"test set predictions\\nrmse = {:.5f}\".format(test_val[2]),\n",
    "         c=colors[2])\n",
    "plt.legend()\n",
    "plt.show()"
   ]
  },
  {
   "cell_type": "markdown",
   "metadata": {},
   "source": [
    "## LSTM RNN w/ Exogenous Variables"
   ]
  },
  {
   "cell_type": "code",
   "execution_count": null,
   "metadata": {},
   "outputs": [],
   "source": [
    "# set time series data & target\n",
    "X = df\n",
    "y = df.shift(-1).eth_close\n",
    "\n",
    "X_train, X_test = X[:-31], X[-31:-1]\n",
    "y_train, y_test = y[:-31], y[-31:-1]\n",
    "print(X_train.shape, X_test.shape, y_train.shape, y_test.shape)"
   ]
  },
  {
   "cell_type": "code",
   "execution_count": null,
   "metadata": {},
   "outputs": [],
   "source": [
    "# reshape and scale\n",
    "y_train = np.array(y_train).reshape(-1,1)\n",
    "y_test = np.array(y_test).reshape(-1,1)\n",
    "\n",
    "scaler = MinMaxScaler(feature_range=(0,1))\n",
    "\n",
    "X_train = scaler.fit_transform(X_train)\n",
    "X_test = scaler.fit_transform(X_test)\n",
    "y_train = scaler.fit_transform(y_train)\n",
    "y_test = scaler.fit_transform(y_test)\n",
    "\n",
    "print(X_train.shape, X_test.shape, y_train.shape, y_test.shape)"
   ]
  },
  {
   "cell_type": "code",
   "execution_count": null,
   "metadata": {},
   "outputs": [],
   "source": [
    "X_train = prep_data(X_train)\n",
    "X_test = prep_data(X_test)\n",
    "print(X_train.shape, X_test.shape)"
   ]
  },
  {
   "cell_type": "code",
   "execution_count": null,
   "metadata": {},
   "outputs": [],
   "source": [
    "# train model\n",
    "lstm_exog = fit_lstm(X_train, y_train)"
   ]
  },
  {
   "cell_type": "code",
   "execution_count": null,
   "metadata": {},
   "outputs": [],
   "source": [
    "# validate results\n",
    "trainx_val = validate(lstm_exog, X_train, y_train)\n",
    "testx_val = validate(lstm_exog, X_test, y_test)\n",
    "\n",
    "print(\"train rmse = {:.5f}\".format(trainx_val[2]))\n",
    "print(\"test rmse = {:.5f}\".format(testx_val[2]))"
   ]
  },
  {
   "cell_type": "code",
   "execution_count": null,
   "metadata": {},
   "outputs": [],
   "source": [
    "plt.figure(figsize=(11,6))\n",
    "\n",
    "# observed\n",
    "plt.plot(X.index[-31:-1],\n",
    "         test_val[1],\n",
    "         label=\"observed\",\n",
    "         c=colors[0])\n",
    "# persistence\n",
    "plt.plot(\n",
    "    df.index[-31:-1],\n",
    "    X_pred,\n",
    "    label=\"Persistence forecast\\nRMSE = {:.5f}\".format(rmse_persist),\n",
    "    c=colors[1]\n",
    ")\n",
    "# ts predictions\n",
    "plt.plot(X.index[-31:-1],\n",
    "         test_val[0],\n",
    "         label=\"ts test set\\nrmse = {:.5f}\".format(test_val[2]),\n",
    "         c=colors[2])\n",
    "# exog predictions\n",
    "plt.plot(X.index[-31:-1],\n",
    "         testx_val[0],\n",
    "         label=\"exog test set\\nrmse = {:.5f}\".format(testx_val[2]),\n",
    "         c=colors[3])\n",
    "plt.legend()\n",
    "plt.show()"
   ]
  },
  {
   "cell_type": "code",
   "execution_count": null,
   "metadata": {},
   "outputs": [],
   "source": [
    "plt.figure(figsize=(11,6))\n",
    "\n",
    "# observed\n",
    "plt.plot(X.index[-31:-1],\n",
    "         df.eth_close[-31:-1],\n",
    "         label=\"observed\",\n",
    "         c=colors[0])\n",
    "# ts predictions\n",
    "plt.plot(X.index[-31:-1],\n",
    "         test_val[0],\n",
    "         label=\"ts test set\\nrmse = {:.5f}\".format(test_val[2]),\n",
    "         c=colors[1])\n",
    "# exog predictions\n",
    "plt.plot(X.index[-31:-1],\n",
    "         testx_val[0],\n",
    "         label=\"exog test set\\nrmse = {:.5f}\".format(testx_val[2]),\n",
    "         c=colors[2])\n",
    "# persistence baseline\n",
    "plt.plot(X.index[-31:-1],\n",
    "         X_pred,\n",
    "         label=\"persistence model\\nrmse = {:.5f}\".format(rmse),\n",
    "         c=colors[3])\n",
    "plt.legend()\n",
    "plt.show()"
   ]
  },
  {
   "cell_type": "code",
   "execution_count": null,
   "metadata": {},
   "outputs": [],
   "source": []
  },
  {
   "cell_type": "code",
   "execution_count": null,
   "metadata": {},
   "outputs": [],
   "source": []
  }
 ],
 "metadata": {
  "kernelspec": {
   "display_name": "Python 3",
   "language": "python",
   "name": "python3"
  },
  "language_info": {
   "codemirror_mode": {
    "name": "ipython",
    "version": 3
   },
   "file_extension": ".py",
   "mimetype": "text/x-python",
   "name": "python",
   "nbconvert_exporter": "python",
   "pygments_lexer": "ipython3",
   "version": "3.6.5"
  }
 },
 "nbformat": 4,
 "nbformat_minor": 2
}
