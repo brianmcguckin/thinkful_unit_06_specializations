{
 "cells": [
  {
   "cell_type": "code",
   "execution_count": 1,
   "metadata": {},
   "outputs": [
    {
     "name": "stderr",
     "output_type": "stream",
     "text": [
      "Using TensorFlow backend.\n"
     ]
    }
   ],
   "source": [
    "import numpy as np\n",
    "import pandas as pd\n",
    "import scipy\n",
    "from datetime import datetime as dt\n",
    "import datetime as dt\n",
    "import matplotlib.pyplot as plt\n",
    "import seaborn as sns\n",
    "\n",
    "from sklearn.metrics import mean_squared_error\n",
    "from sklearn.preprocessing import MinMaxScaler\n",
    "\n",
    "import tensorflow as tf\n",
    "from tensorflow import keras\n",
    "from keras import backend as K\n",
    "from keras.models import Sequential\n",
    "from keras.layers import Dense, Activation, Dropout, LSTM"
   ]
  },
  {
   "cell_type": "code",
   "execution_count": 2,
   "metadata": {},
   "outputs": [],
   "source": [
    "sns.set_style(\"whitegrid\")\n",
    "colors = sns.color_palette(\"deep\", 8)\n",
    "sns.set_palette(colors)"
   ]
  },
  {
   "cell_type": "code",
   "execution_count": 3,
   "metadata": {},
   "outputs": [
    {
     "name": "stdout",
     "output_type": "stream",
     "text": [
      "(1134, 15)\n"
     ]
    },
    {
     "data": {
      "text/html": [
       "<div>\n",
       "<style scoped>\n",
       "    .dataframe tbody tr th:only-of-type {\n",
       "        vertical-align: middle;\n",
       "    }\n",
       "\n",
       "    .dataframe tbody tr th {\n",
       "        vertical-align: top;\n",
       "    }\n",
       "\n",
       "    .dataframe thead th {\n",
       "        text-align: right;\n",
       "    }\n",
       "</style>\n",
       "<table border=\"1\" class=\"dataframe\">\n",
       "  <thead>\n",
       "    <tr style=\"text-align: right;\">\n",
       "      <th></th>\n",
       "      <th>eth_open</th>\n",
       "      <th>eth_high</th>\n",
       "      <th>eth_low</th>\n",
       "      <th>eth_close</th>\n",
       "      <th>eth_volumefrom</th>\n",
       "      <th>eth_volumeto</th>\n",
       "      <th>btc</th>\n",
       "      <th>xrp</th>\n",
       "      <th>eos</th>\n",
       "      <th>ltc</th>\n",
       "      <th>xlm</th>\n",
       "      <th>xmr</th>\n",
       "      <th>vixcls</th>\n",
       "      <th>twexb</th>\n",
       "      <th>effr</th>\n",
       "    </tr>\n",
       "    <tr>\n",
       "      <th>date</th>\n",
       "      <th></th>\n",
       "      <th></th>\n",
       "      <th></th>\n",
       "      <th></th>\n",
       "      <th></th>\n",
       "      <th></th>\n",
       "      <th></th>\n",
       "      <th></th>\n",
       "      <th></th>\n",
       "      <th></th>\n",
       "      <th></th>\n",
       "      <th></th>\n",
       "      <th></th>\n",
       "      <th></th>\n",
       "      <th></th>\n",
       "    </tr>\n",
       "  </thead>\n",
       "  <tbody>\n",
       "    <tr>\n",
       "      <th>2015-08-06</th>\n",
       "      <td>0.6747</td>\n",
       "      <td>3.0</td>\n",
       "      <td>0.6747</td>\n",
       "      <td>3.0</td>\n",
       "      <td>123.93</td>\n",
       "      <td>371.79</td>\n",
       "      <td>277.89</td>\n",
       "      <td>0.008013</td>\n",
       "      <td>0.0</td>\n",
       "      <td>4.10</td>\n",
       "      <td>0.0</td>\n",
       "      <td>0.75</td>\n",
       "      <td>13.77</td>\n",
       "      <td>118.1833</td>\n",
       "      <td>0.14</td>\n",
       "    </tr>\n",
       "    <tr>\n",
       "      <th>2015-08-07</th>\n",
       "      <td>3.0000</td>\n",
       "      <td>3.0</td>\n",
       "      <td>0.1500</td>\n",
       "      <td>1.2</td>\n",
       "      <td>2119.43</td>\n",
       "      <td>1438.16</td>\n",
       "      <td>258.60</td>\n",
       "      <td>0.009000</td>\n",
       "      <td>0.0</td>\n",
       "      <td>3.77</td>\n",
       "      <td>0.0</td>\n",
       "      <td>0.75</td>\n",
       "      <td>13.39</td>\n",
       "      <td>118.1833</td>\n",
       "      <td>0.14</td>\n",
       "    </tr>\n",
       "  </tbody>\n",
       "</table>\n",
       "</div>"
      ],
      "text/plain": [
       "            eth_open  eth_high  eth_low  eth_close  eth_volumefrom  \\\n",
       "date                                                                 \n",
       "2015-08-06    0.6747       3.0   0.6747        3.0          123.93   \n",
       "2015-08-07    3.0000       3.0   0.1500        1.2         2119.43   \n",
       "\n",
       "            eth_volumeto     btc       xrp  eos   ltc  xlm   xmr  vixcls  \\\n",
       "date                                                                       \n",
       "2015-08-06        371.79  277.89  0.008013  0.0  4.10  0.0  0.75   13.77   \n",
       "2015-08-07       1438.16  258.60  0.009000  0.0  3.77  0.0  0.75   13.39   \n",
       "\n",
       "               twexb  effr  \n",
       "date                        \n",
       "2015-08-06  118.1833  0.14  \n",
       "2015-08-07  118.1833  0.14  "
      ]
     },
     "execution_count": 3,
     "metadata": {},
     "output_type": "execute_result"
    }
   ],
   "source": [
    "df_orig = pd.read_json(\"../datasets/df.json\", orient=\"split\")\n",
    "df = df_orig.copy()\n",
    "df = df[df.eth_close.isnull().sum():]\n",
    "df.fillna(0, inplace=True)\n",
    "df.set_index(\"date\", drop=True, inplace=True)\n",
    "print(df.shape)\n",
    "df.head(2)"
   ]
  },
  {
   "cell_type": "code",
   "execution_count": 4,
   "metadata": {},
   "outputs": [
    {
     "name": "stdout",
     "output_type": "stream",
     "text": [
      "16.01032625110015\n"
     ]
    }
   ],
   "source": [
    "X = df.eth_close\n",
    "train, test = X[:-30], X[-30:]\n",
    "history = [x for x in train]\n",
    "predictions = list()\n",
    "for i in range(len(test)):\n",
    "    predictions.append(history[-1])\n",
    "    history.append(test[i])\n",
    "\n",
    "rmse_baseline = np.sqrt(mean_squared_error(test, predictions))\n",
    "print(rmse_baseline)"
   ]
  },
  {
   "cell_type": "code",
   "execution_count": 6,
   "metadata": {},
   "outputs": [],
   "source": [
    "def to_supervised(data, lag=1):\n",
    "    df = pd.DataFrame(data)\n",
    "    columns = [df.shift(i) for i in range(1, lag+1)]\n",
    "    columns.append(df)\n",
    "    df = pd.concat(columns, axis=1)\n",
    "    df.fillna(0, inplace=True)\n",
    "    return df\n",
    "\n",
    "def difference(data, interval=1):\n",
    "    diff = list()\n",
    "    for i in range(interval, len(data)):\n",
    "        value = data[i] - data[i-interval]\n",
    "        diff.append(value)\n",
    "    return pd.Series(diff)\n",
    "\n",
    "def inverse_diff(history, yhat, interval=1):\n",
    "    return yhat + history[-interval]\n",
    "\n",
    "def scale(train, test):\n",
    "    scaler = MinMaxScaler(feature_range=(-1,1))\n",
    "    scaler = scaler.fit(train)\n",
    "    train = train.reshape(train.shape[0], train.shape[1])\n",
    "    train_scaled = scaler.transform(train)\n",
    "    test = test.reshape(test.shape[0], test.shape[1])\n",
    "    test_scaled = scaler.transform(test)\n",
    "    return scaler, train_scaled, test_scaled\n",
    "\n",
    "def invert_scale(scaler, X, value):\n",
    "    new_row = [x for x in X] + [value]\n",
    "    array = np.array(new_row)\n",
    "    array = array.reshape(1, len(array))\n",
    "    inverted = scaler.inverse_transform(array)\n",
    "    return inverted[0, -1]\n",
    "\n",
    "def fit_lstm(train, batch_size, nb_epoch, neurons):\n",
    "    X, y = train[:, 0:-1], train[:, -1]\n",
    "    X = X.reshape(X.shape[0], 1, X.shape[1])\n",
    "    model = Sequential()\n",
    "    model.add(LSTM(neurons, batch_input_shape=(batch_size,\n",
    "                                               X.shape[1],\n",
    "                                               X.shape[2]), stateful=True))\n",
    "    model.add(Dense(1))\n",
    "    model.compile(loss=\"mean_squared_error\", optimizer=\"adam\")\n",
    "    for i in range(nb_epoch):\n",
    "        model.fit(X, y, epochs=1, batch_size=batch_size, verbose=0, shuffle=False)\n",
    "        model.reset_states()\n",
    "    return model\n",
    "\n",
    "def forecast_lstm(model, batch_size, X):\n",
    "    X = X.reshape(1,1,len(X))\n",
    "    yhat = model.predict(X, batch_size=batch_size)\n",
    "    return yhat[0,0]"
   ]
  },
  {
   "cell_type": "markdown",
   "metadata": {},
   "source": [
    "## TS"
   ]
  },
  {
   "cell_type": "code",
   "execution_count": 8,
   "metadata": {},
   "outputs": [],
   "source": [
    "# set ts\n",
    "ts = df.eth_close\n",
    "\n",
    "# difference for stationarity\n",
    "diff = difference(ts.values, 1)\n",
    "\n",
    "# transform to supervised learning format\n",
    "supervised = to_supervised(diff, 1)\n",
    "supervised_values = supervised.values\n",
    "\n",
    "# set train/test\n",
    "train, test = supervised_values[:-30], supervised_values[-30:]\n",
    "\n",
    "# scale\n",
    "#scaler, train_scaled, test_scaled = scale(train, test)"
   ]
  },
  {
   "cell_type": "code",
   "execution_count": 10,
   "metadata": {},
   "outputs": [
    {
     "data": {
      "text/plain": [
       "array([[ -5.72,   2.93],\n",
       "       [  2.93,   5.56],\n",
       "       [  5.56,  30.77],\n",
       "       [ 30.77, -22.72],\n",
       "       [-22.72,   4.77],\n",
       "       [  4.77, -28.81],\n",
       "       [-28.81,  10.32],\n",
       "       [ 10.32, -10.76],\n",
       "       [-10.76,   5.46],\n",
       "       [  5.46,   5.54],\n",
       "       [  5.54,  -3.81],\n",
       "       [ -3.81,  -3.26],\n",
       "       [ -3.26,  13.72],\n",
       "       [ 13.72,   7.53],\n",
       "       [  7.53,  -6.88],\n",
       "       [ -6.88,  -4.52],\n",
       "       [ -4.52,  -2.49],\n",
       "       [ -2.49,  13.7 ],\n",
       "       [ 13.7 ,  -0.34],\n",
       "       [ -0.34,  -6.05],\n",
       "       [ -6.05,  -3.74],\n",
       "       [ -3.74, -56.96],\n",
       "       [-56.96,   1.25],\n",
       "       [  1.25, -14.38],\n",
       "       [-14.38, -18.37],\n",
       "       [-18.37,  -0.78],\n",
       "       [ -0.78,   1.15],\n",
       "       [  1.15, -11.99],\n",
       "       [-11.99,  -2.12],\n",
       "       [ -2.12,  23.  ]])"
      ]
     },
     "execution_count": 10,
     "metadata": {},
     "output_type": "execute_result"
    }
   ],
   "source": [
    "test"
   ]
  },
  {
   "cell_type": "code",
   "execution_count": 9,
   "metadata": {},
   "outputs": [
    {
     "data": {
      "text/plain": [
       "array([[  0.  ,  -1.8 ],\n",
       "       [ -1.8 ,   0.  ],\n",
       "       [  0.  ,   0.  ],\n",
       "       ...,\n",
       "       [-22.56,   0.  ],\n",
       "       [  0.  , -24.98],\n",
       "       [-24.98,  -5.72]])"
      ]
     },
     "execution_count": 9,
     "metadata": {},
     "output_type": "execute_result"
    }
   ],
   "source": [
    "train"
   ]
  },
  {
   "cell_type": "code",
   "execution_count": 7,
   "metadata": {},
   "outputs": [
    {
     "name": "stdout",
     "output_type": "stream",
     "text": [
      "runtime: 1449.486298084259 seconds\n"
     ]
    }
   ],
   "source": [
    "import time\n",
    "start = time.time()\n",
    "\n",
    "# fit lstm\n",
    "lstm_model = fit_lstm(train_scaled, 1, 1000, 4)\n",
    "print(\"runtime: {} seconds\".format(time.time() - start))"
   ]
  },
  {
   "cell_type": "code",
   "execution_count": 8,
   "metadata": {},
   "outputs": [],
   "source": [
    "# get predictions\n",
    "preds = list()\n",
    "for i in range(len(test_scaled)):\n",
    "    X, y = test_scaled[i, 0:1], test_scaled[i, -1]\n",
    "    yhat = forecast_lstm(lstm_model, 1, X)\n",
    "    yhat = invert_scale(scaler, X, yhat)\n",
    "    yhat = inverse_diff(ts.values, yhat, len(test_scaled)+1-i)\n",
    "    preds.append(yhat)\n",
    "    expected = ts.values[len(train)+i+1]\n",
    "    #print(\"predicted: {}, expected: {}\".format(yhat, expected))"
   ]
  },
  {
   "cell_type": "code",
   "execution_count": 9,
   "metadata": {},
   "outputs": [
    {
     "name": "stdout",
     "output_type": "stream",
     "text": [
      "15.892882837317583\n"
     ]
    }
   ],
   "source": [
    "rmse_lstm = np.sqrt(mean_squared_error(ts[-30:], preds))\n",
    "print(rmse_lstm)"
   ]
  },
  {
   "cell_type": "markdown",
   "metadata": {},
   "source": [
    "## Exog"
   ]
  },
  {
   "cell_type": "code",
   "execution_count": null,
   "metadata": {},
   "outputs": [],
   "source": []
  }
 ],
 "metadata": {
  "kernelspec": {
   "display_name": "Python 3",
   "language": "python",
   "name": "python3"
  },
  "language_info": {
   "codemirror_mode": {
    "name": "ipython",
    "version": 3
   },
   "file_extension": ".py",
   "mimetype": "text/x-python",
   "name": "python",
   "nbconvert_exporter": "python",
   "pygments_lexer": "ipython3",
   "version": "3.6.5"
  }
 },
 "nbformat": 4,
 "nbformat_minor": 2
}
