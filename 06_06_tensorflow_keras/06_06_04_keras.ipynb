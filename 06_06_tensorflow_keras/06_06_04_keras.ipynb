{
 "cells": [
  {
   "cell_type": "markdown",
   "metadata": {},
   "source": [
    "## Keras\n",
    "- Much more user friendly than TensorFlow\n",
    "- Designed to maintain as much adaptability as possible, but TensorFlow is still much more flexible\n",
    "- Emphasizes modularity by thinking in terms of Models and Layers\n",
    "\n",
    "### Layers\n",
    "- **Layer**: \n",
    "    - Set of nodes/perceptrons that connect in some form to preceding and subsequent layers\n",
    "    - Simplest level of structure in Keras\n",
    "- Layer Types: [documentation](https://keras.io/layers/about-keras-layers/)\n",
    "    - **Dense**: fully connected, most common\n",
    "    - Also have convolutional, recurrent, etc\n",
    "    \n",
    "### Models\n",
    "- **Sequential**: implies a basic stack of layers with a linear regression\n",
    "- **Complex**: can have any graphical structure imaginable, but more difficult to implement"
   ]
  },
  {
   "cell_type": "code",
   "execution_count": 4,
   "metadata": {},
   "outputs": [],
   "source": [
    "from keras.models import Sequential\n",
    "from keras.layers import Dense, Activation\n",
    "\n",
    "# set up a sequential model\n",
    "model = Sequential()\n",
    "\n",
    "# add first layer, dense = fully connected\n",
    "model.add(Dense( # dense = fully connected\n",
    "    units=100, # specify layer width\n",
    "    input_dim=100 # specify number of input variables\n",
    "))\n",
    "model.add(Activation('relu')) # add activation function\n",
    "\n",
    "# add last layer\n",
    "model.add(Dense(\n",
    "    units=10 # specify number of outputs desired\n",
    "))\n",
    "model.add(Activation('softmax')) # activation function can be different"
   ]
  },
  {
   "cell_type": "markdown",
   "metadata": {},
   "source": [
    "### Compile and Fit\n",
    "- **Compile**: specify loss and optimizer\n",
    "    - keras.losses has several built in cost functions to minimize\n",
    "    - keras.optimizers has several optimization options incl gradient descent, etc"
   ]
  },
  {
   "cell_type": "code",
   "execution_count": null,
   "metadata": {},
   "outputs": [],
   "source": []
  }
 ],
 "metadata": {
  "kernelspec": {
   "display_name": "Python 3",
   "language": "python",
   "name": "python3"
  },
  "language_info": {
   "codemirror_mode": {
    "name": "ipython",
    "version": 3
   },
   "file_extension": ".py",
   "mimetype": "text/x-python",
   "name": "python",
   "nbconvert_exporter": "python",
   "pygments_lexer": "ipython3",
   "version": "3.6.5"
  }
 },
 "nbformat": 4,
 "nbformat_minor": 2
}
