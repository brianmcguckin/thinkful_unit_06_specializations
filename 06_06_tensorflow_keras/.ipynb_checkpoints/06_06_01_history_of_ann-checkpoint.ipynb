{
 "cells": [
  {
   "cell_type": "markdown",
   "metadata": {},
   "source": [
    "## History of ANN\n",
    "- In the 1950s, people began to build ANNs to simulate neural networks in the brain\n",
    "- Not originally considered a significant development\n",
    "- Almost scrapped from MIT's ML curriculum\n",
    "\n",
    "### Rebirth of Neural Networks\n",
    "- NNs started to regain traction in 2006\n",
    "- Teams like IDSIA started to win some ML competitions\n",
    "- At this time, ANNs were used as an unsupervised technique\n",
    "- Increases in computational power led to ANN relevance for supervised learning problems as well\n",
    "- Developed ways to parallelize using GPUs, allowed for more complex ANNs\n",
    "- Impact was limited to the most technical ML projects due to manual development of the algorithms\n",
    "\n",
    "### New Tools\n",
    "- Google, 2011:\n",
    "    - Started work on a tool called DistBelief\n",
    "    - Key part of Google Brain (one of Google's earlier AI projects)\n",
    "    - Google open sourced DistBelief in 2015 in a new iteration called TensorFlow\n",
    "- TensorFlow:\n",
    "    - Tool set for building many different models, but particularly useful for building ANNs\n",
    "    - Complex to use\n",
    "- Keras:\n",
    "    - Tool to make creating NNs easier out of the box\n",
    "    - Sat on top of TensorFlow (and other NN package Theano) to more easily create functional NNs\n",
    "- Keras and TensorFlow are now integrated\n",
    "    - Can use Keras natively with TensorFlow\n",
    "    - Helped increase the popularity of modeling with NNs and Python as a language for data science"
   ]
  },
  {
   "cell_type": "code",
   "execution_count": null,
   "metadata": {},
   "outputs": [],
   "source": []
  }
 ],
 "metadata": {
  "kernelspec": {
   "display_name": "Python 3",
   "language": "python",
   "name": "python3"
  },
  "language_info": {
   "codemirror_mode": {
    "name": "ipython",
    "version": 3
   },
   "file_extension": ".py",
   "mimetype": "text/x-python",
   "name": "python",
   "nbconvert_exporter": "python",
   "pygments_lexer": "ipython3",
   "version": "3.6.5"
  }
 },
 "nbformat": 4,
 "nbformat_minor": 2
}
