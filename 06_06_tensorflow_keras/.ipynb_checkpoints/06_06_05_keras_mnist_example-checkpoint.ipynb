{
 "cells": [
  {
   "cell_type": "code",
   "execution_count": 1,
   "metadata": {},
   "outputs": [
    {
     "name": "stderr",
     "output_type": "stream",
     "text": [
      "Using TensorFlow backend.\n"
     ]
    }
   ],
   "source": [
    "import tensorflow as tf\n",
    "import keras"
   ]
  },
  {
   "cell_type": "markdown",
   "metadata": {},
   "source": [
    "## Keras for Neural Networks\n",
    "- Digit recognition using the MNIST dataset\n",
    "    - MNIST: Modified National Institute of Standards and Technology\n",
    "    - One of most used datasets for advanced ML techniques\n",
    "- Goal: use MNIST dataset and NNs to classify handwritten numbers as digits\n",
    "- Create three different styles of NN"
   ]
  },
  {
   "cell_type": "code",
   "execution_count": 2,
   "metadata": {},
   "outputs": [],
   "source": [
    "# import dataset\n",
    "from keras.datasets import mnist\n",
    "\n",
    "# model building imports\n",
    "from keras.models import Sequential\n",
    "from keras.layers import Dense, Dropout, Flatten, Conv2D, MaxPooling2D\n",
    "from keras.layers import LSTM, Input, TimeDistributed\n",
    "from keras.models import Model\n",
    "from keras.optimizers import RMSprop\n",
    "\n",
    "# import backend\n",
    "from keras import backend as K"
   ]
  },
  {
   "cell_type": "code",
   "execution_count": 3,
   "metadata": {},
   "outputs": [
    {
     "data": {
      "text/plain": [
       "array([[[0, 0, 0, ..., 0, 0, 0],\n",
       "        [0, 0, 0, ..., 0, 0, 0],\n",
       "        [0, 0, 0, ..., 0, 0, 0],\n",
       "        ...,\n",
       "        [0, 0, 0, ..., 0, 0, 0],\n",
       "        [0, 0, 0, ..., 0, 0, 0],\n",
       "        [0, 0, 0, ..., 0, 0, 0]],\n",
       "\n",
       "       [[0, 0, 0, ..., 0, 0, 0],\n",
       "        [0, 0, 0, ..., 0, 0, 0],\n",
       "        [0, 0, 0, ..., 0, 0, 0],\n",
       "        ...,\n",
       "        [0, 0, 0, ..., 0, 0, 0],\n",
       "        [0, 0, 0, ..., 0, 0, 0],\n",
       "        [0, 0, 0, ..., 0, 0, 0]],\n",
       "\n",
       "       [[0, 0, 0, ..., 0, 0, 0],\n",
       "        [0, 0, 0, ..., 0, 0, 0],\n",
       "        [0, 0, 0, ..., 0, 0, 0],\n",
       "        ...,\n",
       "        [0, 0, 0, ..., 0, 0, 0],\n",
       "        [0, 0, 0, ..., 0, 0, 0],\n",
       "        [0, 0, 0, ..., 0, 0, 0]],\n",
       "\n",
       "       ...,\n",
       "\n",
       "       [[0, 0, 0, ..., 0, 0, 0],\n",
       "        [0, 0, 0, ..., 0, 0, 0],\n",
       "        [0, 0, 0, ..., 0, 0, 0],\n",
       "        ...,\n",
       "        [0, 0, 0, ..., 0, 0, 0],\n",
       "        [0, 0, 0, ..., 0, 0, 0],\n",
       "        [0, 0, 0, ..., 0, 0, 0]],\n",
       "\n",
       "       [[0, 0, 0, ..., 0, 0, 0],\n",
       "        [0, 0, 0, ..., 0, 0, 0],\n",
       "        [0, 0, 0, ..., 0, 0, 0],\n",
       "        ...,\n",
       "        [0, 0, 0, ..., 0, 0, 0],\n",
       "        [0, 0, 0, ..., 0, 0, 0],\n",
       "        [0, 0, 0, ..., 0, 0, 0]],\n",
       "\n",
       "       [[0, 0, 0, ..., 0, 0, 0],\n",
       "        [0, 0, 0, ..., 0, 0, 0],\n",
       "        [0, 0, 0, ..., 0, 0, 0],\n",
       "        ...,\n",
       "        [0, 0, 0, ..., 0, 0, 0],\n",
       "        [0, 0, 0, ..., 0, 0, 0],\n",
       "        [0, 0, 0, ..., 0, 0, 0]]], dtype=uint8)"
      ]
     },
     "execution_count": 3,
     "metadata": {},
     "output_type": "execute_result"
    }
   ],
   "source": [
    "(X_train, y_train), (X_test, y_test) = mnist.load_data()\n",
    "X_train"
   ]
  },
  {
   "cell_type": "markdown",
   "metadata": {},
   "source": [
    "- Data are not images, instead values of pixels\n",
    "- Higher dimensional structure than usual featureset matrices\n",
    "    - Set of clouds; each cloud represents an image\n",
    "    - Cloud has columns of values representing the darkness of pixels\n",
    "- Pixel darkness is unlikely to have a simple relationship with the digit represented\n",
    "- Need to find meaningful patterns within clouds to create models from\n",
    "- Perfect task for NNs:\n",
    "    - Multiple layers allows for clouds full values to be transformed into meaningful vectors\n",
    "    - Output will be labels predicting the digit each cloud represents\n",
    "    \n",
    "### Multi Layer Perceptron\n",
    "- Set of perceptron models organized into layers, one feeding into the next\n",
    "- Need to reshape data into flat vectors for each digit\n",
    "- Need to convert outcome to a matrix of binary variables rather than the digit"
   ]
  },
  {
   "cell_type": "code",
   "execution_count": 4,
   "metadata": {},
   "outputs": [
    {
     "name": "stdout",
     "output_type": "stream",
     "text": [
      "X_train shape: (60000, 28, 28)\n",
      "X_test shape: (10000, 28, 28)\n"
     ]
    }
   ],
   "source": [
    "print('X_train shape: {}\\nX_test shape: {}'.format(X_train.shape, X_test.shape))"
   ]
  },
  {
   "cell_type": "code",
   "execution_count": 5,
   "metadata": {},
   "outputs": [
    {
     "name": "stdout",
     "output_type": "stream",
     "text": [
      "60000 train samples\n",
      "10000 test samples\n"
     ]
    }
   ],
   "source": [
    "# 60,000 train images, 10,000 test images\n",
    "# Images are 28*28, array length should be 784\n",
    "\n",
    "X_train = X_train.reshape(60000, 784)\n",
    "X_test = X_test.reshape(10000, 784)\n",
    "\n",
    "# Convert to float32 for type consistency\n",
    "X_train = X_train.astype('float32')\n",
    "X_test = X_test.astype('float32')\n",
    "\n",
    "# Normalize values from 0-255 (256 values of pixels) to 1\n",
    "X_train /= 255\n",
    "X_test /= 255\n",
    "\n",
    "# print sample sizes\n",
    "print('{} train samples\\n{} test samples'.format(X_train.shape[0],\n",
    "                                                 X_test.shape[0]))\n",
    "\n",
    "# Convert class vectors to binary class matrices\n",
    "# Instead of one column with 10 values, create 10 binary columns\n",
    "y_train = keras.utils.to_categorical(y_train, 10)\n",
    "y_test = keras.utils.to_categorical(y_test, 10)"
   ]
  },
  {
   "cell_type": "markdown",
   "metadata": {},
   "source": [
    "- Create model using dense layers and dropouts\n",
    "- Dropouts drop a certain portion of perceptrons to combat overfitting\n",
    "- Activation function: [ReLU (Rectified Linear Unit)](https://en.wikipedia.org/wiki/Rectifier_(neural_networks)"
   ]
  },
  {
   "cell_type": "code",
   "execution_count": 6,
   "metadata": {},
   "outputs": [
    {
     "name": "stdout",
     "output_type": "stream",
     "text": [
      "_________________________________________________________________\n",
      "Layer (type)                 Output Shape              Param #   \n",
      "=================================================================\n",
      "dense_1 (Dense)              (None, 64)                50240     \n",
      "_________________________________________________________________\n",
      "dropout_1 (Dropout)          (None, 64)                0         \n",
      "_________________________________________________________________\n",
      "dense_2 (Dense)              (None, 64)                4160      \n",
      "_________________________________________________________________\n",
      "dropout_2 (Dropout)          (None, 64)                0         \n",
      "_________________________________________________________________\n",
      "dense_3 (Dense)              (None, 10)                650       \n",
      "=================================================================\n",
      "Total params: 55,050\n",
      "Trainable params: 55,050\n",
      "Non-trainable params: 0\n",
      "_________________________________________________________________\n"
     ]
    }
   ],
   "source": [
    "# instantiate model\n",
    "model = Sequential()\n",
    "\n",
    "# add dense layers to create fully connected MLP\n",
    "# note: input shape is specified only for the first layer\n",
    "model.add(Dense(64, activation='relu', input_shape=(784,)))\n",
    "model.add(Dropout(0.1)) # dropout layers removing features to reduce overfitting\n",
    "\n",
    "model.add(Dense(64, activation='relu'))\n",
    "model.add(Dropout(0.1))\n",
    "\n",
    "model.add(Dense(10, activation='softmax')) # set last layer units equal to number of classes\n",
    "\n",
    "model.summary()\n",
    "\n",
    "# compile model\n",
    "model.compile(\n",
    "    loss='categorical_crossentropy',\n",
    "    optimizer=RMSprop(),\n",
    "    metrics=['accuracy']\n",
    ")"
   ]
  },
  {
   "cell_type": "markdown",
   "metadata": {},
   "source": [
    "- Now have model to use for predicting digits from pixel data using epochs\n",
    "- **Epoch**: one forward pass and one backward pass of all training data\n",
    "    - Multiple epochs, updating weights with a single epoch (pass) is not enough to train NN\n",
    "- **Batch size**: number of samples to use in one forward/backward pass (one epoch)\n",
    "    - Higher batch size requires more memory\n",
    "- Setting layer width to 64 perceptrons, is arbitrary, however...\n",
    "    - Units within $2^x$ series parallelizes more efficiently\n",
    "- Number of parameters is the product of input width plus one and layer width\n",
    "    - Reflects number of weights creating in that layer"
   ]
  },
  {
   "cell_type": "code",
   "execution_count": 7,
   "metadata": {},
   "outputs": [
    {
     "name": "stdout",
     "output_type": "stream",
     "text": [
      "Train on 60000 samples, validate on 10000 samples\n",
      "Epoch 1/10\n",
      "60000/60000 [==============================] - 2s 27us/step - loss: 0.4322 - acc: 0.8738 - val_loss: 0.2161 - val_acc: 0.9323\n",
      "Epoch 2/10\n",
      "60000/60000 [==============================] - 1s 21us/step - loss: 0.2092 - acc: 0.9377 - val_loss: 0.1403 - val_acc: 0.9580\n",
      "Epoch 3/10\n",
      "60000/60000 [==============================] - 1s 19us/step - loss: 0.1613 - acc: 0.9522 - val_loss: 0.1209 - val_acc: 0.9619\n",
      "Epoch 4/10\n",
      "60000/60000 [==============================] - 1s 19us/step - loss: 0.1351 - acc: 0.9589 - val_loss: 0.1104 - val_acc: 0.9674\n",
      "Epoch 5/10\n",
      "60000/60000 [==============================] - 1s 18us/step - loss: 0.1193 - acc: 0.9644 - val_loss: 0.0982 - val_acc: 0.9709\n",
      "Epoch 6/10\n",
      "60000/60000 [==============================] - 1s 18us/step - loss: 0.1079 - acc: 0.9679 - val_loss: 0.0901 - val_acc: 0.9730\n",
      "Epoch 7/10\n",
      "60000/60000 [==============================] - 1s 17us/step - loss: 0.0989 - acc: 0.9700 - val_loss: 0.0881 - val_acc: 0.9742\n",
      "Epoch 8/10\n",
      "60000/60000 [==============================] - 1s 17us/step - loss: 0.0899 - acc: 0.9726 - val_loss: 0.0963 - val_acc: 0.9732\n",
      "Epoch 9/10\n",
      "60000/60000 [==============================] - 1s 17us/step - loss: 0.0832 - acc: 0.9748 - val_loss: 0.0850 - val_acc: 0.9751\n",
      "Epoch 10/10\n",
      "60000/60000 [==============================] - 1s 17us/step - loss: 0.0801 - acc: 0.9754 - val_loss: 0.0894 - val_acc: 0.9748\n",
      "test loss: 0.08942102362994338\n",
      "test accuracy: 0.9748\n"
     ]
    }
   ],
   "source": [
    "history = model.fit(\n",
    "    X_train,\n",
    "    y_train,\n",
    "    batch_size=128,\n",
    "    epochs=10,\n",
    "    verbose=1,\n",
    "    validation_data=(X_test, y_test)\n",
    ")\n",
    "score = model.evaluate(X_test, y_test, verbose=0)\n",
    "print('test loss: {}'.format(score[0]))\n",
    "print('test accuracy: {}'.format(score[1]))"
   ]
  },
  {
   "cell_type": "markdown",
   "metadata": {},
   "source": [
    "**Result**: Each epoch trained in ~1 second and returned accuracy in the .97 range\n",
    "\n",
    "### Convolutional Neural Networks\n",
    "**Note**: the complexity of CNNs is computationally demanding, may take hours to run\n",
    "- **Convolution** takes data and creates overlapping subsegments testing for a given feature in a set of spaces upon which the model is developed\n",
    "    1. Define shape of input data\n",
    "        - Can be any number of dimensions\n",
    "        - Using 2d here since images are in two dimensions\n",
    "    2. Create kernels (or tiles)\n",
    "        - Kernels are little windows that look over subsets of data of a given size\n",
    "        - Using 3x3 kernels which run overlapping over the 28x28 input looking for features\n",
    "        - This is a convolutional layer, searching for a subpattern over the whole image\n",
    "        - Can chain multiple convolutional layers together, using two here\n",
    "    3. Create pooling layer\n",
    "        - Downsampling technique which reduces sample size and simplifies later processes\n",
    "        - For each value generated by convolution layers\n",
    "            - Pooling layer looks over the grid in non-overlapping segments and takes the maximum value of outputs\n",
    "            - Approximate/relative location matters more than exact location\n",
    "    4. Flatten data back out to put into dense layers (as with MLP model)"
   ]
  },
  {
   "cell_type": "code",
   "execution_count": 8,
   "metadata": {},
   "outputs": [
    {
     "name": "stdout",
     "output_type": "stream",
     "text": [
      "X_train shape: (60000, 28, 28, 1)\n",
      "Train on 60000 samples, validate on 10000 samples\n",
      "Epoch 1/10\n",
      "60000/60000 [==============================] - 114s 2ms/step - loss: 0.2747 - acc: 0.9162 - val_loss: 0.0604 - val_acc: 0.9801\n",
      "Epoch 2/10\n",
      "60000/60000 [==============================] - 113s 2ms/step - loss: 0.0928 - acc: 0.9728 - val_loss: 0.0426 - val_acc: 0.9850\n",
      "Epoch 3/10\n",
      "60000/60000 [==============================] - 115s 2ms/step - loss: 0.0688 - acc: 0.9797 - val_loss: 0.0398 - val_acc: 0.9865\n",
      "Epoch 4/10\n",
      "60000/60000 [==============================] - 120s 2ms/step - loss: 0.0552 - acc: 0.9830 - val_loss: 0.0319 - val_acc: 0.9892\n",
      "Epoch 5/10\n",
      "60000/60000 [==============================] - 126s 2ms/step - loss: 0.0483 - acc: 0.9860 - val_loss: 0.0309 - val_acc: 0.9893\n",
      "Epoch 6/10\n",
      "60000/60000 [==============================] - 112s 2ms/step - loss: 0.0408 - acc: 0.9878 - val_loss: 0.0305 - val_acc: 0.9892\n",
      "Epoch 7/10\n",
      "60000/60000 [==============================] - 113s 2ms/step - loss: 0.0377 - acc: 0.9884 - val_loss: 0.0338 - val_acc: 0.9893\n",
      "Epoch 8/10\n",
      "60000/60000 [==============================] - 114s 2ms/step - loss: 0.0347 - acc: 0.9891 - val_loss: 0.0261 - val_acc: 0.9918\n",
      "Epoch 9/10\n",
      "60000/60000 [==============================] - 113s 2ms/step - loss: 0.0321 - acc: 0.9900 - val_loss: 0.0292 - val_acc: 0.9908\n",
      "Epoch 10/10\n",
      "60000/60000 [==============================] - 113s 2ms/step - loss: 0.0287 - acc: 0.9910 - val_loss: 0.0303 - val_acc: 0.9911\n",
      "test loss: 0.030302373815378633\n",
      "test accuracy: 0.9911\n",
      "runtime: 1159.7456641197205 seconds\n"
     ]
    }
   ],
   "source": [
    "import time\n",
    "start_time = time.time()\n",
    "\n",
    "# input image dimensions from data\n",
    "img_rows, img_cols = 28, 28\n",
    "num_classes = 10\n",
    "\n",
    "# shuffle data and split into train/test sets\n",
    "(X_train, y_train), (X_test, y_test) = mnist.load_data()\n",
    "\n",
    "if K.image_data_format() == 'channels_first':\n",
    "    X_train = X_train.reshape(X_train.shape[0], 1, img_rows, img_cols)\n",
    "    X_test = X_test.reshape(X_test.shape[0], 1, img_rows, img_cols)\n",
    "    input_shape = (1, img_rows, img_cols)\n",
    "else:\n",
    "    X_train = X_train.reshape(X_train.shape[0], img_rows, img_cols, 1)\n",
    "    X_test = X_test.reshape(X_test.shape[0], img_rows, img_cols, 1)\n",
    "    input_shape = (img_rows, img_cols, 1)\n",
    "    \n",
    "X_train = X_train.astype('float32')\n",
    "X_test = X_test.astype('float32')\n",
    "X_train /= 255\n",
    "X_test /= 255\n",
    "print('X_train shape: {}'.format(X_train.shape))\n",
    "\n",
    "# convert class vectors to binary class matrices\n",
    "y_train = keras.utils.to_categorical(y_train, num_classes)\n",
    "y_test = keras.utils.to_categorical(y_test, num_classes)\n",
    "\n",
    "# instatiate and build model\n",
    "model = Sequential()\n",
    "\n",
    "# add first convolutional layer, specifying shape\n",
    "model.add(Conv2D(32,\n",
    "                 kernel_size=(3,3),\n",
    "                 activation='relu',\n",
    "                 input_shape=input_shape\n",
    "                ))\n",
    "model.add(Conv2D(64, (3,3), activation='relu'))\n",
    "model.add(MaxPooling2D(pool_size=(2,2)))\n",
    "model.add(Dropout(0.25))\n",
    "model.add(Flatten())\n",
    "model.add(Dense(128, activation='relu'))\n",
    "model.add(Dropout(0.5))\n",
    "model.add(Dense(num_classes, activation='softmax'))\n",
    "\n",
    "# compile model\n",
    "model.compile(loss=keras.losses.categorical_crossentropy,\n",
    "              optimizer=keras.optimizers.Adadelta(),\n",
    "              metrics=['accuracy'])\n",
    "\n",
    "# fit model\n",
    "model.fit(X_train,\n",
    "          y_train,\n",
    "          batch_size=128,\n",
    "          epochs=10,\n",
    "          verbose=1,\n",
    "          validation_data=(X_test, y_test))\n",
    "score = model.evaluate(X_test, y_test, verbose=0)\n",
    "print('test loss: {}'.format(score[0]))\n",
    "print('test accuracy: {}'.format(score[1]))\n",
    "print('runtime: {} seconds'.format((time.time() - start_time)))"
   ]
  },
  {
   "cell_type": "markdown",
   "metadata": {},
   "source": [
    "### Hierarchical Recurrent Neural Networks\n",
    "- Feedforward: data flows in one direction until it reaches end of NN\n",
    "- **Recurrent NNs** let data cycle through network, ignoring this directional logic\n",
    "- Caveats of RNNs:\n",
    "    - Requires abandoning sequential model building, can get much more complicated\n",
    "    - Recurrent layers  often with time distribution\n",
    "    - Time distribution: handles extra dimension created through LSTM layer as a time dimension\n",
    "    - LSTM: long short-term memory, unit of a RNN composed of a cell and input/output/forget gates"
   ]
  },
  {
   "cell_type": "code",
   "execution_count": 9,
   "metadata": {},
   "outputs": [
    {
     "name": "stdout",
     "output_type": "stream",
     "text": [
      "X_train shape: (60000, 28, 28, 1)\n",
      "X_test shape: (10000, 28, 28, 1)\n",
      "Train on 60000 samples, validate on 10000 samples\n",
      "Epoch 1/3\n",
      "60000/60000 [==============================] - 109s 2ms/step - loss: 1.0298 - acc: 0.6528 - val_loss: 0.5749 - val_acc: 0.7994\n",
      "Epoch 2/3\n",
      "60000/60000 [==============================] - 107s 2ms/step - loss: 0.4089 - acc: 0.8701 - val_loss: 0.2473 - val_acc: 0.9258\n",
      "Epoch 3/3\n",
      "60000/60000 [==============================] - 108s 2ms/step - loss: 0.2431 - acc: 0.9257 - val_loss: 0.1701 - val_acc: 0.9471\n",
      "test loss: 0.1701113304913044\n",
      "test accuracy: 0.9471\n",
      "runtime: 330.780207157135 seconds\n"
     ]
    }
   ],
   "source": [
    "start_time = time.time()\n",
    "\n",
    "# training params\n",
    "batch_size = 64\n",
    "num_classes = 10\n",
    "epochs = 3\n",
    "\n",
    "# embedding dimensions\n",
    "row_hidden = 32\n",
    "col_hidden = 32\n",
    "\n",
    "# data, shuffled/split between train/test sets\n",
    "(X_train, y_train), (X_test, y_test) = mnist.load_data()\n",
    "\n",
    "# reshape data to 4D for Hierarchical RNN\n",
    "X_train = X_train.reshape(X_train.shape[0],28,28,1)\n",
    "X_test = X_test.reshape(X_test.shape[0],28,28,1)\n",
    "X_train = X_train.astype('float32')\n",
    "X_test = X_test.astype('float32')\n",
    "X_train /= 255\n",
    "X_test /= 255\n",
    "print('X_train shape: {}'.format(X_train.shape))\n",
    "print('X_test shape: {}'.format(X_test.shape))\n",
    "\n",
    "# convert class vectors to binary class matrices\n",
    "y_train = keras.utils.to_categorical(y_train, num_classes)\n",
    "y_test = keras.utils.to_categorical(y_test, num_classes)\n",
    "\n",
    "row, col, pixel = X_train.shape[1:]\n",
    "\n",
    "# 4D input\n",
    "X = Input(shape=(row, col, pixel))\n",
    "\n",
    "# encode rows of pixels using TimeDistributed Wrapper\n",
    "encoded_rows = TimeDistributed(LSTM(row_hidden))(X)\n",
    "\n",
    "# encode columns of encoded rows\n",
    "encoded_columns = LSTM(col_hidden)(encoded_rows)\n",
    "\n",
    "# predictions & model\n",
    "prediction = Dense(num_classes, activation='softmax')(encoded_columns)\n",
    "model = Model(X, prediction)\n",
    "model.compile(\n",
    "    loss='categorical_crossentropy',\n",
    "    optimizer='rmsprop',\n",
    "    metrics=['accuracy']\n",
    ")\n",
    "# train\n",
    "model.fit(\n",
    "    X_train, y_train,\n",
    "    batch_size=batch_size,\n",
    "    epochs=epochs,\n",
    "    verbose=1,\n",
    "    validation_data=(X_test, y_test)\n",
    ")\n",
    "# evaluate\n",
    "scores = model.evaluate(X_test, y_test, verbose=0)\n",
    "print('test loss: {}'.format(scores[0]))\n",
    "print('test accuracy: {}'.format(scores[1]))\n",
    "print('runtime: {} seconds'.format(time.time() - start_time))"
   ]
  }
 ],
 "metadata": {
  "kernelspec": {
   "display_name": "Python 3",
   "language": "python",
   "name": "python3"
  },
  "language_info": {
   "codemirror_mode": {
    "name": "ipython",
    "version": 3
   },
   "file_extension": ".py",
   "mimetype": "text/x-python",
   "name": "python",
   "nbconvert_exporter": "python",
   "pygments_lexer": "ipython3",
   "version": "3.6.5"
  }
 },
 "nbformat": 4,
 "nbformat_minor": 2
}
