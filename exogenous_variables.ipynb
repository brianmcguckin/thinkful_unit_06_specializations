{
 "cells": [
  {
   "cell_type": "code",
   "execution_count": 1,
   "metadata": {},
   "outputs": [],
   "source": [
    "import numpy as np\n",
    "import pandas as pd\n",
    "import scipy\n",
    "import datetime as dt\n",
    "import matplotlib.pyplot as plt\n",
    "import seaborn as sns\n",
    "import warnings\n",
    "\n",
    "%matplotlib inline\n",
    "warnings.filterwarnings('ignore')\n",
    "sns.set_style('whitegrid')\n",
    "sns.set_palette('muted')"
   ]
  },
  {
   "cell_type": "markdown",
   "metadata": {},
   "source": [
    "## Exogenous Variables\n",
    "- Etherem: OHLCV\n",
    "- Other Cryptocurrency prices\n",
    "    - BTC: Bitcoin\n",
    "    - XRP: Ripple\n",
    "    - EOS: EOS.IO\n",
    "    - LTC: Litecoin\n",
    "    - XLM: Stellar\n",
    "    - XMR: Monero\n",
    "- Other Indices\n",
    "    - VIX: CBOE Volatility Index\n",
    "    - TWEXB: Trade Weighted USD Index, Broad\n",
    "    - EFFR: Effective Federal Fund Rate"
   ]
  },
  {
   "cell_type": "markdown",
   "metadata": {},
   "source": [
    "### Load Data"
   ]
  },
  {
   "cell_type": "code",
   "execution_count": 2,
   "metadata": {},
   "outputs": [],
   "source": [
    "date = dt.datetime.today().strftime('%Y-%m-%d')\n",
    "symbols = ['eth','btc','xrp','eos','ltc','xlm','xmr','vixcls','twexb','effr']"
   ]
  },
  {
   "cell_type": "code",
   "execution_count": 3,
   "metadata": {},
   "outputs": [],
   "source": [
    "# create empty df for each symbol got data for\n",
    "d = {symbol: pd.DataFrame() for symbol in symbols}\n",
    "\n",
    "# populate each with their respective json data\n",
    "for symbol, df in d.items():\n",
    "    d[symbol] = pd.read_json('{}_data_{}.json'.format(symbol, date), orient='split')\n",
    "\n",
    "# convert keys:values to variables = assignments\n",
    "locals().update(d)"
   ]
  },
  {
   "cell_type": "markdown",
   "metadata": {},
   "source": [
    "### DataFrame Cleaning and Prep"
   ]
  },
  {
   "cell_type": "code",
   "execution_count": 4,
   "metadata": {},
   "outputs": [],
   "source": [
    "# rename target currency columns with currency name\n",
    "cols_orig = list(eth.columns)\n",
    "cols_new = ['date']\n",
    "\n",
    "for col in cols_orig[1:]:\n",
    "    cols_new.append('eth_{}'.format(col))\n",
    "    \n",
    "eth.columns = cols_new"
   ]
  },
  {
   "cell_type": "code",
   "execution_count": 5,
   "metadata": {},
   "outputs": [],
   "source": [
    "# prep exogenous cryptocurrencies\n",
    "exog_curr = [btc, xrp, eos, ltc, xlm, xmr]\n",
    "\n",
    "for curr, symbol in zip(exog_curr, symbols[1:-3]):\n",
    "    curr.drop(['open', 'high', 'low', 'volumefrom', 'volumeto'],\n",
    "             axis=1,\n",
    "             inplace=True)\n",
    "    curr.rename({'close':symbol}, axis=1, inplace=True)"
   ]
  },
  {
   "cell_type": "code",
   "execution_count": 6,
   "metadata": {},
   "outputs": [],
   "source": [
    "# do this the dumb way for now\n",
    "df = eth.merge(btc, how='outer', on='date')\n",
    "df = df.merge(xrp, how='outer', on='date')\n",
    "df = df.merge(eos, how='outer', on='date')\n",
    "df = df.merge(ltc, how='outer', on='date')\n",
    "df = df.merge(xlm, how='outer', on='date')\n",
    "df = df.merge(xmr, how='outer', on='date')\n",
    "df = df.merge(vixcls, how='outer', on='date')\n",
    "df = df.merge(twexb, how='outer', on='date')\n",
    "df = df.merge(effr, how='outer', on='date')"
   ]
  },
  {
   "cell_type": "code",
   "execution_count": 7,
   "metadata": {},
   "outputs": [
    {
     "name": "stdout",
     "output_type": "stream",
     "text": [
      "earliest date: 2010-07-16 00:00:00\n"
     ]
    }
   ],
   "source": [
    "# start at beginning of oldest cryptocurrency\n",
    "currencies = exog_curr\n",
    "currencies.append(eth)\n",
    "start_date = pd.to_datetime(\n",
    "    dt.datetime.today().strftime('%Y-%m-%d'),\n",
    "    format='%Y-%m-%d')\n",
    "\n",
    "for curr in exog_curr:\n",
    "    if curr.date.min() < start_date:\n",
    "        start_date = curr.date.min()\n",
    "\n",
    "print('earliest date: {}'.format(start_date))"
   ]
  },
  {
   "cell_type": "code",
   "execution_count": 8,
   "metadata": {
    "scrolled": false
   },
   "outputs": [
    {
     "data": {
      "text/html": [
       "<div>\n",
       "<style scoped>\n",
       "    .dataframe tbody tr th:only-of-type {\n",
       "        vertical-align: middle;\n",
       "    }\n",
       "\n",
       "    .dataframe tbody tr th {\n",
       "        vertical-align: top;\n",
       "    }\n",
       "\n",
       "    .dataframe thead th {\n",
       "        text-align: right;\n",
       "    }\n",
       "</style>\n",
       "<table border=\"1\" class=\"dataframe\">\n",
       "  <thead>\n",
       "    <tr style=\"text-align: right;\">\n",
       "      <th></th>\n",
       "      <th>date</th>\n",
       "      <th>eth_open</th>\n",
       "      <th>eth_high</th>\n",
       "      <th>eth_low</th>\n",
       "      <th>eth_close</th>\n",
       "      <th>eth_volumefrom</th>\n",
       "      <th>eth_volumeto</th>\n",
       "      <th>btc</th>\n",
       "      <th>xrp</th>\n",
       "      <th>eos</th>\n",
       "      <th>ltc</th>\n",
       "      <th>xlm</th>\n",
       "      <th>xmr</th>\n",
       "      <th>vixcls</th>\n",
       "      <th>twexb</th>\n",
       "      <th>effr</th>\n",
       "    </tr>\n",
       "  </thead>\n",
       "  <tbody>\n",
       "    <tr>\n",
       "      <th>0</th>\n",
       "      <td>2010-07-16</td>\n",
       "      <td>NaN</td>\n",
       "      <td>NaN</td>\n",
       "      <td>NaN</td>\n",
       "      <td>NaN</td>\n",
       "      <td>NaN</td>\n",
       "      <td>NaN</td>\n",
       "      <td>0.04951</td>\n",
       "      <td>NaN</td>\n",
       "      <td>NaN</td>\n",
       "      <td>NaN</td>\n",
       "      <td>NaN</td>\n",
       "      <td>NaN</td>\n",
       "      <td>26.25</td>\n",
       "      <td>103.1938</td>\n",
       "      <td>0.19</td>\n",
       "    </tr>\n",
       "    <tr>\n",
       "      <th>1</th>\n",
       "      <td>2010-07-17</td>\n",
       "      <td>NaN</td>\n",
       "      <td>NaN</td>\n",
       "      <td>NaN</td>\n",
       "      <td>NaN</td>\n",
       "      <td>NaN</td>\n",
       "      <td>NaN</td>\n",
       "      <td>0.08584</td>\n",
       "      <td>NaN</td>\n",
       "      <td>NaN</td>\n",
       "      <td>NaN</td>\n",
       "      <td>NaN</td>\n",
       "      <td>NaN</td>\n",
       "      <td>26.25</td>\n",
       "      <td>103.1938</td>\n",
       "      <td>0.19</td>\n",
       "    </tr>\n",
       "    <tr>\n",
       "      <th>2</th>\n",
       "      <td>2010-07-18</td>\n",
       "      <td>NaN</td>\n",
       "      <td>NaN</td>\n",
       "      <td>NaN</td>\n",
       "      <td>NaN</td>\n",
       "      <td>NaN</td>\n",
       "      <td>NaN</td>\n",
       "      <td>0.08080</td>\n",
       "      <td>NaN</td>\n",
       "      <td>NaN</td>\n",
       "      <td>NaN</td>\n",
       "      <td>NaN</td>\n",
       "      <td>NaN</td>\n",
       "      <td>26.25</td>\n",
       "      <td>103.1938</td>\n",
       "      <td>0.19</td>\n",
       "    </tr>\n",
       "    <tr>\n",
       "      <th>3</th>\n",
       "      <td>2010-07-19</td>\n",
       "      <td>NaN</td>\n",
       "      <td>NaN</td>\n",
       "      <td>NaN</td>\n",
       "      <td>NaN</td>\n",
       "      <td>NaN</td>\n",
       "      <td>NaN</td>\n",
       "      <td>0.07474</td>\n",
       "      <td>NaN</td>\n",
       "      <td>NaN</td>\n",
       "      <td>NaN</td>\n",
       "      <td>NaN</td>\n",
       "      <td>NaN</td>\n",
       "      <td>25.97</td>\n",
       "      <td>103.1938</td>\n",
       "      <td>0.19</td>\n",
       "    </tr>\n",
       "    <tr>\n",
       "      <th>4</th>\n",
       "      <td>2010-07-20</td>\n",
       "      <td>NaN</td>\n",
       "      <td>NaN</td>\n",
       "      <td>NaN</td>\n",
       "      <td>NaN</td>\n",
       "      <td>NaN</td>\n",
       "      <td>NaN</td>\n",
       "      <td>0.07921</td>\n",
       "      <td>NaN</td>\n",
       "      <td>NaN</td>\n",
       "      <td>NaN</td>\n",
       "      <td>NaN</td>\n",
       "      <td>NaN</td>\n",
       "      <td>23.93</td>\n",
       "      <td>103.1938</td>\n",
       "      <td>0.18</td>\n",
       "    </tr>\n",
       "    <tr>\n",
       "      <th>5</th>\n",
       "      <td>2010-07-21</td>\n",
       "      <td>NaN</td>\n",
       "      <td>NaN</td>\n",
       "      <td>NaN</td>\n",
       "      <td>NaN</td>\n",
       "      <td>NaN</td>\n",
       "      <td>NaN</td>\n",
       "      <td>0.05050</td>\n",
       "      <td>NaN</td>\n",
       "      <td>NaN</td>\n",
       "      <td>NaN</td>\n",
       "      <td>NaN</td>\n",
       "      <td>NaN</td>\n",
       "      <td>25.64</td>\n",
       "      <td>103.1938</td>\n",
       "      <td>0.18</td>\n",
       "    </tr>\n",
       "    <tr>\n",
       "      <th>6</th>\n",
       "      <td>2010-07-22</td>\n",
       "      <td>NaN</td>\n",
       "      <td>NaN</td>\n",
       "      <td>NaN</td>\n",
       "      <td>NaN</td>\n",
       "      <td>NaN</td>\n",
       "      <td>NaN</td>\n",
       "      <td>0.06262</td>\n",
       "      <td>NaN</td>\n",
       "      <td>NaN</td>\n",
       "      <td>NaN</td>\n",
       "      <td>NaN</td>\n",
       "      <td>NaN</td>\n",
       "      <td>24.63</td>\n",
       "      <td>103.1938</td>\n",
       "      <td>0.18</td>\n",
       "    </tr>\n",
       "    <tr>\n",
       "      <th>7</th>\n",
       "      <td>2010-07-23</td>\n",
       "      <td>NaN</td>\n",
       "      <td>NaN</td>\n",
       "      <td>NaN</td>\n",
       "      <td>NaN</td>\n",
       "      <td>NaN</td>\n",
       "      <td>NaN</td>\n",
       "      <td>0.05454</td>\n",
       "      <td>NaN</td>\n",
       "      <td>NaN</td>\n",
       "      <td>NaN</td>\n",
       "      <td>NaN</td>\n",
       "      <td>NaN</td>\n",
       "      <td>23.47</td>\n",
       "      <td>103.1938</td>\n",
       "      <td>0.19</td>\n",
       "    </tr>\n",
       "    <tr>\n",
       "      <th>8</th>\n",
       "      <td>2010-07-24</td>\n",
       "      <td>NaN</td>\n",
       "      <td>NaN</td>\n",
       "      <td>NaN</td>\n",
       "      <td>NaN</td>\n",
       "      <td>NaN</td>\n",
       "      <td>NaN</td>\n",
       "      <td>0.05050</td>\n",
       "      <td>NaN</td>\n",
       "      <td>NaN</td>\n",
       "      <td>NaN</td>\n",
       "      <td>NaN</td>\n",
       "      <td>NaN</td>\n",
       "      <td>23.47</td>\n",
       "      <td>103.1938</td>\n",
       "      <td>0.19</td>\n",
       "    </tr>\n",
       "    <tr>\n",
       "      <th>9</th>\n",
       "      <td>2010-07-25</td>\n",
       "      <td>NaN</td>\n",
       "      <td>NaN</td>\n",
       "      <td>NaN</td>\n",
       "      <td>NaN</td>\n",
       "      <td>NaN</td>\n",
       "      <td>NaN</td>\n",
       "      <td>0.05600</td>\n",
       "      <td>NaN</td>\n",
       "      <td>NaN</td>\n",
       "      <td>NaN</td>\n",
       "      <td>NaN</td>\n",
       "      <td>NaN</td>\n",
       "      <td>23.47</td>\n",
       "      <td>103.1938</td>\n",
       "      <td>0.19</td>\n",
       "    </tr>\n",
       "    <tr>\n",
       "      <th>10</th>\n",
       "      <td>2010-07-26</td>\n",
       "      <td>NaN</td>\n",
       "      <td>NaN</td>\n",
       "      <td>NaN</td>\n",
       "      <td>NaN</td>\n",
       "      <td>NaN</td>\n",
       "      <td>NaN</td>\n",
       "      <td>0.06000</td>\n",
       "      <td>NaN</td>\n",
       "      <td>NaN</td>\n",
       "      <td>NaN</td>\n",
       "      <td>NaN</td>\n",
       "      <td>NaN</td>\n",
       "      <td>22.73</td>\n",
       "      <td>103.1938</td>\n",
       "      <td>0.19</td>\n",
       "    </tr>\n",
       "    <tr>\n",
       "      <th>11</th>\n",
       "      <td>2010-07-27</td>\n",
       "      <td>NaN</td>\n",
       "      <td>NaN</td>\n",
       "      <td>NaN</td>\n",
       "      <td>NaN</td>\n",
       "      <td>NaN</td>\n",
       "      <td>NaN</td>\n",
       "      <td>0.05890</td>\n",
       "      <td>NaN</td>\n",
       "      <td>NaN</td>\n",
       "      <td>NaN</td>\n",
       "      <td>NaN</td>\n",
       "      <td>NaN</td>\n",
       "      <td>23.19</td>\n",
       "      <td>103.1938</td>\n",
       "      <td>0.19</td>\n",
       "    </tr>\n",
       "    <tr>\n",
       "      <th>12</th>\n",
       "      <td>2010-07-28</td>\n",
       "      <td>NaN</td>\n",
       "      <td>NaN</td>\n",
       "      <td>NaN</td>\n",
       "      <td>NaN</td>\n",
       "      <td>NaN</td>\n",
       "      <td>NaN</td>\n",
       "      <td>0.06990</td>\n",
       "      <td>NaN</td>\n",
       "      <td>NaN</td>\n",
       "      <td>NaN</td>\n",
       "      <td>NaN</td>\n",
       "      <td>NaN</td>\n",
       "      <td>24.25</td>\n",
       "      <td>102.6551</td>\n",
       "      <td>0.20</td>\n",
       "    </tr>\n",
       "    <tr>\n",
       "      <th>13</th>\n",
       "      <td>2010-07-29</td>\n",
       "      <td>NaN</td>\n",
       "      <td>NaN</td>\n",
       "      <td>NaN</td>\n",
       "      <td>NaN</td>\n",
       "      <td>NaN</td>\n",
       "      <td>NaN</td>\n",
       "      <td>0.06270</td>\n",
       "      <td>NaN</td>\n",
       "      <td>NaN</td>\n",
       "      <td>NaN</td>\n",
       "      <td>NaN</td>\n",
       "      <td>NaN</td>\n",
       "      <td>24.13</td>\n",
       "      <td>102.6551</td>\n",
       "      <td>0.19</td>\n",
       "    </tr>\n",
       "    <tr>\n",
       "      <th>14</th>\n",
       "      <td>2010-07-30</td>\n",
       "      <td>NaN</td>\n",
       "      <td>NaN</td>\n",
       "      <td>NaN</td>\n",
       "      <td>NaN</td>\n",
       "      <td>NaN</td>\n",
       "      <td>NaN</td>\n",
       "      <td>0.06785</td>\n",
       "      <td>NaN</td>\n",
       "      <td>NaN</td>\n",
       "      <td>NaN</td>\n",
       "      <td>NaN</td>\n",
       "      <td>NaN</td>\n",
       "      <td>23.50</td>\n",
       "      <td>102.6551</td>\n",
       "      <td>0.18</td>\n",
       "    </tr>\n",
       "  </tbody>\n",
       "</table>\n",
       "</div>"
      ],
      "text/plain": [
       "         date  eth_open  eth_high  eth_low  eth_close  eth_volumefrom  \\\n",
       "0  2010-07-16       NaN       NaN      NaN        NaN             NaN   \n",
       "1  2010-07-17       NaN       NaN      NaN        NaN             NaN   \n",
       "2  2010-07-18       NaN       NaN      NaN        NaN             NaN   \n",
       "3  2010-07-19       NaN       NaN      NaN        NaN             NaN   \n",
       "4  2010-07-20       NaN       NaN      NaN        NaN             NaN   \n",
       "5  2010-07-21       NaN       NaN      NaN        NaN             NaN   \n",
       "6  2010-07-22       NaN       NaN      NaN        NaN             NaN   \n",
       "7  2010-07-23       NaN       NaN      NaN        NaN             NaN   \n",
       "8  2010-07-24       NaN       NaN      NaN        NaN             NaN   \n",
       "9  2010-07-25       NaN       NaN      NaN        NaN             NaN   \n",
       "10 2010-07-26       NaN       NaN      NaN        NaN             NaN   \n",
       "11 2010-07-27       NaN       NaN      NaN        NaN             NaN   \n",
       "12 2010-07-28       NaN       NaN      NaN        NaN             NaN   \n",
       "13 2010-07-29       NaN       NaN      NaN        NaN             NaN   \n",
       "14 2010-07-30       NaN       NaN      NaN        NaN             NaN   \n",
       "\n",
       "    eth_volumeto      btc  xrp  eos  ltc  xlm  xmr vixcls     twexb  effr  \n",
       "0            NaN  0.04951  NaN  NaN  NaN  NaN  NaN  26.25  103.1938  0.19  \n",
       "1            NaN  0.08584  NaN  NaN  NaN  NaN  NaN  26.25  103.1938  0.19  \n",
       "2            NaN  0.08080  NaN  NaN  NaN  NaN  NaN  26.25  103.1938  0.19  \n",
       "3            NaN  0.07474  NaN  NaN  NaN  NaN  NaN  25.97  103.1938  0.19  \n",
       "4            NaN  0.07921  NaN  NaN  NaN  NaN  NaN  23.93  103.1938  0.18  \n",
       "5            NaN  0.05050  NaN  NaN  NaN  NaN  NaN  25.64  103.1938  0.18  \n",
       "6            NaN  0.06262  NaN  NaN  NaN  NaN  NaN  24.63  103.1938  0.18  \n",
       "7            NaN  0.05454  NaN  NaN  NaN  NaN  NaN  23.47  103.1938  0.19  \n",
       "8            NaN  0.05050  NaN  NaN  NaN  NaN  NaN  23.47  103.1938  0.19  \n",
       "9            NaN  0.05600  NaN  NaN  NaN  NaN  NaN  23.47  103.1938  0.19  \n",
       "10           NaN  0.06000  NaN  NaN  NaN  NaN  NaN  22.73  103.1938  0.19  \n",
       "11           NaN  0.05890  NaN  NaN  NaN  NaN  NaN  23.19  103.1938  0.19  \n",
       "12           NaN  0.06990  NaN  NaN  NaN  NaN  NaN  24.25  102.6551  0.20  \n",
       "13           NaN  0.06270  NaN  NaN  NaN  NaN  NaN  24.13  102.6551  0.19  \n",
       "14           NaN  0.06785  NaN  NaN  NaN  NaN  NaN  23.50  102.6551  0.18  "
      ]
     },
     "execution_count": 8,
     "metadata": {},
     "output_type": "execute_result"
    }
   ],
   "source": [
    "df.sort_values(by='date', inplace=True)\n",
    "df = df.loc[df.date >= start_date]\n",
    "df.reset_index(drop=True, inplace=True)\n",
    "\n",
    "# replace '.' with nan so ffill will catch everything\n",
    "# '.' denotes a holiday\n",
    "df.replace('.', np.nan, inplace=True)\n",
    "df.ffill(inplace=True)\n",
    "\n",
    "# backwards fill index without daily frequency\n",
    "df.twexb.bfill(inplace=True)\n",
    "df.head(15)"
   ]
  },
  {
   "cell_type": "code",
   "execution_count": 10,
   "metadata": {},
   "outputs": [],
   "source": [
    "df.to_json('df.json', orient='split')"
   ]
  },
  {
   "cell_type": "code",
   "execution_count": null,
   "metadata": {},
   "outputs": [],
   "source": []
  },
  {
   "cell_type": "code",
   "execution_count": null,
   "metadata": {},
   "outputs": [],
   "source": []
  },
  {
   "cell_type": "code",
   "execution_count": null,
   "metadata": {},
   "outputs": [],
   "source": []
  },
  {
   "cell_type": "code",
   "execution_count": null,
   "metadata": {},
   "outputs": [],
   "source": []
  },
  {
   "cell_type": "markdown",
   "metadata": {},
   "source": [
    "### get all this to work later"
   ]
  },
  {
   "cell_type": "code",
   "execution_count": null,
   "metadata": {},
   "outputs": [],
   "source": [
    "for symbol, df in d.items():\n",
    "    print(df.date.min())"
   ]
  },
  {
   "cell_type": "code",
   "execution_count": null,
   "metadata": {},
   "outputs": [],
   "source": [
    "# start at beginning of oldest cryptocurrency\n",
    "currencies = exog_curr\n",
    "currencies.append(eth)\n",
    "start_date = pd.to_datetime(\n",
    "    dt.datetime.today().strftime('%Y-%m-%d'),\n",
    "    format='%Y-%m-%d')\n",
    "\n",
    "for curr in exog_curr:\n",
    "    if curr.date.min() < start_date:\n",
    "        start_date = curr.date.min()\n",
    "\n",
    "print('earliest date: {}'.format(start_date))\n",
    "\n",
    "for symbol, df in d.items():\n",
    "    if df.date.min() < start_date:\n",
    "        print('\\n{} original min date: {}'.format(symbol, df.date.min()))\n",
    "        #df.loc[df.date >= start_date\n",
    "        print('{} updated min date: {}'.format(symbol, df.date.min()))"
   ]
  },
  {
   "cell_type": "code",
   "execution_count": null,
   "metadata": {},
   "outputs": [],
   "source": [
    "#df.set_index('date', inplace=True)\n",
    "#df[df.date >= '2010-07-22']\n",
    "df.head()"
   ]
  },
  {
   "cell_type": "code",
   "execution_count": null,
   "metadata": {},
   "outputs": [],
   "source": [
    "df.drop(df[x <= '2010-07-22'], inplace=True)"
   ]
  },
  {
   "cell_type": "code",
   "execution_count": null,
   "metadata": {},
   "outputs": [],
   "source": [
    "# address missinginess\n",
    "for symbol, df in d.items():\n",
    "    print(df.isnull().any().sum())"
   ]
  },
  {
   "cell_type": "code",
   "execution_count": null,
   "metadata": {},
   "outputs": [],
   "source": [
    "vixcls.date.min()"
   ]
  },
  {
   "cell_type": "code",
   "execution_count": null,
   "metadata": {},
   "outputs": [],
   "source": []
  },
  {
   "cell_type": "code",
   "execution_count": null,
   "metadata": {},
   "outputs": [],
   "source": [
    "print(eth.date[0])"
   ]
  },
  {
   "cell_type": "markdown",
   "metadata": {},
   "source": [
    "### Create Single DataFrame"
   ]
  },
  {
   "cell_type": "code",
   "execution_count": null,
   "metadata": {},
   "outputs": [],
   "source": [
    "df = pd.DataFrame()"
   ]
  },
  {
   "cell_type": "code",
   "execution_count": null,
   "metadata": {},
   "outputs": [],
   "source": []
  },
  {
   "cell_type": "code",
   "execution_count": null,
   "metadata": {},
   "outputs": [],
   "source": []
  },
  {
   "cell_type": "code",
   "execution_count": null,
   "metadata": {},
   "outputs": [],
   "source": []
  },
  {
   "cell_type": "code",
   "execution_count": null,
   "metadata": {},
   "outputs": [],
   "source": []
  },
  {
   "cell_type": "code",
   "execution_count": null,
   "metadata": {},
   "outputs": [],
   "source": []
  },
  {
   "cell_type": "markdown",
   "metadata": {},
   "source": [
    "### **[VIX: CBOE Volatility Index](https://en.wikipedia.org/wiki/VIX)**\n",
    "- Measure of stock market's expectation of volatility implied by S&P 500 index options, aka 'fear index'\n",
    "- [Data Source](http://www.cboe.com/products/vix-index-volatility/vix-options-and-futures/vix-index/vix-historical-data)"
   ]
  },
  {
   "cell_type": "code",
   "execution_count": null,
   "metadata": {},
   "outputs": [],
   "source": [
    "df = eth.copy()"
   ]
  },
  {
   "cell_type": "code",
   "execution_count": null,
   "metadata": {},
   "outputs": [],
   "source": [
    "vix_raw = pd.read_csv('vixcurrent.csv', header=1)\n",
    "print(vix_raw.info())\n",
    "vix_raw[:1]"
   ]
  },
  {
   "cell_type": "code",
   "execution_count": null,
   "metadata": {},
   "outputs": [],
   "source": [
    "start_date = '2015-08-06'\n",
    "end_date = '2018-09-09'\n",
    "vix_close = vix_raw[['Date', 'VIX Close']].copy()\n",
    "vix_close['Date'] = pd.to_datetime(vix_close['Date'], format='%m/%d/%Y')\n",
    "vix_close = vix_close.loc[(vix_close['Date'] >= start_date)\n",
    "                          & (vix_close['Date'] <= end_date)]\n",
    "vix_close.sort_values('Date', inplace=True)\n",
    "vix_close.reset_index(drop=True, inplace=True)\n",
    "vix_close.columns = ['date', 'vix']\n",
    "vix_close.head()"
   ]
  },
  {
   "cell_type": "code",
   "execution_count": null,
   "metadata": {},
   "outputs": [],
   "source": [
    "df = df.merge(vix_close, how='outer', on='date')\n",
    "df.vix.ffill(inplace=True)\n",
    "#df_04ex.vix[0]= vix_raw.loc[vix_raw['Date'] == '11/24/2017', ['VIX Close']].values\n",
    "print(df.vix.isnull().sum())\n",
    "df.head()"
   ]
  },
  {
   "cell_type": "markdown",
   "metadata": {},
   "source": [
    "### **[DXY: US Dollar Index](https://en.wikipedia.org/wiki/U.S._Dollar_Index)**\n",
    "- Measure of value of USD relative to a basket of foreign currencies\n",
    "- [Data Source](https://quotes.wsj.com/index/DXY/historical-prices)"
   ]
  },
  {
   "cell_type": "code",
   "execution_count": null,
   "metadata": {},
   "outputs": [],
   "source": [
    "dxy_raw = pd.read_csv('dxy_historical.csv')\n",
    "print(dxy_raw.info())\n",
    "dxy_raw[:1]"
   ]
  },
  {
   "cell_type": "code",
   "execution_count": null,
   "metadata": {},
   "outputs": [],
   "source": [
    "dxy = dxy_raw[['Date', ' Close']].copy()\n",
    "dxy['Date'] = pd.to_datetime(dxy['Date'], format='%x')\n",
    "dxy = dxy.loc[(dxy['Date'] >= start_date)\n",
    "              & (dxy['Date'] <= end_date)]\n",
    "dxy.sort_values('Date', inplace=True)\n",
    "dxy.reset_index(drop=True, inplace=True)\n",
    "dxy.columns = ['date', 'dxy']\n",
    "dxy.head()"
   ]
  },
  {
   "cell_type": "code",
   "execution_count": null,
   "metadata": {},
   "outputs": [],
   "source": [
    "df = df.merge(dxy, how='outer', on='date')\n",
    "df.ffill(inplace=True)\n",
    "\n",
    "# get first value\n",
    "#dxy_raw['Date'] = pd.to_datetime(dxy_raw['Date'], format='%x')\n",
    "#df_04ex.dxy[0] = dxy_raw.loc[dxy_raw['Date'] == '11/24/2017', [' Close']].values\n",
    "print(df.dxy.isnull().sum())\n",
    "df.head(2)"
   ]
  },
  {
   "cell_type": "code",
   "execution_count": null,
   "metadata": {},
   "outputs": [],
   "source": [
    "df.tail(2)"
   ]
  },
  {
   "cell_type": "markdown",
   "metadata": {},
   "source": [
    "### **[EFFR: Federal Funds Rate](https://en.wikipedia.org/wiki/Federal_funds_rate)**\n",
    "- The interest rate at which depository institutions (banks and credit unions) lend reserve balances to other depository institutions overnight, on an uncollateralized basis \n",
    "- [Data Source](https://fred.stlouisfed.org/series/EFFR)"
   ]
  },
  {
   "cell_type": "code",
   "execution_count": null,
   "metadata": {},
   "outputs": [],
   "source": [
    "effr_raw = pd.read_csv('EFFR.csv')\n",
    "effr_raw.head()"
   ]
  },
  {
   "cell_type": "code",
   "execution_count": null,
   "metadata": {},
   "outputs": [],
   "source": [
    "effr = effr_raw.copy()\n",
    "effr.columns = ['date', 'effr']\n",
    "effr['date'] = pd.to_datetime(effr['date'], format='%Y-%m-%d')\n",
    "effr.sort_values('date', inplace=True)\n",
    "effr = effr.loc[(effr['date'] >= start_date) & (effr['date'] <= end_date)]\n",
    "effr.reset_index(drop=True, inplace=True)\n",
    "effr.head()"
   ]
  },
  {
   "cell_type": "code",
   "execution_count": null,
   "metadata": {},
   "outputs": [],
   "source": [
    "df = df.merge(effr, how='outer', on='date')\n",
    "df.ffill(inplace=True)\n",
    "print(df.effr.isnull().sum())\n",
    "df.head()"
   ]
  },
  {
   "cell_type": "markdown",
   "metadata": {},
   "source": [
    "## Add other coins"
   ]
  },
  {
   "cell_type": "code",
   "execution_count": null,
   "metadata": {},
   "outputs": [],
   "source": [
    "# bitcoin\n",
    "btc_raw = pd.read_csv('btc_raw.csv')\n",
    "btc = btc_raw[['timestamp', 'open', 'high', 'low', 'close', 'volumefrom', 'volumeto']].copy()\n",
    "btc['timestamp'] = pd.to_datetime(btc['timestamp'])\n",
    "btc['timestamp'] = btc['timestamp'].dt.date\n",
    "btc.rename(columns = {'timestamp':'date', 'close':'btc'}, inplace=True)\n",
    "btc['date'] = pd.to_datetime(btc['date'], format='%Y-%m-%d')\n",
    "btc = btc.loc[(btc['date'] >= start_date) & (btc['date'] <= end_date)]\n",
    "btc.sort_values(by='date', inplace=True)\n",
    "btc.reset_index(drop=True, inplace=True)\n",
    "btc.drop(['high', 'low', 'open', 'volumefrom', 'volumeto'], axis=1, inplace=True)\n",
    "btc.head(2)"
   ]
  },
  {
   "cell_type": "code",
   "execution_count": null,
   "metadata": {},
   "outputs": [],
   "source": [
    "df = df.merge(btc, how='outer', on='date')\n",
    "print(df.shape)\n",
    "df.head(3)"
   ]
  },
  {
   "cell_type": "code",
   "execution_count": null,
   "metadata": {},
   "outputs": [],
   "source": [
    "# ripple\n",
    "xrp_raw = pd.read_csv('xrp_raw.csv')\n",
    "xrp = xrp_raw[['timestamp', 'open', 'high', 'low', 'close', 'volumefrom', 'volumeto']].copy()\n",
    "xrp['timestamp'] = pd.to_datetime(xrp['timestamp'])\n",
    "xrp['timestamp'] = xrp['timestamp'].dt.date\n",
    "xrp.rename(columns = {'timestamp':'date', 'close':'xrp'}, inplace=True)\n",
    "xrp['date'] = pd.to_datetime(xrp['date'], format='%Y-%m-%d')\n",
    "xrp = xrp.loc[(xrp['date'] >= start_date) & (xrp['date'] <= end_date)]\n",
    "xrp.sort_values(by='date', inplace=True)\n",
    "xrp.reset_index(drop=True, inplace=True)\n",
    "xrp.drop(['high', 'low', 'open', 'volumefrom', 'volumeto'], axis=1, inplace=True)\n",
    "df = df.merge(xrp, how='outer', on='date')\n",
    "print(df.shape)\n",
    "df.head(3)"
   ]
  },
  {
   "cell_type": "code",
   "execution_count": null,
   "metadata": {},
   "outputs": [],
   "source": [
    "# eos.io\n",
    "eos_raw = pd.read_csv('eos_raw.csv')\n",
    "eos = eos_raw[['timestamp', 'open', 'high', 'low', 'close', 'volumefrom', 'volumeto']].copy()\n",
    "eos['timestamp'] = pd.to_datetime(eos['timestamp'])\n",
    "eos['timestamp'] = eos['timestamp'].dt.date\n",
    "eos.rename(columns = {'timestamp':'date', 'close':'eos'}, inplace=True)\n",
    "eos['date'] = pd.to_datetime(eos['date'], format='%Y-%m-%d')\n",
    "eos = eos.loc[(eos['date'] >= start_date) & (eos['date'] <= end_date)]\n",
    "eos.sort_values(by='date', inplace=True)\n",
    "eos.reset_index(drop=True, inplace=True)\n",
    "eos.drop(['high', 'low', 'open', 'volumefrom', 'volumeto'], axis=1, inplace=True)\n",
    "df = df.merge(eos, how='outer', on='date')\n",
    "print(df.shape)\n",
    "df.head(3)"
   ]
  },
  {
   "cell_type": "code",
   "execution_count": null,
   "metadata": {},
   "outputs": [],
   "source": [
    "# litecoin\n",
    "ltc_raw = pd.read_csv('ltc_raw.csv')\n",
    "ltc = ltc_raw[['timestamp', 'open', 'high', 'low', 'close', 'volumefrom', 'volumeto']].copy()\n",
    "ltc['timestamp'] = pd.to_datetime(ltc['timestamp'])\n",
    "ltc['timestamp'] = ltc['timestamp'].dt.date\n",
    "ltc.rename(columns = {'timestamp':'date', 'close':'ltc'}, inplace=True)\n",
    "ltc['date'] = pd.to_datetime(ltc['date'], format='%Y-%m-%d')\n",
    "ltc = ltc.loc[(ltc['date'] >= start_date) & (ltc['date'] <= end_date)]\n",
    "ltc.sort_values(by='date', inplace=True)\n",
    "ltc.reset_index(drop=True, inplace=True)\n",
    "ltc.drop(['high', 'low', 'open', 'volumefrom', 'volumeto'], axis=1, inplace=True)\n",
    "df = df.merge(ltc, how='outer', on='date')\n",
    "print(df.shape)\n",
    "df.head(3)"
   ]
  },
  {
   "cell_type": "code",
   "execution_count": null,
   "metadata": {},
   "outputs": [],
   "source": [
    "# stellar\n",
    "xlm_raw = pd.read_csv('xlm_raw.csv')\n",
    "xlm = xlm_raw[['timestamp', 'open', 'high', 'low', 'close', 'volumefrom', 'volumeto']].copy()\n",
    "xlm['timestamp'] = pd.to_datetime(xlm['timestamp'])\n",
    "xlm['timestamp'] = xlm['timestamp'].dt.date\n",
    "xlm.rename(columns = {'timestamp':'date', 'close':'xlm'}, inplace=True)\n",
    "xlm['date'] = pd.to_datetime(xlm['date'], format='%Y-%m-%d')\n",
    "xlm = xlm.loc[(xlm['date'] >= start_date) & (xlm['date'] <= end_date)]\n",
    "xlm.sort_values(by='date', inplace=True)\n",
    "xlm.reset_index(drop=True, inplace=True)\n",
    "xlm.drop(['high', 'low', 'open', 'volumefrom', 'volumeto'], axis=1, inplace=True)\n",
    "df = df.merge(xlm, how='outer', on='date')\n",
    "print(df.shape)\n",
    "df.head(3)"
   ]
  },
  {
   "cell_type": "code",
   "execution_count": null,
   "metadata": {},
   "outputs": [],
   "source": [
    "# monero\n",
    "xmr_raw = pd.read_csv('xmr_raw.csv')\n",
    "xmr = xmr_raw[['timestamp', 'open', 'high', 'low', 'close', 'volumefrom', 'volumeto']].copy()\n",
    "xmr['timestamp'] = pd.to_datetime(xmr['timestamp'])\n",
    "xmr['timestamp'] = xmr['timestamp'].dt.date\n",
    "xmr.rename(columns = {'timestamp':'date', 'close':'xmr'}, inplace=True)\n",
    "xmr['date'] = pd.to_datetime(xmr['date'], format='%Y-%m-%d')\n",
    "xmr = xmr.loc[(xmr['date'] >= start_date) & (xmr['date'] <= end_date)]\n",
    "xmr.sort_values(by='date', inplace=True)\n",
    "xmr.reset_index(drop=True, inplace=True)\n",
    "xmr.drop(['high', 'low', 'open', 'volumefrom', 'volumeto'], axis=1, inplace=True)\n",
    "df = df.merge(xmr, how='outer', on='date')\n",
    "print(df.shape)\n",
    "df.head(3)"
   ]
  },
  {
   "cell_type": "code",
   "execution_count": null,
   "metadata": {},
   "outputs": [],
   "source": [
    "df.to_pickle('crypto_df.pkl')"
   ]
  },
  {
   "cell_type": "code",
   "execution_count": null,
   "metadata": {},
   "outputs": [],
   "source": [
    "df.tail()"
   ]
  },
  {
   "cell_type": "code",
   "execution_count": null,
   "metadata": {},
   "outputs": [],
   "source": [
    "print(df.xlm.isnull().sum())"
   ]
  },
  {
   "cell_type": "code",
   "execution_count": null,
   "metadata": {},
   "outputs": [],
   "source": []
  }
 ],
 "metadata": {
  "kernelspec": {
   "display_name": "Python 3",
   "language": "python",
   "name": "python3"
  },
  "language_info": {
   "codemirror_mode": {
    "name": "ipython",
    "version": 3
   },
   "file_extension": ".py",
   "mimetype": "text/x-python",
   "name": "python",
   "nbconvert_exporter": "python",
   "pygments_lexer": "ipython3",
   "version": "3.6.5"
  }
 },
 "nbformat": 4,
 "nbformat_minor": 2
}
