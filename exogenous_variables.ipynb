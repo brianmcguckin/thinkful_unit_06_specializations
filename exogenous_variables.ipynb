{
 "cells": [
  {
   "cell_type": "code",
   "execution_count": 1,
   "metadata": {},
   "outputs": [],
   "source": [
    "import numpy as np\n",
    "import pandas as pd\n",
    "import scipy\n",
    "from datetime import datetime\n",
    "import datetime as dt\n",
    "import matplotlib.pyplot as plt\n",
    "import seaborn as sns\n",
    "import warnings\n",
    "\n",
    "%matplotlib inline\n",
    "warnings.filterwarnings('ignore')\n",
    "sns.set_style('whitegrid')\n",
    "sns.set_palette('muted')"
   ]
  },
  {
   "cell_type": "markdown",
   "metadata": {},
   "source": [
    "## Load Data"
   ]
  },
  {
   "cell_type": "code",
   "execution_count": null,
   "metadata": {},
   "outputs": [],
   "source": [
    "eth_raw = pd.read_csv('eth_raw.csv')\n",
    "print(eth_raw.info())\n",
    "eth_raw.head()"
   ]
  },
  {
   "cell_type": "code",
   "execution_count": null,
   "metadata": {},
   "outputs": [],
   "source": [
    "eth = eth_raw[['timestamp', 'open', 'high', 'low', 'close', 'volumefrom', 'volumeto']].copy()\n",
    "eth['timestamp'] = pd.to_datetime(eth['timestamp'])\n",
    "eth['timestamp'] = eth['timestamp'].dt.date\n",
    "eth.rename(columns = {'timestamp':'date'}, inplace=True)\n",
    "eth['date'] = pd.to_datetime(eth['date'], format='%Y-%m-%d')\n",
    "eth.head(2)"
   ]
  },
  {
   "cell_type": "code",
   "execution_count": null,
   "metadata": {},
   "outputs": [],
   "source": [
    "eth.info()"
   ]
  },
  {
   "cell_type": "code",
   "execution_count": null,
   "metadata": {},
   "outputs": [],
   "source": [
    "# save df\n",
    "eth.to_pickle('eth_df.pkl')"
   ]
  },
  {
   "cell_type": "markdown",
   "metadata": {},
   "source": [
    "## Exogenous Variables\n",
    "- Etherem related\n",
    "    - high\n",
    "    - low\n",
    "    - open\n",
    "    - volume\n",
    "    - market cap\n",
    "- Other Cryptocurrencies\n",
    "    - BTC: Bitcoin\n",
    "    - XRP: Ripple\n",
    "    - EOS: EOS.IO\n",
    "    - LTC: Litecoin\n",
    "    - XLM: Stellar\n",
    "    - XMR: Monero\n",
    "- Other Indices\n",
    "    - VIX\n",
    "    - DXY\n",
    "    - EFFR"
   ]
  },
  {
   "cell_type": "code",
   "execution_count": null,
   "metadata": {},
   "outputs": [],
   "source": [
    "#eth_market_cap = pd.read_csv('ethereum_price.csv')\n",
    "#print(eth_market_cap.info())\n",
    "#eth_market_cap.head(2)"
   ]
  },
  {
   "cell_type": "code",
   "execution_count": null,
   "metadata": {},
   "outputs": [],
   "source": [
    "#eth_market_cap['Date'] = pd.to_datetime(eth_market_cap['Date'],\n",
    "#                                        format='%b %d, %Y')\n",
    "#eth_market_cap.sort_values('Date', inplace=True)\n",
    "#eth_market_cap.reset_index(drop=True, inplace=True)\n",
    "#eth_market_cap['Market Cap'] = pd.to_numeric(\n",
    "#    eth_market_cap['Market Cap'].str.replace(',', ''),\n",
    "#    errors='coerce')\n",
    "#eth_market_cap.rename(columns={'Date':'date', 'Market Cap':'market_cap'}, inplace=True)\n",
    "#eth_market_cap.head(2)"
   ]
  },
  {
   "cell_type": "code",
   "execution_count": null,
   "metadata": {},
   "outputs": [],
   "source": [
    "#eth_market_cap.drop(['Open', 'High', 'Low', 'Close', 'Volume'], axis=1, inplace=True)"
   ]
  },
  {
   "cell_type": "code",
   "execution_count": null,
   "metadata": {},
   "outputs": [],
   "source": [
    "#df = eth.merge(eth_market_cap, how='outer', on='date')"
   ]
  },
  {
   "cell_type": "code",
   "execution_count": null,
   "metadata": {},
   "outputs": [],
   "source": [
    "#df.head(2)"
   ]
  },
  {
   "cell_type": "markdown",
   "metadata": {},
   "source": [
    "### **[VIX: CBOE Volatility Index](https://en.wikipedia.org/wiki/VIX)**\n",
    "- Measure of stock market's expectation of volatility implied by S&P 500 index options, aka 'fear index'\n",
    "- [Data Source](http://www.cboe.com/products/vix-index-volatility/vix-options-and-futures/vix-index/vix-historical-data)"
   ]
  },
  {
   "cell_type": "code",
   "execution_count": null,
   "metadata": {},
   "outputs": [],
   "source": [
    "df = eth.copy()"
   ]
  },
  {
   "cell_type": "code",
   "execution_count": null,
   "metadata": {},
   "outputs": [],
   "source": [
    "vix_raw = pd.read_csv('vixcurrent.csv', header=1)\n",
    "print(vix_raw.info())\n",
    "vix_raw[:1]"
   ]
  },
  {
   "cell_type": "code",
   "execution_count": null,
   "metadata": {},
   "outputs": [],
   "source": [
    "start_date = '2015-08-06'\n",
    "end_date = '2018-09-09'\n",
    "vix_close = vix_raw[['Date', 'VIX Close']].copy()\n",
    "vix_close['Date'] = pd.to_datetime(vix_close['Date'], format='%m/%d/%Y')\n",
    "vix_close = vix_close.loc[(vix_close['Date'] >= start_date)\n",
    "                          & (vix_close['Date'] <= end_date)]\n",
    "vix_close.sort_values('Date', inplace=True)\n",
    "vix_close.reset_index(drop=True, inplace=True)\n",
    "vix_close.columns = ['date', 'vix']\n",
    "vix_close.head()"
   ]
  },
  {
   "cell_type": "code",
   "execution_count": null,
   "metadata": {},
   "outputs": [],
   "source": [
    "df = df.merge(vix_close, how='outer', on='date')\n",
    "df.vix.ffill(inplace=True)\n",
    "#df_04ex.vix[0]= vix_raw.loc[vix_raw['Date'] == '11/24/2017', ['VIX Close']].values\n",
    "print(df.vix.isnull().sum())\n",
    "df.head()"
   ]
  },
  {
   "cell_type": "markdown",
   "metadata": {},
   "source": [
    "### **[DXY: US Dollar Index](https://en.wikipedia.org/wiki/U.S._Dollar_Index)**\n",
    "- Measure of value of USD relative to a basket of foreign currencies\n",
    "- [Data Source](https://quotes.wsj.com/index/DXY/historical-prices)"
   ]
  },
  {
   "cell_type": "code",
   "execution_count": null,
   "metadata": {},
   "outputs": [],
   "source": [
    "dxy_raw = pd.read_csv('dxy_historical.csv')\n",
    "print(dxy_raw.info())\n",
    "dxy_raw[:1]"
   ]
  },
  {
   "cell_type": "code",
   "execution_count": null,
   "metadata": {},
   "outputs": [],
   "source": [
    "dxy = dxy_raw[['Date', ' Close']].copy()\n",
    "dxy['Date'] = pd.to_datetime(dxy['Date'], format='%x')\n",
    "dxy = dxy.loc[(dxy['Date'] >= start_date)\n",
    "              & (dxy['Date'] <= end_date)]\n",
    "dxy.sort_values('Date', inplace=True)\n",
    "dxy.reset_index(drop=True, inplace=True)\n",
    "dxy.columns = ['date', 'dxy']\n",
    "dxy.head()"
   ]
  },
  {
   "cell_type": "code",
   "execution_count": null,
   "metadata": {},
   "outputs": [],
   "source": [
    "df = df.merge(dxy, how='outer', on='date')\n",
    "df.ffill(inplace=True)\n",
    "\n",
    "# get first value\n",
    "#dxy_raw['Date'] = pd.to_datetime(dxy_raw['Date'], format='%x')\n",
    "#df_04ex.dxy[0] = dxy_raw.loc[dxy_raw['Date'] == '11/24/2017', [' Close']].values\n",
    "print(df.dxy.isnull().sum())\n",
    "df.head(2)"
   ]
  },
  {
   "cell_type": "code",
   "execution_count": null,
   "metadata": {},
   "outputs": [],
   "source": [
    "df.tail(2)"
   ]
  },
  {
   "cell_type": "markdown",
   "metadata": {},
   "source": [
    "### **[EFFR: Federal Funds Rate](https://en.wikipedia.org/wiki/Federal_funds_rate)**\n",
    "- The interest rate at which depository institutions (banks and credit unions) lend reserve balances to other depository institutions overnight, on an uncollateralized basis \n",
    "- [Data Source](https://fred.stlouisfed.org/series/EFFR)"
   ]
  },
  {
   "cell_type": "code",
   "execution_count": null,
   "metadata": {},
   "outputs": [],
   "source": [
    "effr_raw = pd.read_csv('EFFR.csv')\n",
    "effr_raw.head()"
   ]
  },
  {
   "cell_type": "code",
   "execution_count": null,
   "metadata": {},
   "outputs": [],
   "source": [
    "effr = effr_raw.copy()\n",
    "effr.columns = ['date', 'effr']\n",
    "effr['date'] = pd.to_datetime(effr['date'], format='%Y-%m-%d')\n",
    "effr.sort_values('date', inplace=True)\n",
    "effr = effr.loc[(effr['date'] >= start_date) & (effr['date'] <= end_date)]\n",
    "effr.reset_index(drop=True, inplace=True)\n",
    "effr.head()"
   ]
  },
  {
   "cell_type": "code",
   "execution_count": null,
   "metadata": {},
   "outputs": [],
   "source": [
    "df = df.merge(effr, how='outer', on='date')\n",
    "df.ffill(inplace=True)\n",
    "print(df.effr.isnull().sum())\n",
    "df.head()"
   ]
  },
  {
   "cell_type": "markdown",
   "metadata": {},
   "source": [
    "## Add other coins"
   ]
  },
  {
   "cell_type": "code",
   "execution_count": null,
   "metadata": {},
   "outputs": [],
   "source": [
    "# bitcoin\n",
    "btc_raw = pd.read_csv('btc_raw.csv')\n",
    "btc = btc_raw[['timestamp', 'open', 'high', 'low', 'close', 'volumefrom', 'volumeto']].copy()\n",
    "btc['timestamp'] = pd.to_datetime(btc['timestamp'])\n",
    "btc['timestamp'] = btc['timestamp'].dt.date\n",
    "btc.rename(columns = {'timestamp':'date', 'close':'btc'}, inplace=True)\n",
    "btc['date'] = pd.to_datetime(btc['date'], format='%Y-%m-%d')\n",
    "btc = btc.loc[(btc['date'] >= start_date) & (btc['date'] <= end_date)]\n",
    "btc.sort_values(by='date', inplace=True)\n",
    "btc.reset_index(drop=True, inplace=True)\n",
    "btc.drop(['high', 'low', 'open', 'volumefrom', 'volumeto'], axis=1, inplace=True)\n",
    "btc.head(2)"
   ]
  },
  {
   "cell_type": "code",
   "execution_count": null,
   "metadata": {},
   "outputs": [],
   "source": [
    "df = df.merge(btc, how='outer', on='date')\n",
    "print(df.shape)\n",
    "df.head(3)"
   ]
  },
  {
   "cell_type": "code",
   "execution_count": null,
   "metadata": {},
   "outputs": [],
   "source": [
    "# ripple\n",
    "xrp_raw = pd.read_csv('xrp_raw.csv')\n",
    "xrp = xrp_raw[['timestamp', 'open', 'high', 'low', 'close', 'volumefrom', 'volumeto']].copy()\n",
    "xrp['timestamp'] = pd.to_datetime(xrp['timestamp'])\n",
    "xrp['timestamp'] = xrp['timestamp'].dt.date\n",
    "xrp.rename(columns = {'timestamp':'date', 'close':'xrp'}, inplace=True)\n",
    "xrp['date'] = pd.to_datetime(xrp['date'], format='%Y-%m-%d')\n",
    "xrp = xrp.loc[(xrp['date'] >= start_date) & (xrp['date'] <= end_date)]\n",
    "xrp.sort_values(by='date', inplace=True)\n",
    "xrp.reset_index(drop=True, inplace=True)\n",
    "xrp.drop(['high', 'low', 'open', 'volumefrom', 'volumeto'], axis=1, inplace=True)\n",
    "df = df.merge(xrp, how='outer', on='date')\n",
    "print(df.shape)\n",
    "df.head(3)"
   ]
  },
  {
   "cell_type": "code",
   "execution_count": null,
   "metadata": {},
   "outputs": [],
   "source": [
    "# eos.io\n",
    "eos_raw = pd.read_csv('eos_raw.csv')\n",
    "eos = eos_raw[['timestamp', 'open', 'high', 'low', 'close', 'volumefrom', 'volumeto']].copy()\n",
    "eos['timestamp'] = pd.to_datetime(eos['timestamp'])\n",
    "eos['timestamp'] = eos['timestamp'].dt.date\n",
    "eos.rename(columns = {'timestamp':'date', 'close':'eos'}, inplace=True)\n",
    "eos['date'] = pd.to_datetime(eos['date'], format='%Y-%m-%d')\n",
    "eos = eos.loc[(eos['date'] >= start_date) & (eos['date'] <= end_date)]\n",
    "eos.sort_values(by='date', inplace=True)\n",
    "eos.reset_index(drop=True, inplace=True)\n",
    "eos.drop(['high', 'low', 'open', 'volumefrom', 'volumeto'], axis=1, inplace=True)\n",
    "df = df.merge(eos, how='outer', on='date')\n",
    "print(df.shape)\n",
    "df.head(3)"
   ]
  },
  {
   "cell_type": "code",
   "execution_count": null,
   "metadata": {},
   "outputs": [],
   "source": [
    "# litecoin\n",
    "ltc_raw = pd.read_csv('ltc_raw.csv')\n",
    "ltc = ltc_raw[['timestamp', 'open', 'high', 'low', 'close', 'volumefrom', 'volumeto']].copy()\n",
    "ltc['timestamp'] = pd.to_datetime(ltc['timestamp'])\n",
    "ltc['timestamp'] = ltc['timestamp'].dt.date\n",
    "ltc.rename(columns = {'timestamp':'date', 'close':'ltc'}, inplace=True)\n",
    "ltc['date'] = pd.to_datetime(ltc['date'], format='%Y-%m-%d')\n",
    "ltc = ltc.loc[(ltc['date'] >= start_date) & (ltc['date'] <= end_date)]\n",
    "ltc.sort_values(by='date', inplace=True)\n",
    "ltc.reset_index(drop=True, inplace=True)\n",
    "ltc.drop(['high', 'low', 'open', 'volumefrom', 'volumeto'], axis=1, inplace=True)\n",
    "df = df.merge(ltc, how='outer', on='date')\n",
    "print(df.shape)\n",
    "df.head(3)"
   ]
  },
  {
   "cell_type": "code",
   "execution_count": null,
   "metadata": {},
   "outputs": [],
   "source": [
    "# stellar\n",
    "xlm_raw = pd.read_csv('xlm_raw.csv')\n",
    "xlm = xlm_raw[['timestamp', 'open', 'high', 'low', 'close', 'volumefrom', 'volumeto']].copy()\n",
    "xlm['timestamp'] = pd.to_datetime(xlm['timestamp'])\n",
    "xlm['timestamp'] = xlm['timestamp'].dt.date\n",
    "xlm.rename(columns = {'timestamp':'date', 'close':'xlm'}, inplace=True)\n",
    "xlm['date'] = pd.to_datetime(xlm['date'], format='%Y-%m-%d')\n",
    "xlm = xlm.loc[(xlm['date'] >= start_date) & (xlm['date'] <= end_date)]\n",
    "xlm.sort_values(by='date', inplace=True)\n",
    "xlm.reset_index(drop=True, inplace=True)\n",
    "xlm.drop(['high', 'low', 'open', 'volumefrom', 'volumeto'], axis=1, inplace=True)\n",
    "df = df.merge(xlm, how='outer', on='date')\n",
    "print(df.shape)\n",
    "df.head(3)"
   ]
  },
  {
   "cell_type": "code",
   "execution_count": null,
   "metadata": {},
   "outputs": [],
   "source": [
    "# monero\n",
    "xmr_raw = pd.read_csv('xmr_raw.csv')\n",
    "xmr = xmr_raw[['timestamp', 'open', 'high', 'low', 'close', 'volumefrom', 'volumeto']].copy()\n",
    "xmr['timestamp'] = pd.to_datetime(xmr['timestamp'])\n",
    "xmr['timestamp'] = xmr['timestamp'].dt.date\n",
    "xmr.rename(columns = {'timestamp':'date', 'close':'xmr'}, inplace=True)\n",
    "xmr['date'] = pd.to_datetime(xmr['date'], format='%Y-%m-%d')\n",
    "xmr = xmr.loc[(xmr['date'] >= start_date) & (xmr['date'] <= end_date)]\n",
    "xmr.sort_values(by='date', inplace=True)\n",
    "xmr.reset_index(drop=True, inplace=True)\n",
    "xmr.drop(['high', 'low', 'open', 'volumefrom', 'volumeto'], axis=1, inplace=True)\n",
    "df = df.merge(xmr, how='outer', on='date')\n",
    "print(df.shape)\n",
    "df.head(3)"
   ]
  },
  {
   "cell_type": "code",
   "execution_count": null,
   "metadata": {},
   "outputs": [],
   "source": [
    "df.to_pickle('crypto_df.pkl')"
   ]
  },
  {
   "cell_type": "code",
   "execution_count": null,
   "metadata": {},
   "outputs": [],
   "source": [
    "df.tail()"
   ]
  },
  {
   "cell_type": "code",
   "execution_count": null,
   "metadata": {},
   "outputs": [],
   "source": [
    "print(df.xlm.isnull().sum())"
   ]
  },
  {
   "cell_type": "code",
   "execution_count": null,
   "metadata": {},
   "outputs": [],
   "source": []
  }
 ],
 "metadata": {
  "kernelspec": {
   "display_name": "Python 3",
   "language": "python",
   "name": "python3"
  },
  "language_info": {
   "codemirror_mode": {
    "name": "ipython",
    "version": 3
   },
   "file_extension": ".py",
   "mimetype": "text/x-python",
   "name": "python",
   "nbconvert_exporter": "python",
   "pygments_lexer": "ipython3",
   "version": "3.6.5"
  }
 },
 "nbformat": 4,
 "nbformat_minor": 2
}
