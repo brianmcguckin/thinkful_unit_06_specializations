{
 "cells": [
  {
   "cell_type": "code",
   "execution_count": 6,
   "metadata": {},
   "outputs": [],
   "source": [
    "import numpy as np\n",
    "import pandas as pd\n",
    "import scipy\n",
    "import datetime as dt\n",
    "import matplotlib.pyplot as plt\n",
    "import seaborn as sns\n",
    "import warnings\n",
    "\n",
    "%matplotlib inline\n",
    "warnings.filterwarnings('ignore')\n",
    "sns.set_style('whitegrid')\n",
    "sns.set_palette('muted')"
   ]
  },
  {
   "cell_type": "markdown",
   "metadata": {},
   "source": [
    "## Exogenous Variables\n",
    "- Etherem: OHLCV\n",
    "- Other Cryptocurrency prices\n",
    "    - BTC: Bitcoin\n",
    "    - XRP: Ripple\n",
    "    - EOS: EOS.IO\n",
    "    - LTC: Litecoin\n",
    "    - XLM: Stellar\n",
    "    - XMR: Monero\n",
    "- Other Indices\n",
    "    - VIX: CBOE Volatility Index\n",
    "    - TWEXB: Trade Weighted USD Index, Broad\n",
    "    - EFFR: Effective Federal Fund Rate"
   ]
  },
  {
   "cell_type": "markdown",
   "metadata": {},
   "source": [
    "## Load Data"
   ]
  },
  {
   "cell_type": "code",
   "execution_count": 15,
   "metadata": {},
   "outputs": [],
   "source": [
    "date = dt.datetime.today().strftime('%Y-%m-%d')\n",
    "symbols = ['eth','btc','xrp','eos','ltc','xlm','xmr','vixcls','twexb','effr']"
   ]
  },
  {
   "cell_type": "code",
   "execution_count": 27,
   "metadata": {},
   "outputs": [],
   "source": [
    "# create empty df for each symbol got data for\n",
    "d = {symbol: pd.DataFrame() for symbol in symbols}\n",
    "\n",
    "# populate each with their respective json data\n",
    "for symbol, df in d.items():\n",
    "    d[symbol] = pd.read_json('{}_data_{}.json'.format(symbol, date), orient='split')\n",
    "\n",
    "# convert keys:values to variables = assignments\n",
    "locals().update(d)"
   ]
  },
  {
   "cell_type": "code",
   "execution_count": 28,
   "metadata": {},
   "outputs": [
    {
     "data": {
      "text/html": [
       "<div>\n",
       "<style scoped>\n",
       "    .dataframe tbody tr th:only-of-type {\n",
       "        vertical-align: middle;\n",
       "    }\n",
       "\n",
       "    .dataframe tbody tr th {\n",
       "        vertical-align: top;\n",
       "    }\n",
       "\n",
       "    .dataframe thead th {\n",
       "        text-align: right;\n",
       "    }\n",
       "</style>\n",
       "<table border=\"1\" class=\"dataframe\">\n",
       "  <thead>\n",
       "    <tr style=\"text-align: right;\">\n",
       "      <th></th>\n",
       "      <th>date</th>\n",
       "      <th>open</th>\n",
       "      <th>high</th>\n",
       "      <th>low</th>\n",
       "      <th>close</th>\n",
       "      <th>volumefrom</th>\n",
       "      <th>volumeto</th>\n",
       "    </tr>\n",
       "  </thead>\n",
       "  <tbody>\n",
       "    <tr>\n",
       "      <th>0</th>\n",
       "      <td>2015-08-06</td>\n",
       "      <td>0.6747</td>\n",
       "      <td>3.0</td>\n",
       "      <td>0.6747</td>\n",
       "      <td>3.0</td>\n",
       "      <td>123.93</td>\n",
       "      <td>371.79</td>\n",
       "    </tr>\n",
       "    <tr>\n",
       "      <th>1</th>\n",
       "      <td>2015-08-07</td>\n",
       "      <td>3.0000</td>\n",
       "      <td>3.0</td>\n",
       "      <td>0.1500</td>\n",
       "      <td>1.2</td>\n",
       "      <td>2119.43</td>\n",
       "      <td>1438.16</td>\n",
       "    </tr>\n",
       "  </tbody>\n",
       "</table>\n",
       "</div>"
      ],
      "text/plain": [
       "        date    open  high     low  close  volumefrom  volumeto\n",
       "0 2015-08-06  0.6747   3.0  0.6747    3.0      123.93    371.79\n",
       "1 2015-08-07  3.0000   3.0  0.1500    1.2     2119.43   1438.16"
      ]
     },
     "execution_count": 28,
     "metadata": {},
     "output_type": "execute_result"
    }
   ],
   "source": [
    "eth.head(2)"
   ]
  },
  {
   "cell_type": "code",
   "execution_count": 30,
   "metadata": {},
   "outputs": [
    {
     "data": {
      "text/html": [
       "<div>\n",
       "<style scoped>\n",
       "    .dataframe tbody tr th:only-of-type {\n",
       "        vertical-align: middle;\n",
       "    }\n",
       "\n",
       "    .dataframe tbody tr th {\n",
       "        vertical-align: top;\n",
       "    }\n",
       "\n",
       "    .dataframe thead th {\n",
       "        text-align: right;\n",
       "    }\n",
       "</style>\n",
       "<table border=\"1\" class=\"dataframe\">\n",
       "  <thead>\n",
       "    <tr style=\"text-align: right;\">\n",
       "      <th></th>\n",
       "      <th>date</th>\n",
       "      <th>vixcls</th>\n",
       "    </tr>\n",
       "  </thead>\n",
       "  <tbody>\n",
       "    <tr>\n",
       "      <th>0</th>\n",
       "      <td>1990-01-02</td>\n",
       "      <td>17.24</td>\n",
       "    </tr>\n",
       "    <tr>\n",
       "      <th>1</th>\n",
       "      <td>1990-01-03</td>\n",
       "      <td>18.19</td>\n",
       "    </tr>\n",
       "  </tbody>\n",
       "</table>\n",
       "</div>"
      ],
      "text/plain": [
       "        date vixcls\n",
       "0 1990-01-02  17.24\n",
       "1 1990-01-03  18.19"
      ]
     },
     "execution_count": 30,
     "metadata": {},
     "output_type": "execute_result"
    }
   ],
   "source": [
    "vixcls.head(2)"
   ]
  },
  {
   "cell_type": "code",
   "execution_count": 29,
   "metadata": {},
   "outputs": [
    {
     "data": {
      "text/html": [
       "<div>\n",
       "<style scoped>\n",
       "    .dataframe tbody tr th:only-of-type {\n",
       "        vertical-align: middle;\n",
       "    }\n",
       "\n",
       "    .dataframe tbody tr th {\n",
       "        vertical-align: top;\n",
       "    }\n",
       "\n",
       "    .dataframe thead th {\n",
       "        text-align: right;\n",
       "    }\n",
       "</style>\n",
       "<table border=\"1\" class=\"dataframe\">\n",
       "  <thead>\n",
       "    <tr style=\"text-align: right;\">\n",
       "      <th></th>\n",
       "      <th>date</th>\n",
       "      <th>eth_open</th>\n",
       "      <th>eth_high</th>\n",
       "      <th>eth_low</th>\n",
       "      <th>eth_close</th>\n",
       "      <th>eth_volumefrom</th>\n",
       "      <th>eth_volumeto</th>\n",
       "    </tr>\n",
       "  </thead>\n",
       "  <tbody>\n",
       "    <tr>\n",
       "      <th>0</th>\n",
       "      <td>2015-08-06</td>\n",
       "      <td>0.6747</td>\n",
       "      <td>3.0</td>\n",
       "      <td>0.6747</td>\n",
       "      <td>3.0</td>\n",
       "      <td>123.93</td>\n",
       "      <td>371.79</td>\n",
       "    </tr>\n",
       "    <tr>\n",
       "      <th>1</th>\n",
       "      <td>2015-08-07</td>\n",
       "      <td>3.0000</td>\n",
       "      <td>3.0</td>\n",
       "      <td>0.1500</td>\n",
       "      <td>1.2</td>\n",
       "      <td>2119.43</td>\n",
       "      <td>1438.16</td>\n",
       "    </tr>\n",
       "  </tbody>\n",
       "</table>\n",
       "</div>"
      ],
      "text/plain": [
       "        date  eth_open  eth_high  eth_low  eth_close  eth_volumefrom  \\\n",
       "0 2015-08-06    0.6747       3.0   0.6747        3.0          123.93   \n",
       "1 2015-08-07    3.0000       3.0   0.1500        1.2         2119.43   \n",
       "\n",
       "   eth_volumeto  \n",
       "0        371.79  \n",
       "1       1438.16  "
      ]
     },
     "execution_count": 29,
     "metadata": {},
     "output_type": "execute_result"
    }
   ],
   "source": [
    "# rename columns to keep straight\n",
    "\n",
    "# target currency\n",
    "cols_orig = list(eth.columns)\n",
    "cols_new = ['date']\n",
    "\n",
    "for col in cols_orig[1:]:\n",
    "    cols_new.append('eth_{}'.format(col))\n",
    "    \n",
    "eth.columns = cols_new\n",
    "eth.head(2)"
   ]
  },
  {
   "cell_type": "code",
   "execution_count": 33,
   "metadata": {},
   "outputs": [
    {
     "data": {
      "text/plain": [
       "['btc', 'xrp', 'eos', 'ltc', 'xlm', 'xmr']"
      ]
     },
     "execution_count": 33,
     "metadata": {},
     "output_type": "execute_result"
    }
   ],
   "source": [
    "# exog cryptocurrencies\n",
    "currencies = [btc, xrp, eos, ltc, xlm, xmr]\n",
    "\n",
    "for cur in currencies:\n",
    "    drops = cur.loc[:, ~cur.isin()]\n",
    "    cur.drop()"
   ]
  },
  {
   "cell_type": "markdown",
   "metadata": {},
   "source": [
    "## Create Single DataFrame"
   ]
  },
  {
   "cell_type": "code",
   "execution_count": null,
   "metadata": {},
   "outputs": [],
   "source": []
  },
  {
   "cell_type": "code",
   "execution_count": null,
   "metadata": {},
   "outputs": [],
   "source": []
  },
  {
   "cell_type": "code",
   "execution_count": null,
   "metadata": {},
   "outputs": [],
   "source": []
  },
  {
   "cell_type": "code",
   "execution_count": null,
   "metadata": {},
   "outputs": [],
   "source": []
  },
  {
   "cell_type": "code",
   "execution_count": null,
   "metadata": {},
   "outputs": [],
   "source": []
  },
  {
   "cell_type": "code",
   "execution_count": null,
   "metadata": {},
   "outputs": [],
   "source": []
  },
  {
   "cell_type": "markdown",
   "metadata": {},
   "source": [
    "### **[VIX: CBOE Volatility Index](https://en.wikipedia.org/wiki/VIX)**\n",
    "- Measure of stock market's expectation of volatility implied by S&P 500 index options, aka 'fear index'\n",
    "- [Data Source](http://www.cboe.com/products/vix-index-volatility/vix-options-and-futures/vix-index/vix-historical-data)"
   ]
  },
  {
   "cell_type": "code",
   "execution_count": null,
   "metadata": {},
   "outputs": [],
   "source": [
    "df = eth.copy()"
   ]
  },
  {
   "cell_type": "code",
   "execution_count": null,
   "metadata": {},
   "outputs": [],
   "source": [
    "vix_raw = pd.read_csv('vixcurrent.csv', header=1)\n",
    "print(vix_raw.info())\n",
    "vix_raw[:1]"
   ]
  },
  {
   "cell_type": "code",
   "execution_count": null,
   "metadata": {},
   "outputs": [],
   "source": [
    "start_date = '2015-08-06'\n",
    "end_date = '2018-09-09'\n",
    "vix_close = vix_raw[['Date', 'VIX Close']].copy()\n",
    "vix_close['Date'] = pd.to_datetime(vix_close['Date'], format='%m/%d/%Y')\n",
    "vix_close = vix_close.loc[(vix_close['Date'] >= start_date)\n",
    "                          & (vix_close['Date'] <= end_date)]\n",
    "vix_close.sort_values('Date', inplace=True)\n",
    "vix_close.reset_index(drop=True, inplace=True)\n",
    "vix_close.columns = ['date', 'vix']\n",
    "vix_close.head()"
   ]
  },
  {
   "cell_type": "code",
   "execution_count": null,
   "metadata": {},
   "outputs": [],
   "source": [
    "df = df.merge(vix_close, how='outer', on='date')\n",
    "df.vix.ffill(inplace=True)\n",
    "#df_04ex.vix[0]= vix_raw.loc[vix_raw['Date'] == '11/24/2017', ['VIX Close']].values\n",
    "print(df.vix.isnull().sum())\n",
    "df.head()"
   ]
  },
  {
   "cell_type": "markdown",
   "metadata": {},
   "source": [
    "### **[DXY: US Dollar Index](https://en.wikipedia.org/wiki/U.S._Dollar_Index)**\n",
    "- Measure of value of USD relative to a basket of foreign currencies\n",
    "- [Data Source](https://quotes.wsj.com/index/DXY/historical-prices)"
   ]
  },
  {
   "cell_type": "code",
   "execution_count": null,
   "metadata": {},
   "outputs": [],
   "source": [
    "dxy_raw = pd.read_csv('dxy_historical.csv')\n",
    "print(dxy_raw.info())\n",
    "dxy_raw[:1]"
   ]
  },
  {
   "cell_type": "code",
   "execution_count": null,
   "metadata": {},
   "outputs": [],
   "source": [
    "dxy = dxy_raw[['Date', ' Close']].copy()\n",
    "dxy['Date'] = pd.to_datetime(dxy['Date'], format='%x')\n",
    "dxy = dxy.loc[(dxy['Date'] >= start_date)\n",
    "              & (dxy['Date'] <= end_date)]\n",
    "dxy.sort_values('Date', inplace=True)\n",
    "dxy.reset_index(drop=True, inplace=True)\n",
    "dxy.columns = ['date', 'dxy']\n",
    "dxy.head()"
   ]
  },
  {
   "cell_type": "code",
   "execution_count": null,
   "metadata": {},
   "outputs": [],
   "source": [
    "df = df.merge(dxy, how='outer', on='date')\n",
    "df.ffill(inplace=True)\n",
    "\n",
    "# get first value\n",
    "#dxy_raw['Date'] = pd.to_datetime(dxy_raw['Date'], format='%x')\n",
    "#df_04ex.dxy[0] = dxy_raw.loc[dxy_raw['Date'] == '11/24/2017', [' Close']].values\n",
    "print(df.dxy.isnull().sum())\n",
    "df.head(2)"
   ]
  },
  {
   "cell_type": "code",
   "execution_count": null,
   "metadata": {},
   "outputs": [],
   "source": [
    "df.tail(2)"
   ]
  },
  {
   "cell_type": "markdown",
   "metadata": {},
   "source": [
    "### **[EFFR: Federal Funds Rate](https://en.wikipedia.org/wiki/Federal_funds_rate)**\n",
    "- The interest rate at which depository institutions (banks and credit unions) lend reserve balances to other depository institutions overnight, on an uncollateralized basis \n",
    "- [Data Source](https://fred.stlouisfed.org/series/EFFR)"
   ]
  },
  {
   "cell_type": "code",
   "execution_count": null,
   "metadata": {},
   "outputs": [],
   "source": [
    "effr_raw = pd.read_csv('EFFR.csv')\n",
    "effr_raw.head()"
   ]
  },
  {
   "cell_type": "code",
   "execution_count": null,
   "metadata": {},
   "outputs": [],
   "source": [
    "effr = effr_raw.copy()\n",
    "effr.columns = ['date', 'effr']\n",
    "effr['date'] = pd.to_datetime(effr['date'], format='%Y-%m-%d')\n",
    "effr.sort_values('date', inplace=True)\n",
    "effr = effr.loc[(effr['date'] >= start_date) & (effr['date'] <= end_date)]\n",
    "effr.reset_index(drop=True, inplace=True)\n",
    "effr.head()"
   ]
  },
  {
   "cell_type": "code",
   "execution_count": null,
   "metadata": {},
   "outputs": [],
   "source": [
    "df = df.merge(effr, how='outer', on='date')\n",
    "df.ffill(inplace=True)\n",
    "print(df.effr.isnull().sum())\n",
    "df.head()"
   ]
  },
  {
   "cell_type": "markdown",
   "metadata": {},
   "source": [
    "## Add other coins"
   ]
  },
  {
   "cell_type": "code",
   "execution_count": null,
   "metadata": {},
   "outputs": [],
   "source": [
    "# bitcoin\n",
    "btc_raw = pd.read_csv('btc_raw.csv')\n",
    "btc = btc_raw[['timestamp', 'open', 'high', 'low', 'close', 'volumefrom', 'volumeto']].copy()\n",
    "btc['timestamp'] = pd.to_datetime(btc['timestamp'])\n",
    "btc['timestamp'] = btc['timestamp'].dt.date\n",
    "btc.rename(columns = {'timestamp':'date', 'close':'btc'}, inplace=True)\n",
    "btc['date'] = pd.to_datetime(btc['date'], format='%Y-%m-%d')\n",
    "btc = btc.loc[(btc['date'] >= start_date) & (btc['date'] <= end_date)]\n",
    "btc.sort_values(by='date', inplace=True)\n",
    "btc.reset_index(drop=True, inplace=True)\n",
    "btc.drop(['high', 'low', 'open', 'volumefrom', 'volumeto'], axis=1, inplace=True)\n",
    "btc.head(2)"
   ]
  },
  {
   "cell_type": "code",
   "execution_count": null,
   "metadata": {},
   "outputs": [],
   "source": [
    "df = df.merge(btc, how='outer', on='date')\n",
    "print(df.shape)\n",
    "df.head(3)"
   ]
  },
  {
   "cell_type": "code",
   "execution_count": null,
   "metadata": {},
   "outputs": [],
   "source": [
    "# ripple\n",
    "xrp_raw = pd.read_csv('xrp_raw.csv')\n",
    "xrp = xrp_raw[['timestamp', 'open', 'high', 'low', 'close', 'volumefrom', 'volumeto']].copy()\n",
    "xrp['timestamp'] = pd.to_datetime(xrp['timestamp'])\n",
    "xrp['timestamp'] = xrp['timestamp'].dt.date\n",
    "xrp.rename(columns = {'timestamp':'date', 'close':'xrp'}, inplace=True)\n",
    "xrp['date'] = pd.to_datetime(xrp['date'], format='%Y-%m-%d')\n",
    "xrp = xrp.loc[(xrp['date'] >= start_date) & (xrp['date'] <= end_date)]\n",
    "xrp.sort_values(by='date', inplace=True)\n",
    "xrp.reset_index(drop=True, inplace=True)\n",
    "xrp.drop(['high', 'low', 'open', 'volumefrom', 'volumeto'], axis=1, inplace=True)\n",
    "df = df.merge(xrp, how='outer', on='date')\n",
    "print(df.shape)\n",
    "df.head(3)"
   ]
  },
  {
   "cell_type": "code",
   "execution_count": null,
   "metadata": {},
   "outputs": [],
   "source": [
    "# eos.io\n",
    "eos_raw = pd.read_csv('eos_raw.csv')\n",
    "eos = eos_raw[['timestamp', 'open', 'high', 'low', 'close', 'volumefrom', 'volumeto']].copy()\n",
    "eos['timestamp'] = pd.to_datetime(eos['timestamp'])\n",
    "eos['timestamp'] = eos['timestamp'].dt.date\n",
    "eos.rename(columns = {'timestamp':'date', 'close':'eos'}, inplace=True)\n",
    "eos['date'] = pd.to_datetime(eos['date'], format='%Y-%m-%d')\n",
    "eos = eos.loc[(eos['date'] >= start_date) & (eos['date'] <= end_date)]\n",
    "eos.sort_values(by='date', inplace=True)\n",
    "eos.reset_index(drop=True, inplace=True)\n",
    "eos.drop(['high', 'low', 'open', 'volumefrom', 'volumeto'], axis=1, inplace=True)\n",
    "df = df.merge(eos, how='outer', on='date')\n",
    "print(df.shape)\n",
    "df.head(3)"
   ]
  },
  {
   "cell_type": "code",
   "execution_count": null,
   "metadata": {},
   "outputs": [],
   "source": [
    "# litecoin\n",
    "ltc_raw = pd.read_csv('ltc_raw.csv')\n",
    "ltc = ltc_raw[['timestamp', 'open', 'high', 'low', 'close', 'volumefrom', 'volumeto']].copy()\n",
    "ltc['timestamp'] = pd.to_datetime(ltc['timestamp'])\n",
    "ltc['timestamp'] = ltc['timestamp'].dt.date\n",
    "ltc.rename(columns = {'timestamp':'date', 'close':'ltc'}, inplace=True)\n",
    "ltc['date'] = pd.to_datetime(ltc['date'], format='%Y-%m-%d')\n",
    "ltc = ltc.loc[(ltc['date'] >= start_date) & (ltc['date'] <= end_date)]\n",
    "ltc.sort_values(by='date', inplace=True)\n",
    "ltc.reset_index(drop=True, inplace=True)\n",
    "ltc.drop(['high', 'low', 'open', 'volumefrom', 'volumeto'], axis=1, inplace=True)\n",
    "df = df.merge(ltc, how='outer', on='date')\n",
    "print(df.shape)\n",
    "df.head(3)"
   ]
  },
  {
   "cell_type": "code",
   "execution_count": null,
   "metadata": {},
   "outputs": [],
   "source": [
    "# stellar\n",
    "xlm_raw = pd.read_csv('xlm_raw.csv')\n",
    "xlm = xlm_raw[['timestamp', 'open', 'high', 'low', 'close', 'volumefrom', 'volumeto']].copy()\n",
    "xlm['timestamp'] = pd.to_datetime(xlm['timestamp'])\n",
    "xlm['timestamp'] = xlm['timestamp'].dt.date\n",
    "xlm.rename(columns = {'timestamp':'date', 'close':'xlm'}, inplace=True)\n",
    "xlm['date'] = pd.to_datetime(xlm['date'], format='%Y-%m-%d')\n",
    "xlm = xlm.loc[(xlm['date'] >= start_date) & (xlm['date'] <= end_date)]\n",
    "xlm.sort_values(by='date', inplace=True)\n",
    "xlm.reset_index(drop=True, inplace=True)\n",
    "xlm.drop(['high', 'low', 'open', 'volumefrom', 'volumeto'], axis=1, inplace=True)\n",
    "df = df.merge(xlm, how='outer', on='date')\n",
    "print(df.shape)\n",
    "df.head(3)"
   ]
  },
  {
   "cell_type": "code",
   "execution_count": null,
   "metadata": {},
   "outputs": [],
   "source": [
    "# monero\n",
    "xmr_raw = pd.read_csv('xmr_raw.csv')\n",
    "xmr = xmr_raw[['timestamp', 'open', 'high', 'low', 'close', 'volumefrom', 'volumeto']].copy()\n",
    "xmr['timestamp'] = pd.to_datetime(xmr['timestamp'])\n",
    "xmr['timestamp'] = xmr['timestamp'].dt.date\n",
    "xmr.rename(columns = {'timestamp':'date', 'close':'xmr'}, inplace=True)\n",
    "xmr['date'] = pd.to_datetime(xmr['date'], format='%Y-%m-%d')\n",
    "xmr = xmr.loc[(xmr['date'] >= start_date) & (xmr['date'] <= end_date)]\n",
    "xmr.sort_values(by='date', inplace=True)\n",
    "xmr.reset_index(drop=True, inplace=True)\n",
    "xmr.drop(['high', 'low', 'open', 'volumefrom', 'volumeto'], axis=1, inplace=True)\n",
    "df = df.merge(xmr, how='outer', on='date')\n",
    "print(df.shape)\n",
    "df.head(3)"
   ]
  },
  {
   "cell_type": "code",
   "execution_count": null,
   "metadata": {},
   "outputs": [],
   "source": [
    "df.to_pickle('crypto_df.pkl')"
   ]
  },
  {
   "cell_type": "code",
   "execution_count": null,
   "metadata": {},
   "outputs": [],
   "source": [
    "df.tail()"
   ]
  },
  {
   "cell_type": "code",
   "execution_count": null,
   "metadata": {},
   "outputs": [],
   "source": [
    "print(df.xlm.isnull().sum())"
   ]
  },
  {
   "cell_type": "code",
   "execution_count": null,
   "metadata": {},
   "outputs": [],
   "source": []
  }
 ],
 "metadata": {
  "kernelspec": {
   "display_name": "Python 3",
   "language": "python",
   "name": "python3"
  },
  "language_info": {
   "codemirror_mode": {
    "name": "ipython",
    "version": 3
   },
   "file_extension": ".py",
   "mimetype": "text/x-python",
   "name": "python",
   "nbconvert_exporter": "python",
   "pygments_lexer": "ipython3",
   "version": "3.6.5"
  }
 },
 "nbformat": 4,
 "nbformat_minor": 2
}
