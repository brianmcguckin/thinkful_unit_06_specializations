{
 "cells": [
  {
   "cell_type": "markdown",
   "metadata": {},
   "source": [
    "## Basics of Modeling Time"
   ]
  },
  {
   "cell_type": "code",
   "execution_count": 9,
   "metadata": {},
   "outputs": [],
   "source": [
    "import numpy as np\n",
    "import pandas as pd\n",
    "import scipy\n",
    "from datetime import datetime\n",
    "import datetime as dt\n",
    "import matplotlib.pyplot as plt\n",
    "%matplotlib inline"
   ]
  },
  {
   "cell_type": "code",
   "execution_count": null,
   "metadata": {},
   "outputs": [],
   "source": [
    "# using same data from previous lesson\n",
    "#learning_progress = pd.DataFrame()\n",
    "\n",
    "# add dates, increasing knowledge, oscillating confidence\n",
    "#learning_progress['date'] = pd.date_range(start='2017-01-01', periods=100)\n",
    "#learning_progress['knowledge'] = np.arange(0,100)\n",
    "#learning_progress['confidence'] = 10 * np.cos(\n",
    "#    np.arange(0, 100) * np.pi / 7) + np.arange(0, 100)"
   ]
  },
  {
   "cell_type": "code",
   "execution_count": 2,
   "metadata": {},
   "outputs": [],
   "source": [
    "learning_progress = pd.DataFrame()\n",
    "\n",
    "# Add a range of 100 dates starting Jan 1, 2017.\n",
    "learning_progress['date'] = pd.date_range(start='2017-01-01', periods=100)\n",
    "\n",
    "# Add linearly increasing knowledge and oscillating confidence.\n",
    "learning_progress['knowledge'] = np.arange(0, 100)\n",
    "learning_progress['confidence'] = 10 * np.cos(np.arange(0, 100) * np.pi / 3.5) + np.arange(0, 100)"
   ]
  },
  {
   "cell_type": "markdown",
   "metadata": {},
   "source": [
    "### Linear Trends\n",
    "- Working here with a linear model\n",
    "    - Time series work is often done with least squares linear models because of their explanatory power\n",
    "- Linear trend: treats time just like any other variable"
   ]
  },
  {
   "cell_type": "code",
   "execution_count": 3,
   "metadata": {},
   "outputs": [
    {
     "data": {
      "text/plain": [
       "0.9434054498353532"
      ]
     },
     "execution_count": 3,
     "metadata": {},
     "output_type": "execute_result"
    }
   ],
   "source": [
    "# explain variance in confidence over time\n",
    "from sklearn import linear_model\n",
    "lm = linear_model.LinearRegression()\n",
    "\n",
    "# sklearn requires converting data to numeric\n",
    "X = pd.DataFrame(pd.to_numeric(learning_progress['date']))\n",
    "y = learning_progress['confidence']\n",
    "lm.fit(X,y)\n",
    "lm.score(X,y)"
   ]
  },
  {
   "cell_type": "code",
   "execution_count": 4,
   "metadata": {},
   "outputs": [
    {
     "data": {
      "text/plain": [
       "1.161624877097711e-14"
      ]
     },
     "execution_count": 4,
     "metadata": {},
     "output_type": "execute_result"
    }
   ],
   "source": [
    "lm.coef_[0]"
   ]
  },
  {
   "cell_type": "code",
   "execution_count": 5,
   "metadata": {},
   "outputs": [
    {
     "data": {
      "text/plain": [
       "1.0036438938124224"
      ]
     },
     "execution_count": 5,
     "metadata": {},
     "output_type": "execute_result"
    }
   ],
   "source": [
    "# convert coefficient from nanoseconds to days\n",
    "lm.coef_[0] * 1000000000 * 24 * 60 * 60"
   ]
  },
  {
   "cell_type": "markdown",
   "metadata": {},
   "source": [
    "**Notes:**\n",
    "- Sklearn requires inputs to be numeric\n",
    "    - pd.to_numeric() for this, converting column to nanoseconds since Jan 1, 1970\n",
    "    - Referred to as epoch time in nanoseconds (epoch time is simply in seconds)\n",
    "- Can perform the same kind of feature engineering as any other variable\n",
    "- Coefficient interpretation:\n",
    "    - Overall trend to confidence over time: with every passing day, confidence goes up about 0.003\n",
    "\n",
    "### Indicators\n",
    "When dealing with time, often looking for a pattern or seasonality\n",
    "1. Indicator variables: dummy variables that show whether you are in a time of year or not\n",
    "    - Simplest way: create an indicator for every period of the season\n",
    "        - For a weekly cycle, create indicator for every day of the week\n",
    "        - Monthly create indicator for every month of the year\n",
    "    - Advantage: get a coefficient to adjust for every period in seasonality allowing for very specified fit\n",
    "    - Disadvantage: opens up for overfitting\n",
    "    - Make sure there's enough data so these indicators don't create problems\n",
    "        - If only one datapoint in each period, going to get a perfect fit and useless model"
   ]
  },
  {
   "cell_type": "code",
   "execution_count": 6,
   "metadata": {},
   "outputs": [
    {
     "data": {
      "image/png": "[encoded data removed]",
      "text/plain": [
       "<Figure size 432x288 with 1 Axes>"
      ]
     },
     "metadata": {},
     "output_type": "display_data"
    }
   ],
   "source": [
    "# model confidence in terms of time with indicators\n",
    "plt.plot(learning_progress.date, learning_progress.confidence)\n",
    "plt.xticks(rotation=60)\n",
    "plt.title('time series linear plots')\n",
    "plt.show()"
   ]
  },
  {
   "cell_type": "markdown",
   "metadata": {},
   "source": [
    "- Appears to have a weekly pattern\n",
    "- Model in terms of two factors\n",
    "    - Trend line\n",
    "    - Day of the week indicator\n",
    "        - Get indicator by extracting day of the week from dates and convert to dummies"
   ]
  },
  {
   "cell_type": "code",
   "execution_count": 12,
   "metadata": {},
   "outputs": [
    {
     "data": {
      "text/plain": [
       "1.0"
      ]
     },
     "execution_count": 12,
     "metadata": {},
     "output_type": "execute_result"
    }
   ],
   "source": [
    "learning_progress['day_of_week'] = learning_progress.date.apply(\n",
    "    lambda x: str(dt.datetime.weekday(x)))\n",
    "\n",
    "X = pd.get_dummies(learning_progress.day_of_week)\n",
    "X['date'] = pd.to_numeric(learning_progress.date) / (1000000000*24*60*60)\n",
    "y = learning_progress['confidence']\n",
    "lm.fit(X,y)\n",
    "lm.score(X,y)"
   ]
  },
  {
   "cell_type": "code",
   "execution_count": 13,
   "metadata": {},
   "outputs": [
    {
     "name": "stdout",
     "output_type": "stream",
     "text": [
      "Index(['0', '1', '2', '3', '4', '5', '6', 'date'], dtype='object')\n",
      "[ 6.23489802 -2.22520934 -9.00968868 -9.00968868 -2.22520934  6.23489802\n",
      " 10.          1.        ]\n"
     ]
    }
   ],
   "source": [
    "print(X.columns)\n",
    "print(lm.coef_)"
   ]
  },
  {
   "cell_type": "markdown",
   "metadata": {},
   "source": [
    "**Results**:\n",
    "- Series of coefficients for day of the week, 0 = Monday through 6 = Sunday\n",
    "- Mondays have higher confidence than Tuesdays through Fridays, and it recovers on the weekends\n",
    "- Daily trend: confidence increases an average of 1 unit per day\n",
    "- Model has score of 1.0, since this is the exact equation used to create the data if you discretize the oscillating function\n",
    "\n",
    "### Oscillators\n",
    "- Can also use trigonometric functions, specifically sine and cosine\n",
    "- Oscillating functions: have a period and an amplitude"
   ]
  },
  {
   "cell_type": "code",
   "execution_count": 15,
   "metadata": {},
   "outputs": [
    {
     "data": {
      "image/png": "[encoded data removed]",
      "text/plain": [
       "<Figure size 432x288 with 1 Axes>"
      ]
     },
     "metadata": {},
     "output_type": "display_data"
    }
   ],
   "source": [
    "x = np.linspace(0, 50, 500)\n",
    "plt.plot(x, np.cos(x))\n",
    "plt.title('Cosine Function')\n",
    "plt.show()"
   ]
  },
  {
   "cell_type": "markdown",
   "metadata": {},
   "source": [
    "### Trigonometry\n",
    "- Sine/cosine functions are derived from relationships from within triangles\n",
    "- Using these functions not for trigonometric purposes\n",
    "- Regularly repeating oscillating wave, can control height and frequency of oscillations\n",
    "    - **Amplitude**: how high oscillations move from the center (in plot above amplitude = 1)\n",
    "    - **Period**: how long an oscillation is (in plot period $=2\\pi$)\n",
    "- Working with a linear model and see something regularly oscillating in a symmetric fashion\n",
    "    - Sine transformation can be useful to draw out periodicity\n",
    "    - Can add a regular wiggle or movement up or day, within a period, to any other linear trends present\n",
    "    - Must find the duration of oscillation before applying the sine/cosine transformation"
   ]
  },
  {
   "cell_type": "code",
   "execution_count": 16,
   "metadata": {},
   "outputs": [
    {
     "data": {
      "text/plain": [
       "1.0"
      ]
     },
     "execution_count": 16,
     "metadata": {},
     "output_type": "execute_result"
    }
   ],
   "source": [
    "X = pd.DataFrame()\n",
    "X['date'] = pd.to_numeric(learning_progress.date) / (1000000000*24*60*60)\n",
    "\n",
    "# subtracting 17167 from date to normalize it to start at zero\n",
    "# this aligns the peak of the curve with the start of the cosine function\n",
    "\n",
    "X['cos_date'] = np.cos((X.date - 17167) * np.pi / 3.5)\n",
    "y = learning_progress['confidence']\n",
    "lm.fit(X, y)\n",
    "lm.score(X, y)"
   ]
  },
  {
   "cell_type": "code",
   "execution_count": 17,
   "metadata": {},
   "outputs": [
    {
     "data": {
      "text/plain": [
       "array([ 1., 10.])"
      ]
     },
     "execution_count": 17,
     "metadata": {},
     "output_type": "execute_result"
    }
   ],
   "source": [
    "lm.coef_"
   ]
  },
  {
   "cell_type": "markdown",
   "metadata": {},
   "source": [
    "**Finding the duration of an oscillation**\n",
    "- Easiest way: have its period be present in the data (eg things that repeat weekly have a weekly period)\n",
    "- Period is not always clear, eg see something monthly but doesn't line up perfectly with clear starts/ends\n",
    "- For these cases, use **spectral analysis**:\n",
    "    - Implementation is beyond scope here\n",
    "    - In practice, can usually attain a reasonable estimation through indicators and other techniques\n",
    "\n",
    "**Main value of trigonometric terms for seasonality**\n",
    "- Avoid overfitting by only offering a single term to match, the amplitude\n",
    "- Overfitting opportunity: also manually estimating period\n",
    "    - 12 indicators: much more opportunity to overfit\n",
    "    - 1 indicator: much less opportunity to overfit"
   ]
  },
  {
   "cell_type": "code",
   "execution_count": null,
   "metadata": {},
   "outputs": [],
   "source": []
  }
 ],
 "metadata": {
  "kernelspec": {
   "display_name": "Python 3",
   "language": "python",
   "name": "python3"
  },
  "language_info": {
   "codemirror_mode": {
    "name": "ipython",
    "version": 3
   },
   "file_extension": ".py",
   "mimetype": "text/x-python",
   "name": "python",
   "nbconvert_exporter": "python",
   "pygments_lexer": "ipython3",
   "version": "3.6.5"
  }
 },
 "nbformat": 4,
 "nbformat_minor": 2
}
