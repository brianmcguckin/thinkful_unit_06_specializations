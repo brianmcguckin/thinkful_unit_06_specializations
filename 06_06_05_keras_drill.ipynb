{
 "cells": [
  {
   "cell_type": "code",
   "execution_count": 1,
   "metadata": {},
   "outputs": [
    {
     "name": "stderr",
     "output_type": "stream",
     "text": [
      "Using TensorFlow backend.\n"
     ]
    }
   ],
   "source": [
    "import tensorflow as tf\n",
    "import keras"
   ]
  },
  {
   "cell_type": "markdown",
   "metadata": {},
   "source": [
    "### Drill: 99% MLP\n",
    "- Try and tune the MLP model from above to achieve 99% accuracy\n",
    "- How does its runtime compare to the CNN/RNNs?"
   ]
  },
  {
   "cell_type": "code",
   "execution_count": 2,
   "metadata": {},
   "outputs": [],
   "source": [
    "# import dataset\n",
    "from keras.datasets import mnist\n",
    "\n",
    "# model building imports\n",
    "from keras.models import Sequential\n",
    "from keras.layers import Dense, Dropout, Flatten, Conv2D, MaxPooling2D\n",
    "from keras.layers import LSTM, Input, TimeDistributed\n",
    "from keras.models import Model\n",
    "from keras.optimizers import RMSprop\n",
    "\n",
    "# import backend\n",
    "from keras import backend as K"
   ]
  },
  {
   "cell_type": "code",
   "execution_count": 3,
   "metadata": {},
   "outputs": [],
   "source": [
    "(X_train, y_train), (X_test, y_test) = mnist.load_data()"
   ]
  },
  {
   "cell_type": "code",
   "execution_count": 4,
   "metadata": {},
   "outputs": [
    {
     "name": "stdout",
     "output_type": "stream",
     "text": [
      "X_train shape: (60000, 784)\n",
      "X_test shape: (10000, 784)\n",
      "_________________________________________________________________\n",
      "Layer (type)                 Output Shape              Param #   \n",
      "=================================================================\n",
      "dense_1 (Dense)              (None, 64)                50240     \n",
      "_________________________________________________________________\n",
      "dropout_1 (Dropout)          (None, 64)                0         \n",
      "_________________________________________________________________\n",
      "dense_2 (Dense)              (None, 64)                4160      \n",
      "_________________________________________________________________\n",
      "dropout_2 (Dropout)          (None, 64)                0         \n",
      "_________________________________________________________________\n",
      "dense_3 (Dense)              (None, 10)                650       \n",
      "=================================================================\n",
      "Total params: 55,050\n",
      "Trainable params: 55,050\n",
      "Non-trainable params: 0\n",
      "_________________________________________________________________\n",
      "Train on 60000 samples, validate on 10000 samples\n",
      "Epoch 1/10\n",
      "60000/60000 [==============================] - 2s 26us/step - loss: 0.4329 - acc: 0.8731 - val_loss: 0.1896 - val_acc: 0.9432\n",
      "Epoch 2/10\n",
      "60000/60000 [==============================] - 1s 18us/step - loss: 0.2053 - acc: 0.9391 - val_loss: 0.1332 - val_acc: 0.9586\n",
      "Epoch 3/10\n",
      "60000/60000 [==============================] - 1s 18us/step - loss: 0.1540 - acc: 0.9533 - val_loss: 0.1145 - val_acc: 0.9643\n",
      "Epoch 4/10\n",
      "60000/60000 [==============================] - 1s 19us/step - loss: 0.1278 - acc: 0.9615 - val_loss: 0.1015 - val_acc: 0.9689\n",
      "Epoch 5/10\n",
      "60000/60000 [==============================] - 1s 19us/step - loss: 0.1126 - acc: 0.9662 - val_loss: 0.0977 - val_acc: 0.9697\n",
      "Epoch 6/10\n",
      "60000/60000 [==============================] - 1s 20us/step - loss: 0.1017 - acc: 0.9688 - val_loss: 0.0935 - val_acc: 0.9724\n",
      "Epoch 7/10\n",
      "60000/60000 [==============================] - 1s 18us/step - loss: 0.0942 - acc: 0.9708 - val_loss: 0.0922 - val_acc: 0.9743\n",
      "Epoch 8/10\n",
      "60000/60000 [==============================] - 1s 18us/step - loss: 0.0859 - acc: 0.9735 - val_loss: 0.0866 - val_acc: 0.9756\n",
      "Epoch 9/10\n",
      "60000/60000 [==============================] - 1s 19us/step - loss: 0.0794 - acc: 0.9758 - val_loss: 0.0870 - val_acc: 0.9750\n",
      "Epoch 10/10\n",
      "60000/60000 [==============================] - 1s 19us/step - loss: 0.0751 - acc: 0.9774 - val_loss: 0.0904 - val_acc: 0.9757\n",
      "test loss: 0.090385906051239\n",
      "test accuracy: 0.9757\n"
     ]
    }
   ],
   "source": [
    "# 60,000 train images, 10,000 test images\n",
    "# Images are 28*28, array length should be 784\n",
    "\n",
    "X_train = X_train.reshape(60000, 784)\n",
    "X_test = X_test.reshape(10000, 784)\n",
    "\n",
    "# Convert to float32 for type consistency\n",
    "X_train = X_train.astype('float32')\n",
    "X_test = X_test.astype('float32')\n",
    "\n",
    "# Normalize values from 0-255 (256 values of pixels) to 1\n",
    "X_train /= 255\n",
    "X_test /= 255\n",
    "\n",
    "# print sample sizes\n",
    "print('X_train shape: {}\\nX_test shape: {}'.format(X_train.shape,\n",
    "                                                   X_test.shape))\n",
    "\n",
    "# Convert class vectors to binary class matrices\n",
    "# Instead of one column with 10 values, create 10 binary columns\n",
    "y_train = keras.utils.to_categorical(y_train, 10)\n",
    "y_test = keras.utils.to_categorical(y_test, 10)\n",
    "\n",
    "# instantiate model\n",
    "model = Sequential()\n",
    "\n",
    "# add dense layers to create fully connected MLP\n",
    "# note: input shape is specified only for the first layer\n",
    "model.add(Dense(64, activation='relu', input_shape=(784,)))\n",
    "model.add(Dropout(0.1)) # dropout layers removing features to reduce overfitting\n",
    "\n",
    "model.add(Dense(64, activation='relu'))\n",
    "model.add(Dropout(0.1))\n",
    "\n",
    "model.add(Dense(10, activation='softmax')) # set last layer units equal to number of classes\n",
    "\n",
    "model.summary()\n",
    "\n",
    "# compile model\n",
    "model.compile(\n",
    "    loss='categorical_crossentropy',\n",
    "    optimizer=RMSprop(),\n",
    "    metrics=['accuracy']\n",
    ")\n",
    "# train/evaluate\n",
    "history = model.fit(\n",
    "    X_train,\n",
    "    y_train,\n",
    "    batch_size=128,\n",
    "    epochs=10,\n",
    "    verbose=1,\n",
    "    validation_data=(X_test, y_test)\n",
    ")\n",
    "score = model.evaluate(X_test, y_test, verbose=0)\n",
    "print('test loss: {}'.format(score[0]))\n",
    "print('test accuracy: {}'.format(score[1]))"
   ]
  },
  {
   "cell_type": "code",
   "execution_count": 17,
   "metadata": {},
   "outputs": [],
   "source": [
    "from sklearn.model_selection import GridSearchCV\n",
    "from keras.wrappers.scikit_learn import KerasClassifier\n",
    "import time"
   ]
  },
  {
   "cell_type": "code",
   "execution_count": 23,
   "metadata": {},
   "outputs": [],
   "source": [
    "def create_mlp(optimizer='rmsprop', loss='categorical_crossentropy'):\n",
    "    model = Sequential()\n",
    "\n",
    "    # add layers\n",
    "    model.add(Dense(64, activation='relu', input_shape=(784,)))\n",
    "    model.add(Dropout(0.1)) # dropout layers removing features to reduce overfitting\n",
    "\n",
    "    model.add(Dense(64, activation='relu'))\n",
    "    model.add(Dropout(0.1))\n",
    "\n",
    "    model.add(Dense(10, activation='softmax')) # set last layer units equal to number of classes\n",
    "\n",
    "    #model.summary()\n",
    "\n",
    "    # compile model\n",
    "    model.compile(\n",
    "        loss=loss,\n",
    "        optimizer=optimizer,\n",
    "        metrics=['accuracy']\n",
    "    )\n",
    "    \n",
    "    return model"
   ]
  },
  {
   "cell_type": "code",
   "execution_count": 26,
   "metadata": {},
   "outputs": [],
   "source": [
    "neural_net = KerasClassifier(build_fn=create_mlp, verbose=0)\n",
    "\n",
    "optimizers = ['adagrad', 'adamax']\n",
    "loss = ['poisson']\n",
    "batches = [128]\n",
    "epochs = [100]\n",
    "\n",
    "params = dict(optimizer=optimizers, loss=loss, batch_size=batches, epochs=epochs)\n",
    "grid = GridSearchCV(estimator=neural_net, param_grid=params)"
   ]
  },
  {
   "cell_type": "code",
   "execution_count": 27,
   "metadata": {},
   "outputs": [
    {
     "name": "stdout",
     "output_type": "stream",
     "text": [
      "params: {'batch_size': 128, 'epochs': 100, 'loss': 'poisson', 'optimizer': 'adamax'}\n",
      "score: 0.97355\n",
      "gridsearch runtime: 937.8041977882385\n"
     ]
    }
   ],
   "source": [
    "start_time = time.time()\n",
    "grid_results = grid.fit(X_train, y_train)\n",
    "\n",
    "print('params: {}'.format(grid_results.best_params_))\n",
    "print('score: {}'.format(grid_results.best_score_))\n",
    "print('gridsearch runtime: {}'.format(time.time() - start_time))"
   ]
  },
  {
   "cell_type": "code",
   "execution_count": 29,
   "metadata": {},
   "outputs": [
    {
     "name": "stdout",
     "output_type": "stream",
     "text": [
      "test loss: 0.11076272282600402\n",
      "test accuracy: 0.9787\n"
     ]
    }
   ],
   "source": [
    "# compile model\n",
    "model.compile(\n",
    "    loss='poisson',\n",
    "    optimizer='adagrad',\n",
    "    metrics=['accuracy']\n",
    ")\n",
    "# train/evaluate\n",
    "history = model.fit(\n",
    "    X_train,\n",
    "    y_train,\n",
    "    batch_size=64,\n",
    "    epochs=100,\n",
    "    verbose=0,\n",
    "    validation_data=(X_test, y_test)\n",
    ")\n",
    "score = model.evaluate(X_test, y_test, verbose=0)\n",
    "print('test loss: {}'.format(score[0]))\n",
    "print('test accuracy: {}'.format(score[1]))"
   ]
  },
  {
   "cell_type": "code",
   "execution_count": 30,
   "metadata": {},
   "outputs": [
    {
     "name": "stdout",
     "output_type": "stream",
     "text": [
      "test loss: 0.11936670499945304\n",
      "test accuracy: 0.9787\n"
     ]
    }
   ],
   "source": [
    "# compile model\n",
    "model.compile(\n",
    "    loss='categorical_crossentropy',\n",
    "    optimizer='adamax',\n",
    "    metrics=['accuracy']\n",
    ")\n",
    "# train/evaluate\n",
    "history = model.fit(\n",
    "    X_train,\n",
    "    y_train,\n",
    "    batch_size=128,\n",
    "    epochs=100,\n",
    "    verbose=0,\n",
    "    validation_data=(X_test, y_test)\n",
    ")\n",
    "score = model.evaluate(X_test, y_test, verbose=0)\n",
    "print('test loss: {}'.format(score[0]))\n",
    "print('test accuracy: {}'.format(score[1]))"
   ]
  },
  {
   "cell_type": "code",
   "execution_count": null,
   "metadata": {},
   "outputs": [],
   "source": []
  }
 ],
 "metadata": {
  "kernelspec": {
   "display_name": "Python 3",
   "language": "python",
   "name": "python3"
  },
  "language_info": {
   "codemirror_mode": {
    "name": "ipython",
    "version": 3
   },
   "file_extension": ".py",
   "mimetype": "text/x-python",
   "name": "python",
   "nbconvert_exporter": "python",
   "pygments_lexer": "ipython3",
   "version": "3.6.5"
  }
 },
 "nbformat": 4,
 "nbformat_minor": 2
}
