{
 "cells": [
  {
   "cell_type": "code",
   "execution_count": 1,
   "metadata": {},
   "outputs": [],
   "source": [
    "import numpy as np\n",
    "import pandas as pd\n",
    "import scipy\n",
    "from datetime import datetime\n",
    "import datetime as dt\n",
    "import matplotlib.pyplot as plt\n",
    "import seaborn as sns\n",
    "import warnings\n",
    "\n",
    "%matplotlib inline\n",
    "warnings.filterwarnings('ignore')\n",
    "sns.set_style('whitegrid')"
   ]
  },
  {
   "cell_type": "code",
   "execution_count": 2,
   "metadata": {},
   "outputs": [],
   "source": [
    "eth_price_raw = pd.read_csv('ethereum_price.csv')"
   ]
  },
  {
   "cell_type": "code",
   "execution_count": 3,
   "metadata": {},
   "outputs": [
    {
     "name": "stdout",
     "output_type": "stream",
     "text": [
      "(929, 2)\n"
     ]
    },
    {
     "data": {
      "text/html": [
       "<div>\n",
       "<style scoped>\n",
       "    .dataframe tbody tr th:only-of-type {\n",
       "        vertical-align: middle;\n",
       "    }\n",
       "\n",
       "    .dataframe tbody tr th {\n",
       "        vertical-align: top;\n",
       "    }\n",
       "\n",
       "    .dataframe thead th {\n",
       "        text-align: right;\n",
       "    }\n",
       "</style>\n",
       "<table border=\"1\" class=\"dataframe\">\n",
       "  <thead>\n",
       "    <tr style=\"text-align: right;\">\n",
       "      <th></th>\n",
       "      <th>Date</th>\n",
       "      <th>Close</th>\n",
       "    </tr>\n",
       "  </thead>\n",
       "  <tbody>\n",
       "    <tr>\n",
       "      <th>0</th>\n",
       "      <td>2015-08-07</td>\n",
       "      <td>2.770000</td>\n",
       "    </tr>\n",
       "    <tr>\n",
       "      <th>1</th>\n",
       "      <td>2015-08-08</td>\n",
       "      <td>0.753325</td>\n",
       "    </tr>\n",
       "    <tr>\n",
       "      <th>2</th>\n",
       "      <td>2015-08-09</td>\n",
       "      <td>0.701897</td>\n",
       "    </tr>\n",
       "    <tr>\n",
       "      <th>3</th>\n",
       "      <td>2015-08-10</td>\n",
       "      <td>0.708448</td>\n",
       "    </tr>\n",
       "    <tr>\n",
       "      <th>4</th>\n",
       "      <td>2015-08-11</td>\n",
       "      <td>1.070000</td>\n",
       "    </tr>\n",
       "  </tbody>\n",
       "</table>\n",
       "</div>"
      ],
      "text/plain": [
       "        Date     Close\n",
       "0 2015-08-07  2.770000\n",
       "1 2015-08-08  0.753325\n",
       "2 2015-08-09  0.701897\n",
       "3 2015-08-10  0.708448\n",
       "4 2015-08-11  1.070000"
      ]
     },
     "execution_count": 3,
     "metadata": {},
     "output_type": "execute_result"
    }
   ],
   "source": [
    "# set df to manipulate\n",
    "eth_price = eth_price_raw[['Date', 'Close']].copy()\n",
    "\n",
    "# convert date to datetime\n",
    "eth_price['Date'] = pd.to_datetime(eth_price['Date'], format='%b %d, %Y')\n",
    "eth_price.sort_values('Date', inplace=True)\n",
    "eth_price.reset_index(drop=True, inplace=True)\n",
    "print(eth_price.shape)\n",
    "eth_price.head()"
   ]
  },
  {
   "cell_type": "code",
   "execution_count": 4,
   "metadata": {},
   "outputs": [
    {
     "name": "stdout",
     "output_type": "stream",
     "text": [
      "0   2015-08-07\n",
      "Name: Date, dtype: datetime64[ns]\n",
      "928   2018-02-20\n",
      "Name: Date, dtype: datetime64[ns]\n",
      "929\n"
     ]
    }
   ],
   "source": [
    "print('{}\\n{}'.format(eth_price.Date.head(1),\n",
    "                      eth_price.Date.tail(1)))\n",
    "print(len(eth_price))"
   ]
  },
  {
   "cell_type": "markdown",
   "metadata": {},
   "source": [
    "### Exogenous variables:\n",
    "- **[CBOE Volatility Index (VIX)](https://en.wikipedia.org/wiki/VIX)**: measure of stock market's expectation of volatility implied by S&P 500 index options, aka 'fear index'\n",
    "     - [Data Source](http://www.cboe.com/products/vix-index-volatility/vix-options-and-futures/vix-index/vix-historical-data)\n",
    "- **[US Dollar Index (DXY)](https://en.wikipedia.org/wiki/U.S._Dollar_Index)**: measure of value of USD relative to a basket of foreign currencies\n",
    "    - [Data Source](https://quotes.wsj.com/index/DXY/historical-prices)\n",
    "- **[Federal Funds Rate (EFFR)](https://en.wikipedia.org/wiki/Federal_funds_rate)**: the interest rate at which depository institutions (banks and credit unions) lend reserve balances to other depository institutions overnight, on an uncollateralized basis \n",
    "    - [Data Source](https://fred.stlouisfed.org/series/EFFR)"
   ]
  },
  {
   "cell_type": "code",
   "execution_count": 5,
   "metadata": {},
   "outputs": [
    {
     "name": "stdout",
     "output_type": "stream",
     "text": [
      "<class 'pandas.core.frame.DataFrame'>\n",
      "RangeIndex: 3693 entries, 0 to 3692\n",
      "Data columns (total 5 columns):\n",
      "Date         3693 non-null object\n",
      "VIX Open     3693 non-null float64\n",
      "VIX High     3693 non-null float64\n",
      "VIX Low      3693 non-null float64\n",
      "VIX Close    3693 non-null float64\n",
      "dtypes: float64(4), object(1)\n",
      "memory usage: 144.3+ KB\n",
      "None\n"
     ]
    }
   ],
   "source": [
    "vix_raw = pd.read_csv('vixcurrent.csv', header=1)\n",
    "print(vix_raw.info())"
   ]
  },
  {
   "cell_type": "code",
   "execution_count": 6,
   "metadata": {},
   "outputs": [
    {
     "data": {
      "text/html": [
       "<div>\n",
       "<style scoped>\n",
       "    .dataframe tbody tr th:only-of-type {\n",
       "        vertical-align: middle;\n",
       "    }\n",
       "\n",
       "    .dataframe tbody tr th {\n",
       "        vertical-align: top;\n",
       "    }\n",
       "\n",
       "    .dataframe thead th {\n",
       "        text-align: right;\n",
       "    }\n",
       "</style>\n",
       "<table border=\"1\" class=\"dataframe\">\n",
       "  <thead>\n",
       "    <tr style=\"text-align: right;\">\n",
       "      <th></th>\n",
       "      <th>Date</th>\n",
       "      <th>VIX Open</th>\n",
       "      <th>VIX High</th>\n",
       "      <th>VIX Low</th>\n",
       "      <th>VIX Close</th>\n",
       "    </tr>\n",
       "  </thead>\n",
       "  <tbody>\n",
       "    <tr>\n",
       "      <th>0</th>\n",
       "      <td>1/2/2004</td>\n",
       "      <td>17.96</td>\n",
       "      <td>18.68</td>\n",
       "      <td>17.54</td>\n",
       "      <td>18.22</td>\n",
       "    </tr>\n",
       "  </tbody>\n",
       "</table>\n",
       "</div>"
      ],
      "text/plain": [
       "       Date  VIX Open  VIX High  VIX Low  VIX Close\n",
       "0  1/2/2004     17.96     18.68    17.54      18.22"
      ]
     },
     "execution_count": 6,
     "metadata": {},
     "output_type": "execute_result"
    }
   ],
   "source": [
    "vix_raw[:1]"
   ]
  },
  {
   "cell_type": "code",
   "execution_count": 7,
   "metadata": {},
   "outputs": [
    {
     "data": {
      "text/html": [
       "<div>\n",
       "<style scoped>\n",
       "    .dataframe tbody tr th:only-of-type {\n",
       "        vertical-align: middle;\n",
       "    }\n",
       "\n",
       "    .dataframe tbody tr th {\n",
       "        vertical-align: top;\n",
       "    }\n",
       "\n",
       "    .dataframe thead th {\n",
       "        text-align: right;\n",
       "    }\n",
       "</style>\n",
       "<table border=\"1\" class=\"dataframe\">\n",
       "  <thead>\n",
       "    <tr style=\"text-align: right;\">\n",
       "      <th></th>\n",
       "      <th>Date</th>\n",
       "      <th>VIX Close</th>\n",
       "    </tr>\n",
       "  </thead>\n",
       "  <tbody>\n",
       "    <tr>\n",
       "      <th>0</th>\n",
       "      <td>2004-01-02</td>\n",
       "      <td>18.22</td>\n",
       "    </tr>\n",
       "    <tr>\n",
       "      <th>1</th>\n",
       "      <td>2004-01-05</td>\n",
       "      <td>17.49</td>\n",
       "    </tr>\n",
       "    <tr>\n",
       "      <th>2</th>\n",
       "      <td>2004-01-06</td>\n",
       "      <td>16.73</td>\n",
       "    </tr>\n",
       "    <tr>\n",
       "      <th>3</th>\n",
       "      <td>2004-01-07</td>\n",
       "      <td>15.50</td>\n",
       "    </tr>\n",
       "    <tr>\n",
       "      <th>4</th>\n",
       "      <td>2004-01-08</td>\n",
       "      <td>15.61</td>\n",
       "    </tr>\n",
       "  </tbody>\n",
       "</table>\n",
       "</div>"
      ],
      "text/plain": [
       "        Date  VIX Close\n",
       "0 2004-01-02      18.22\n",
       "1 2004-01-05      17.49\n",
       "2 2004-01-06      16.73\n",
       "3 2004-01-07      15.50\n",
       "4 2004-01-08      15.61"
      ]
     },
     "execution_count": 7,
     "metadata": {},
     "output_type": "execute_result"
    }
   ],
   "source": [
    "vix_close = vix_raw[['Date', 'VIX Close']].copy()\n",
    "vix_close['Date'] = pd.to_datetime(vix_close['Date'], format='%m/%d/%Y')\n",
    "vix_close.sort_values('Date', inplace=True)\n",
    "vix_close.reset_index(drop=True, inplace=True)\n",
    "vix_close.head()"
   ]
  },
  {
   "cell_type": "code",
   "execution_count": 8,
   "metadata": {},
   "outputs": [],
   "source": [
    "vix_close = vix_close.loc[(vix_close['Date'] >= '2015-08-07')\n",
    "                          & (vix_close['Date'] <= '2018-02-20')]"
   ]
  },
  {
   "cell_type": "code",
   "execution_count": 9,
   "metadata": {},
   "outputs": [],
   "source": [
    "vix_close.reset_index(drop=True, inplace=True)"
   ]
  },
  {
   "cell_type": "code",
   "execution_count": 10,
   "metadata": {},
   "outputs": [
    {
     "data": {
      "text/html": [
       "<div>\n",
       "<style scoped>\n",
       "    .dataframe tbody tr th:only-of-type {\n",
       "        vertical-align: middle;\n",
       "    }\n",
       "\n",
       "    .dataframe tbody tr th {\n",
       "        vertical-align: top;\n",
       "    }\n",
       "\n",
       "    .dataframe thead th {\n",
       "        text-align: right;\n",
       "    }\n",
       "</style>\n",
       "<table border=\"1\" class=\"dataframe\">\n",
       "  <thead>\n",
       "    <tr style=\"text-align: right;\">\n",
       "      <th></th>\n",
       "      <th>Date</th>\n",
       "      <th>VIX Close</th>\n",
       "    </tr>\n",
       "  </thead>\n",
       "  <tbody>\n",
       "    <tr>\n",
       "      <th>634</th>\n",
       "      <td>2018-02-13</td>\n",
       "      <td>24.97</td>\n",
       "    </tr>\n",
       "    <tr>\n",
       "      <th>635</th>\n",
       "      <td>2018-02-14</td>\n",
       "      <td>19.26</td>\n",
       "    </tr>\n",
       "    <tr>\n",
       "      <th>636</th>\n",
       "      <td>2018-02-15</td>\n",
       "      <td>19.13</td>\n",
       "    </tr>\n",
       "    <tr>\n",
       "      <th>637</th>\n",
       "      <td>2018-02-16</td>\n",
       "      <td>19.46</td>\n",
       "    </tr>\n",
       "    <tr>\n",
       "      <th>638</th>\n",
       "      <td>2018-02-20</td>\n",
       "      <td>20.60</td>\n",
       "    </tr>\n",
       "  </tbody>\n",
       "</table>\n",
       "</div>"
      ],
      "text/plain": [
       "          Date  VIX Close\n",
       "634 2018-02-13      24.97\n",
       "635 2018-02-14      19.26\n",
       "636 2018-02-15      19.13\n",
       "637 2018-02-16      19.46\n",
       "638 2018-02-20      20.60"
      ]
     },
     "execution_count": 10,
     "metadata": {},
     "output_type": "execute_result"
    }
   ],
   "source": [
    "vix_close.tail()"
   ]
  },
  {
   "cell_type": "code",
   "execution_count": 11,
   "metadata": {},
   "outputs": [
    {
     "name": "stdout",
     "output_type": "stream",
     "text": [
      "(639, 2)\n"
     ]
    }
   ],
   "source": [
    "print(vix_close.shape)"
   ]
  },
  {
   "cell_type": "code",
   "execution_count": 12,
   "metadata": {},
   "outputs": [
    {
     "data": {
      "text/html": [
       "<div>\n",
       "<style scoped>\n",
       "    .dataframe tbody tr th:only-of-type {\n",
       "        vertical-align: middle;\n",
       "    }\n",
       "\n",
       "    .dataframe tbody tr th {\n",
       "        vertical-align: top;\n",
       "    }\n",
       "\n",
       "    .dataframe thead th {\n",
       "        text-align: right;\n",
       "    }\n",
       "</style>\n",
       "<table border=\"1\" class=\"dataframe\">\n",
       "  <thead>\n",
       "    <tr style=\"text-align: right;\">\n",
       "      <th></th>\n",
       "      <th>date</th>\n",
       "      <th>eth_close</th>\n",
       "      <th>vix_close</th>\n",
       "    </tr>\n",
       "  </thead>\n",
       "  <tbody>\n",
       "    <tr>\n",
       "      <th>0</th>\n",
       "      <td>2015-08-07</td>\n",
       "      <td>2.770000</td>\n",
       "      <td>13.39</td>\n",
       "    </tr>\n",
       "    <tr>\n",
       "      <th>1</th>\n",
       "      <td>2015-08-08</td>\n",
       "      <td>0.753325</td>\n",
       "      <td>NaN</td>\n",
       "    </tr>\n",
       "    <tr>\n",
       "      <th>2</th>\n",
       "      <td>2015-08-09</td>\n",
       "      <td>0.701897</td>\n",
       "      <td>NaN</td>\n",
       "    </tr>\n",
       "    <tr>\n",
       "      <th>3</th>\n",
       "      <td>2015-08-10</td>\n",
       "      <td>0.708448</td>\n",
       "      <td>12.23</td>\n",
       "    </tr>\n",
       "    <tr>\n",
       "      <th>4</th>\n",
       "      <td>2015-08-11</td>\n",
       "      <td>1.070000</td>\n",
       "      <td>13.71</td>\n",
       "    </tr>\n",
       "    <tr>\n",
       "      <th>5</th>\n",
       "      <td>2015-08-12</td>\n",
       "      <td>1.220000</td>\n",
       "      <td>13.61</td>\n",
       "    </tr>\n",
       "    <tr>\n",
       "      <th>6</th>\n",
       "      <td>2015-08-13</td>\n",
       "      <td>1.830000</td>\n",
       "      <td>13.49</td>\n",
       "    </tr>\n",
       "    <tr>\n",
       "      <th>7</th>\n",
       "      <td>2015-08-14</td>\n",
       "      <td>1.830000</td>\n",
       "      <td>12.83</td>\n",
       "    </tr>\n",
       "    <tr>\n",
       "      <th>8</th>\n",
       "      <td>2015-08-15</td>\n",
       "      <td>1.690000</td>\n",
       "      <td>NaN</td>\n",
       "    </tr>\n",
       "    <tr>\n",
       "      <th>9</th>\n",
       "      <td>2015-08-16</td>\n",
       "      <td>1.570000</td>\n",
       "      <td>NaN</td>\n",
       "    </tr>\n",
       "  </tbody>\n",
       "</table>\n",
       "</div>"
      ],
      "text/plain": [
       "        date  eth_close  vix_close\n",
       "0 2015-08-07   2.770000      13.39\n",
       "1 2015-08-08   0.753325        NaN\n",
       "2 2015-08-09   0.701897        NaN\n",
       "3 2015-08-10   0.708448      12.23\n",
       "4 2015-08-11   1.070000      13.71\n",
       "5 2015-08-12   1.220000      13.61\n",
       "6 2015-08-13   1.830000      13.49\n",
       "7 2015-08-14   1.830000      12.83\n",
       "8 2015-08-15   1.690000        NaN\n",
       "9 2015-08-16   1.570000        NaN"
      ]
     },
     "execution_count": 12,
     "metadata": {},
     "output_type": "execute_result"
    }
   ],
   "source": [
    "eth_exog = eth_price.merge(vix_close, how='outer', on='Date')\n",
    "eth_exog.columns = ['date', 'eth_close', 'vix_close']\n",
    "eth_exog.head(10)"
   ]
  },
  {
   "cell_type": "code",
   "execution_count": 13,
   "metadata": {},
   "outputs": [
    {
     "data": {
      "text/html": [
       "<div>\n",
       "<style scoped>\n",
       "    .dataframe tbody tr th:only-of-type {\n",
       "        vertical-align: middle;\n",
       "    }\n",
       "\n",
       "    .dataframe tbody tr th {\n",
       "        vertical-align: top;\n",
       "    }\n",
       "\n",
       "    .dataframe thead th {\n",
       "        text-align: right;\n",
       "    }\n",
       "</style>\n",
       "<table border=\"1\" class=\"dataframe\">\n",
       "  <thead>\n",
       "    <tr style=\"text-align: right;\">\n",
       "      <th></th>\n",
       "      <th>Date</th>\n",
       "      <th>Open</th>\n",
       "      <th>High</th>\n",
       "      <th>Low</th>\n",
       "      <th>Close</th>\n",
       "    </tr>\n",
       "  </thead>\n",
       "  <tbody>\n",
       "    <tr>\n",
       "      <th>0</th>\n",
       "      <td>02/20/18</td>\n",
       "      <td>89.24</td>\n",
       "      <td>89.8</td>\n",
       "      <td>89.22</td>\n",
       "      <td>89.72</td>\n",
       "    </tr>\n",
       "  </tbody>\n",
       "</table>\n",
       "</div>"
      ],
      "text/plain": [
       "       Date   Open   High    Low   Close\n",
       "0  02/20/18  89.24   89.8  89.22   89.72"
      ]
     },
     "execution_count": 13,
     "metadata": {},
     "output_type": "execute_result"
    }
   ],
   "source": [
    "dxy_raw = pd.read_csv('dxy_historical.csv')\n",
    "dxy_raw[:1]"
   ]
  },
  {
   "cell_type": "code",
   "execution_count": 14,
   "metadata": {},
   "outputs": [
    {
     "name": "stdout",
     "output_type": "stream",
     "text": [
      "<class 'pandas.core.frame.DataFrame'>\n",
      "RangeIndex: 658 entries, 0 to 657\n",
      "Data columns (total 5 columns):\n",
      "Date      658 non-null object\n",
      " Open     658 non-null float64\n",
      " High     658 non-null float64\n",
      " Low      658 non-null float64\n",
      " Close    658 non-null float64\n",
      "dtypes: float64(4), object(1)\n",
      "memory usage: 25.8+ KB\n"
     ]
    }
   ],
   "source": [
    "dxy_raw.info()"
   ]
  },
  {
   "cell_type": "code",
   "execution_count": 15,
   "metadata": {},
   "outputs": [
    {
     "data": {
      "text/html": [
       "<div>\n",
       "<style scoped>\n",
       "    .dataframe tbody tr th:only-of-type {\n",
       "        vertical-align: middle;\n",
       "    }\n",
       "\n",
       "    .dataframe tbody tr th {\n",
       "        vertical-align: top;\n",
       "    }\n",
       "\n",
       "    .dataframe thead th {\n",
       "        text-align: right;\n",
       "    }\n",
       "</style>\n",
       "<table border=\"1\" class=\"dataframe\">\n",
       "  <thead>\n",
       "    <tr style=\"text-align: right;\">\n",
       "      <th></th>\n",
       "      <th>date</th>\n",
       "      <th>close</th>\n",
       "    </tr>\n",
       "  </thead>\n",
       "  <tbody>\n",
       "    <tr>\n",
       "      <th>0</th>\n",
       "      <td>2015-08-07</td>\n",
       "      <td>97.56</td>\n",
       "    </tr>\n",
       "    <tr>\n",
       "      <th>1</th>\n",
       "      <td>2015-08-10</td>\n",
       "      <td>97.19</td>\n",
       "    </tr>\n",
       "    <tr>\n",
       "      <th>2</th>\n",
       "      <td>2015-08-11</td>\n",
       "      <td>97.20</td>\n",
       "    </tr>\n",
       "    <tr>\n",
       "      <th>3</th>\n",
       "      <td>2015-08-12</td>\n",
       "      <td>96.29</td>\n",
       "    </tr>\n",
       "    <tr>\n",
       "      <th>4</th>\n",
       "      <td>2015-08-13</td>\n",
       "      <td>96.36</td>\n",
       "    </tr>\n",
       "  </tbody>\n",
       "</table>\n",
       "</div>"
      ],
      "text/plain": [
       "        date  close\n",
       "0 2015-08-07  97.56\n",
       "1 2015-08-10  97.19\n",
       "2 2015-08-11  97.20\n",
       "3 2015-08-12  96.29\n",
       "4 2015-08-13  96.36"
      ]
     },
     "execution_count": 15,
     "metadata": {},
     "output_type": "execute_result"
    }
   ],
   "source": [
    "dxy_close = dxy_raw[['Date', ' Close']].copy()\n",
    "dxy_close['Date'] = pd.to_datetime(dxy_close['Date'], format='%x')\n",
    "dxy_close.sort_values('Date', inplace=True)\n",
    "dxy_close.reset_index(drop=True, inplace=True)\n",
    "dxy_close.columns = ['date', 'close']\n",
    "dxy_close.head()"
   ]
  },
  {
   "cell_type": "code",
   "execution_count": 16,
   "metadata": {},
   "outputs": [
    {
     "name": "stdout",
     "output_type": "stream",
     "text": [
      "(658, 2)\n"
     ]
    }
   ],
   "source": [
    "print(dxy_close.shape)"
   ]
  },
  {
   "cell_type": "code",
   "execution_count": 17,
   "metadata": {},
   "outputs": [
    {
     "data": {
      "text/html": [
       "<div>\n",
       "<style scoped>\n",
       "    .dataframe tbody tr th:only-of-type {\n",
       "        vertical-align: middle;\n",
       "    }\n",
       "\n",
       "    .dataframe tbody tr th {\n",
       "        vertical-align: top;\n",
       "    }\n",
       "\n",
       "    .dataframe thead th {\n",
       "        text-align: right;\n",
       "    }\n",
       "</style>\n",
       "<table border=\"1\" class=\"dataframe\">\n",
       "  <thead>\n",
       "    <tr style=\"text-align: right;\">\n",
       "      <th></th>\n",
       "      <th>date</th>\n",
       "      <th>eth_close</th>\n",
       "      <th>vix_close</th>\n",
       "      <th>dxy_close</th>\n",
       "    </tr>\n",
       "  </thead>\n",
       "  <tbody>\n",
       "    <tr>\n",
       "      <th>0</th>\n",
       "      <td>2015-08-07</td>\n",
       "      <td>2.770000</td>\n",
       "      <td>13.39</td>\n",
       "      <td>97.56</td>\n",
       "    </tr>\n",
       "    <tr>\n",
       "      <th>1</th>\n",
       "      <td>2015-08-08</td>\n",
       "      <td>0.753325</td>\n",
       "      <td>NaN</td>\n",
       "      <td>NaN</td>\n",
       "    </tr>\n",
       "    <tr>\n",
       "      <th>2</th>\n",
       "      <td>2015-08-09</td>\n",
       "      <td>0.701897</td>\n",
       "      <td>NaN</td>\n",
       "      <td>NaN</td>\n",
       "    </tr>\n",
       "    <tr>\n",
       "      <th>3</th>\n",
       "      <td>2015-08-10</td>\n",
       "      <td>0.708448</td>\n",
       "      <td>12.23</td>\n",
       "      <td>97.19</td>\n",
       "    </tr>\n",
       "    <tr>\n",
       "      <th>4</th>\n",
       "      <td>2015-08-11</td>\n",
       "      <td>1.070000</td>\n",
       "      <td>13.71</td>\n",
       "      <td>97.20</td>\n",
       "    </tr>\n",
       "    <tr>\n",
       "      <th>5</th>\n",
       "      <td>2015-08-12</td>\n",
       "      <td>1.220000</td>\n",
       "      <td>13.61</td>\n",
       "      <td>96.29</td>\n",
       "    </tr>\n",
       "    <tr>\n",
       "      <th>6</th>\n",
       "      <td>2015-08-13</td>\n",
       "      <td>1.830000</td>\n",
       "      <td>13.49</td>\n",
       "      <td>96.36</td>\n",
       "    </tr>\n",
       "    <tr>\n",
       "      <th>7</th>\n",
       "      <td>2015-08-14</td>\n",
       "      <td>1.830000</td>\n",
       "      <td>12.83</td>\n",
       "      <td>96.59</td>\n",
       "    </tr>\n",
       "    <tr>\n",
       "      <th>8</th>\n",
       "      <td>2015-08-15</td>\n",
       "      <td>1.690000</td>\n",
       "      <td>NaN</td>\n",
       "      <td>NaN</td>\n",
       "    </tr>\n",
       "    <tr>\n",
       "      <th>9</th>\n",
       "      <td>2015-08-16</td>\n",
       "      <td>1.570000</td>\n",
       "      <td>NaN</td>\n",
       "      <td>NaN</td>\n",
       "    </tr>\n",
       "  </tbody>\n",
       "</table>\n",
       "</div>"
      ],
      "text/plain": [
       "        date  eth_close  vix_close  dxy_close\n",
       "0 2015-08-07   2.770000      13.39      97.56\n",
       "1 2015-08-08   0.753325        NaN        NaN\n",
       "2 2015-08-09   0.701897        NaN        NaN\n",
       "3 2015-08-10   0.708448      12.23      97.19\n",
       "4 2015-08-11   1.070000      13.71      97.20\n",
       "5 2015-08-12   1.220000      13.61      96.29\n",
       "6 2015-08-13   1.830000      13.49      96.36\n",
       "7 2015-08-14   1.830000      12.83      96.59\n",
       "8 2015-08-15   1.690000        NaN        NaN\n",
       "9 2015-08-16   1.570000        NaN        NaN"
      ]
     },
     "execution_count": 17,
     "metadata": {},
     "output_type": "execute_result"
    }
   ],
   "source": [
    "eth_exog = eth_exog.merge(dxy_close, how='outer', on='date')\n",
    "eth_exog.columns = ['date', 'eth_close', 'vix_close', 'dxy_close']\n",
    "eth_exog.head(10)"
   ]
  },
  {
   "cell_type": "code",
   "execution_count": 18,
   "metadata": {},
   "outputs": [
    {
     "data": {
      "text/html": [
       "<div>\n",
       "<style scoped>\n",
       "    .dataframe tbody tr th:only-of-type {\n",
       "        vertical-align: middle;\n",
       "    }\n",
       "\n",
       "    .dataframe tbody tr th {\n",
       "        vertical-align: top;\n",
       "    }\n",
       "\n",
       "    .dataframe thead th {\n",
       "        text-align: right;\n",
       "    }\n",
       "</style>\n",
       "<table border=\"1\" class=\"dataframe\">\n",
       "  <thead>\n",
       "    <tr style=\"text-align: right;\">\n",
       "      <th></th>\n",
       "      <th>DATE</th>\n",
       "      <th>EFFR</th>\n",
       "    </tr>\n",
       "  </thead>\n",
       "  <tbody>\n",
       "    <tr>\n",
       "      <th>0</th>\n",
       "      <td>2013-09-03</td>\n",
       "      <td>0.09</td>\n",
       "    </tr>\n",
       "    <tr>\n",
       "      <th>1</th>\n",
       "      <td>2013-09-04</td>\n",
       "      <td>0.08</td>\n",
       "    </tr>\n",
       "    <tr>\n",
       "      <th>2</th>\n",
       "      <td>2013-09-05</td>\n",
       "      <td>0.08</td>\n",
       "    </tr>\n",
       "    <tr>\n",
       "      <th>3</th>\n",
       "      <td>2013-09-06</td>\n",
       "      <td>0.08</td>\n",
       "    </tr>\n",
       "    <tr>\n",
       "      <th>4</th>\n",
       "      <td>2013-09-09</td>\n",
       "      <td>0.08</td>\n",
       "    </tr>\n",
       "  </tbody>\n",
       "</table>\n",
       "</div>"
      ],
      "text/plain": [
       "         DATE  EFFR\n",
       "0  2013-09-03  0.09\n",
       "1  2013-09-04  0.08\n",
       "2  2013-09-05  0.08\n",
       "3  2013-09-06  0.08\n",
       "4  2013-09-09  0.08"
      ]
     },
     "execution_count": 18,
     "metadata": {},
     "output_type": "execute_result"
    }
   ],
   "source": [
    "effr_raw = pd.read_csv('EFFR.csv')\n",
    "effr_raw.head()"
   ]
  },
  {
   "cell_type": "code",
   "execution_count": 20,
   "metadata": {},
   "outputs": [
    {
     "data": {
      "text/html": [
       "<div>\n",
       "<style scoped>\n",
       "    .dataframe tbody tr th:only-of-type {\n",
       "        vertical-align: middle;\n",
       "    }\n",
       "\n",
       "    .dataframe tbody tr th {\n",
       "        vertical-align: top;\n",
       "    }\n",
       "\n",
       "    .dataframe thead th {\n",
       "        text-align: right;\n",
       "    }\n",
       "</style>\n",
       "<table border=\"1\" class=\"dataframe\">\n",
       "  <thead>\n",
       "    <tr style=\"text-align: right;\">\n",
       "      <th></th>\n",
       "      <th>date</th>\n",
       "      <th>effr</th>\n",
       "    </tr>\n",
       "  </thead>\n",
       "  <tbody>\n",
       "    <tr>\n",
       "      <th>0</th>\n",
       "      <td>2015-08-07</td>\n",
       "      <td>0.14</td>\n",
       "    </tr>\n",
       "    <tr>\n",
       "      <th>1</th>\n",
       "      <td>2015-08-10</td>\n",
       "      <td>0.14</td>\n",
       "    </tr>\n",
       "    <tr>\n",
       "      <th>2</th>\n",
       "      <td>2015-08-11</td>\n",
       "      <td>0.15</td>\n",
       "    </tr>\n",
       "    <tr>\n",
       "      <th>3</th>\n",
       "      <td>2015-08-12</td>\n",
       "      <td>0.15</td>\n",
       "    </tr>\n",
       "    <tr>\n",
       "      <th>4</th>\n",
       "      <td>2015-08-13</td>\n",
       "      <td>0.15</td>\n",
       "    </tr>\n",
       "  </tbody>\n",
       "</table>\n",
       "</div>"
      ],
      "text/plain": [
       "        date  effr\n",
       "0 2015-08-07  0.14\n",
       "1 2015-08-10  0.14\n",
       "2 2015-08-11  0.15\n",
       "3 2015-08-12  0.15\n",
       "4 2015-08-13  0.15"
      ]
     },
     "execution_count": 20,
     "metadata": {},
     "output_type": "execute_result"
    }
   ],
   "source": [
    "effr = effr_raw.copy()\n",
    "effr.columns = ['date', 'effr']\n",
    "effr['date'] = pd.to_datetime(effr['date'], format='%Y-%m-%d')\n",
    "effr.sort_values('date', inplace=True)\n",
    "effr = effr.loc[(effr['date'] >= '2015-08-07') & (effr['date'] <= '2018-02-20')]\n",
    "effr.reset_index(drop=True, inplace=True)\n",
    "effr.head()"
   ]
  },
  {
   "cell_type": "code",
   "execution_count": 21,
   "metadata": {},
   "outputs": [
    {
     "name": "stdout",
     "output_type": "stream",
     "text": [
      "<class 'pandas.core.frame.DataFrame'>\n",
      "RangeIndex: 663 entries, 0 to 662\n",
      "Data columns (total 2 columns):\n",
      "date    663 non-null datetime64[ns]\n",
      "effr    663 non-null object\n",
      "dtypes: datetime64[ns](1), object(1)\n",
      "memory usage: 10.4+ KB\n"
     ]
    }
   ],
   "source": [
    "effr.info()"
   ]
  },
  {
   "cell_type": "code",
   "execution_count": 22,
   "metadata": {},
   "outputs": [
    {
     "data": {
      "text/plain": [
       "0.3       1\n",
       "0.82      1\n",
       "0.25      1\n",
       "0.55      1\n",
       "0.57      1\n",
       "1.34      1\n",
       "0.56      1\n",
       "0.20      1\n",
       "1.33      1\n",
       "0.35      1\n",
       "0.39      1\n",
       "1.17      2\n",
       "0.07      2\n",
       "1.06      2\n",
       "0.83      2\n",
       "1.41      2\n",
       "0.31      2\n",
       "0.08      2\n",
       "0.30      3\n",
       "1.07      4\n",
       "0.29      4\n",
       "0.15     13\n",
       "0.12     22\n",
       "0.13     25\n",
       "0.36     25\n",
       "0.14     26\n",
       "0.38     26\n",
       ".        27\n",
       "0.40     29\n",
       "0.4      37\n",
       "1.42     41\n",
       "0.41     47\n",
       "0.66     58\n",
       "0.91     61\n",
       "0.37     72\n",
       "1.16    118\n",
       "Name: effr, dtype: int64"
      ]
     },
     "execution_count": 22,
     "metadata": {},
     "output_type": "execute_result"
    }
   ],
   "source": [
    "effr['effr'].value_counts().sort_values(ascending=True)"
   ]
  },
  {
   "cell_type": "code",
   "execution_count": 29,
   "metadata": {},
   "outputs": [
    {
     "name": "stdout",
     "output_type": "stream",
     "text": [
      "          date effr\n",
      "21  2015-09-07    .\n",
      "46  2015-10-12    .\n",
      "68  2015-11-11    .\n",
      "79  2015-11-26    .\n",
      "100 2015-12-25    .\n",
      "105 2016-01-01    .\n",
      "116 2016-01-18    .\n",
      "136 2016-02-15    .\n",
      "211 2016-05-30    .\n",
      "236 2016-07-04    .\n",
      "281 2016-09-05    .\n",
      "306 2016-10-10    .\n",
      "330 2016-11-11    .\n",
      "339 2016-11-24    .\n",
      "361 2016-12-26    .\n",
      "366 2017-01-02    .\n",
      "376 2017-01-16    .\n",
      "401 2017-02-20    .\n",
      "471 2017-05-29    .\n",
      "497 2017-07-04    .\n",
      "541 2017-09-04    .\n",
      "566 2017-10-09    .\n",
      "599 2017-11-23    .\n",
      "621 2017-12-25    .\n",
      "626 2018-01-01    .\n",
      "636 2018-01-15    .\n",
      "661 2018-02-19    .\n",
      "\n",
      "27\n"
     ]
    }
   ],
   "source": [
    "print(effr.loc[effr['effr'] == '.'])\n",
    "print('\\n{}'.format(len(effr.loc[effr['effr'] == '.'])))"
   ]
  },
  {
   "cell_type": "code",
   "execution_count": 24,
   "metadata": {},
   "outputs": [],
   "source": [
    "eth_exog = eth_exog.merge(effr, how='outer', on='date')"
   ]
  },
  {
   "cell_type": "code",
   "execution_count": 25,
   "metadata": {},
   "outputs": [
    {
     "data": {
      "text/html": [
       "<div>\n",
       "<style scoped>\n",
       "    .dataframe tbody tr th:only-of-type {\n",
       "        vertical-align: middle;\n",
       "    }\n",
       "\n",
       "    .dataframe tbody tr th {\n",
       "        vertical-align: top;\n",
       "    }\n",
       "\n",
       "    .dataframe thead th {\n",
       "        text-align: right;\n",
       "    }\n",
       "</style>\n",
       "<table border=\"1\" class=\"dataframe\">\n",
       "  <thead>\n",
       "    <tr style=\"text-align: right;\">\n",
       "      <th></th>\n",
       "      <th>date</th>\n",
       "      <th>eth_close</th>\n",
       "      <th>vix_close</th>\n",
       "      <th>dxy_close</th>\n",
       "      <th>effr</th>\n",
       "    </tr>\n",
       "  </thead>\n",
       "  <tbody>\n",
       "    <tr>\n",
       "      <th>0</th>\n",
       "      <td>2015-08-07</td>\n",
       "      <td>2.770000</td>\n",
       "      <td>13.39</td>\n",
       "      <td>97.56</td>\n",
       "      <td>0.14</td>\n",
       "    </tr>\n",
       "    <tr>\n",
       "      <th>1</th>\n",
       "      <td>2015-08-08</td>\n",
       "      <td>0.753325</td>\n",
       "      <td>NaN</td>\n",
       "      <td>NaN</td>\n",
       "      <td>NaN</td>\n",
       "    </tr>\n",
       "    <tr>\n",
       "      <th>2</th>\n",
       "      <td>2015-08-09</td>\n",
       "      <td>0.701897</td>\n",
       "      <td>NaN</td>\n",
       "      <td>NaN</td>\n",
       "      <td>NaN</td>\n",
       "    </tr>\n",
       "    <tr>\n",
       "      <th>3</th>\n",
       "      <td>2015-08-10</td>\n",
       "      <td>0.708448</td>\n",
       "      <td>12.23</td>\n",
       "      <td>97.19</td>\n",
       "      <td>0.14</td>\n",
       "    </tr>\n",
       "    <tr>\n",
       "      <th>4</th>\n",
       "      <td>2015-08-11</td>\n",
       "      <td>1.070000</td>\n",
       "      <td>13.71</td>\n",
       "      <td>97.20</td>\n",
       "      <td>0.15</td>\n",
       "    </tr>\n",
       "  </tbody>\n",
       "</table>\n",
       "</div>"
      ],
      "text/plain": [
       "        date  eth_close  vix_close  dxy_close  effr\n",
       "0 2015-08-07   2.770000      13.39      97.56  0.14\n",
       "1 2015-08-08   0.753325        NaN        NaN   NaN\n",
       "2 2015-08-09   0.701897        NaN        NaN   NaN\n",
       "3 2015-08-10   0.708448      12.23      97.19  0.14\n",
       "4 2015-08-11   1.070000      13.71      97.20  0.15"
      ]
     },
     "execution_count": 25,
     "metadata": {},
     "output_type": "execute_result"
    }
   ],
   "source": [
    "eth_exog.head()"
   ]
  },
  {
   "cell_type": "code",
   "execution_count": 30,
   "metadata": {},
   "outputs": [
    {
     "name": "stdout",
     "output_type": "stream",
     "text": [
      "          date    eth_close  vix_close  dxy_close effr\n",
      "31  2015-09-07     1.250000        NaN      96.13    .\n",
      "66  2015-10-12     0.626030      16.17      94.88    .\n",
      "96  2015-11-11     0.791829      16.06      98.85    .\n",
      "111 2015-11-26     0.884183        NaN      99.87    .\n",
      "140 2015-12-25     0.870363        NaN        NaN    .\n",
      "147 2016-01-01     0.948024        NaN        NaN    .\n",
      "164 2016-01-18     1.430000        NaN      99.10    .\n",
      "192 2016-02-15     5.290000        NaN      96.62    .\n",
      "297 2016-05-30    12.730000        NaN      95.70    .\n",
      "332 2016-07-04    11.470000        NaN      95.51    .\n",
      "395 2016-09-05    11.720000        NaN      95.77    .\n",
      "430 2016-10-10    11.760000      13.38      96.89    .\n",
      "462 2016-11-11    10.290000      14.17      98.99    .\n",
      "475 2016-11-24     9.230000        NaN     101.69    .\n",
      "507 2016-12-26     7.270000        NaN        NaN    .\n",
      "514 2017-01-02     8.380000        NaN     102.78    .\n",
      "528 2017-01-16     9.640000        NaN     101.57    .\n",
      "563 2017-02-20    12.430000        NaN     100.90    .\n",
      "661 2017-05-29   194.910000        NaN      97.59    .\n",
      "697 2017-07-04   273.300000        NaN      96.26    .\n",
      "759 2017-09-04   295.170000        NaN      92.60    .\n",
      "794 2017-10-09   297.390000      10.33      93.67    .\n",
      "839 2017-11-23   410.170000        NaN      93.12    .\n",
      "871 2017-12-25   765.830000        NaN        NaN    .\n",
      "878 2018-01-01   772.640000        NaN        NaN    .\n",
      "892 2018-01-15  1291.920000        NaN      90.46    .\n",
      "927 2018-02-19   943.870000        NaN      89.10    .\n",
      "\n",
      "27\n"
     ]
    }
   ],
   "source": [
    "print(eth_exog.loc[eth_exog['effr'] == '.'])\n",
    "print('\\n{}'.format(len(eth_exog.loc[eth_exog['effr'] == '.'])))"
   ]
  },
  {
   "cell_type": "code",
   "execution_count": null,
   "metadata": {},
   "outputs": [],
   "source": []
  }
 ],
 "metadata": {
  "kernelspec": {
   "display_name": "Python 3",
   "language": "python",
   "name": "python3"
  },
  "language_info": {
   "codemirror_mode": {
    "name": "ipython",
    "version": 3
   },
   "file_extension": ".py",
   "mimetype": "text/x-python",
   "name": "python",
   "nbconvert_exporter": "python",
   "pygments_lexer": "ipython3",
   "version": "3.6.5"
  }
 },
 "nbformat": 4,
 "nbformat_minor": 2
}
